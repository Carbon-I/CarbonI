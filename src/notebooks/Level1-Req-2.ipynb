{
 "cells": [
  {
   "cell_type": "markdown",
   "metadata": {},
   "source": [
    "# Level 1 Requirement Flowdown Overview\n",
    "\n",
    "## L1-2 Localized Sources\n",
    "\n",
    "> Carbon-I shall enable point source observations ≥65 kg hr-1 for\n",
    "CH4, ≥50 tons hr-1 for CO2, and ≥0.65 ton hr-1 for CO over\n",
    "representative regions3 (90 km × 90 km) of interest for our reference\n",
    "scenario2 with a revisit capability of ≤7 days. "
   ]
  },
  {
   "cell_type": "markdown",
   "metadata": {},
   "source": [
    "Let's codify these numbers"
   ]
  },
  {
   "cell_type": "code",
   "execution_count": 24,
   "metadata": {},
   "outputs": [
    {
     "name": "stderr",
     "output_type": "stream",
     "text": [
      "\u001b[32m\u001b[1m  Activating\u001b[22m\u001b[39m project at `~/code/gitHub/CarbonI`\n"
     ]
    }
   ],
   "source": [
    "using Pkg\n",
    "Pkg.activate(\"../..\"); # Actives the environment at the root of the project\n",
    "# Using our Carbon-I and vSmartMOM packages (developed by our team)\n",
    "using CarbonI, vSmartMOM, Printf\n",
    "using CairoMakie, DelimitedFiles, Statistics, Interpolations, NCDatasets, InstrumentOperator, LinearAlgebra\n",
    "using Unitful, UnitfulEquivalences\n",
    "include(joinpath(\"../../src/Plots\", \"CI_colorsNew.jl\"));\n",
    "include(joinpath(dirname(pathof(CarbonI)), \"readSun.jl\"))\n",
    "include(joinpath(dirname(pathof(CarbonI)), \"Requirements\", \"common.jl\"))\n",
    "using LaTeXStrings\n",
    "set_theme!(theme_ggplot2())"
   ]
  },
  {
   "cell_type": "code",
   "execution_count": null,
   "metadata": {},
   "outputs": [
    {
     "data": {
      "text/plain": [
       "2-element Vector{Quantity{Float64, 𝐋, Unitful.FreeUnits{(m,), 𝐋, nothing}}}:\n",
       " 43.9875 m\n",
       " 30.3 m"
      ]
     },
     "metadata": {},
     "output_type": "display_data"
    }
   ],
   "source": [
    "# Define numbers from L1 Requirements\n",
    "\n",
    "# Flux limits:\n",
    "flux_detect_ch4_req = 65.0u\"kg/hr\"    # in kg CH4/hr\n",
    "flux_detect_co2_req = 35e3u\"kg/hr\"    # in kg CO2/hr\n",
    "flux_detect_co_req  = 0.65e3u\"kg/hr\"  # in kg CO/hr\n",
    "\n",
    "# GSD, required and CBE\n",
    "# Take larger pixels into account due to roll angles\n",
    "offNadir_factor = 1.275 # Account for GSD increase at 30/30 degree off nadir along and across track\n",
    "regional_mode_gsd_req = [(50.0*offNadir_factor)u\"m\", 50.0u\"m\"] # in m]\n",
    "regional_mode_gsd_cbe = [(34.5*offNadir_factor)u\"m\", 30.3u\"m\"] # in m]"
   ]
  },
  {
   "cell_type": "code",
   "execution_count": 26,
   "metadata": {},
   "outputs": [],
   "source": [
    "# Effective Pixel Sizes\n",
    "# (in m) for the required and CBE GSDs\n",
    "req_pix = sqrt(prod(gsd_req));\n",
    "cbe_pix = sqrt(prod(gsd_cbe));"
   ]
  },
  {
   "cell_type": "markdown",
   "metadata": {},
   "source": [
    "We can now derive the requirement for $\\sigma_{s}$ for each trace gas, as:\n",
    "$$\n",
    "Q_{\\min} = \n",
    "\\underbrace{\n",
    "\\frac{M_{\\mathrm{gas}}}{M_{\\mathrm{DryAir}}}\n",
    "\\,\\frac{\\sigma_{\\mathrm{gas}}\\,p}{g}\n",
    "}_{\\sigma^*_{\\mathrm{gas}}\\ \\mathrm{(amount/area)}}\n",
    "\\,\\times\\,\n",
    "q\\,U\\,W, \\tag{D-6}\n",
    "$$\n",
    "\n",
    "We can turn this into a requirement flowdown, for which we fix the GSD (W), wind speed and q and solve for $\\sigma_{\\mathrm{gas}}$ to reach an actual $Q{\\min}$ that is smaller than the requirement $Q^{req}_{\\min}$:\n",
    "\n",
    "$$\n",
    "\\sigma_{\\mathrm{gas}} \\le Q^{req}_{\\min} \\frac{1}{M_{\\mathrm{gas}}} \\underbrace{\\frac{M_{\\mathrm{DryAir}}\\,g}{p}}_{\\text{2.82 10$^{-6}$ m$^2$/mol}} \\frac{1}{q\\,U\\,W}\n",
    "$$"
   ]
  },
  {
   "cell_type": "code",
   "execution_count": 27,
   "metadata": {},
   "outputs": [
    {
     "name": "stdout",
     "output_type": "stream",
     "text": [
      "(C.g * m.air) / C.p = 2.841957e-6 m^2 mol^-1\n"
     ]
    },
    {
     "data": {
      "text/plain": [
       "2.841957e-6 m^2 mol^-1"
      ]
     },
     "metadata": {},
     "output_type": "display_data"
    }
   ],
   "source": [
    "# Define constants:\n",
    "m = CarbonI.molar_mass()\n",
    "C = CarbonI.Constants()\n",
    "preFac = C.g * m.air / C.p\n",
    "\n",
    "# q=2 for detection limits\n",
    "q = 2.0\n",
    "# Wind speed for the reference scenario\n",
    "wind_speed = 2.0u\"m/s\"\n",
    "# Value of the prefactor (a constant for a given surface pressure)\n",
    "@show C.g * m.air / C.p"
   ]
  },
  {
   "cell_type": "code",
   "execution_count": 28,
   "metadata": {},
   "outputs": [
    {
     "name": "stdout",
     "output_type": "stream",
     "text": [
      "Required Single Measurement Precision for CH₄ : 14.2 ppb\n",
      "Required Single Measurement Precision for CO₂ : 2.78 ppm\n",
      "Required Single Measurement Precision for CO  : 81.1 ppb\n"
     ]
    }
   ],
   "source": [
    "σ_ch4_req = flux_detect_ch4_req * preFac / req_pix / m.ch4 / wind_speed / q\n",
    "σ_co2_req = flux_detect_co2_req * preFac / req_pix / m.co2 / wind_speed / q\n",
    "σ_co_req  = flux_detect_co_req  * preFac / req_pix / m.co  / wind_speed / q\n",
    "\n",
    "#@show uconvert(u\"ppb\", σ_ch4_req)\n",
    "#@show uconvert(u\"ppm\", σ_co2_req)\n",
    "#@show uconvert(u\"ppb\", σ_co_req)\n",
    "# Provide formatting for the output\n",
    "@printf(\"Required Single Measurement Precision for CH₄ : %.3g ppb\\n\",  ustrip(uconvert(u\"ppb\", σ_ch4_req)))\n",
    "@printf(\"Required Single Measurement Precision for CO₂ : %.3g ppm\\n\",  ustrip(uconvert(u\"ppm\", σ_co2_req)))\n",
    "@printf(\"Required Single Measurement Precision for CO  : %.3g ppb\\n\",  ustrip(uconvert(u\"ppb\", σ_co_req)))"
   ]
  },
  {
   "cell_type": "code",
   "execution_count": 29,
   "metadata": {},
   "outputs": [
    {
     "name": "stdout",
     "output_type": "stream",
     "text": [
      "(ds[\"T\"])[iLon, iLat, :, timeIndex] = Union{Missing, Float32}[187.60953, 195.1012, 201.35501, 208.64655, 216.49673, 222.47076, 227.39767, 230.89746, 235.26309, 242.40393, 250.36801, 259.4926, 268.20334, 272.86224, 273.1006, 270.50668, 266.17313, 261.9602, 257.33777, 253.24066, 249.31465, 244.15125, 240.6859, 238.05463, 235.39015, 231.98767, 228.57484, 226.37009, 223.45546, 222.34386, 220.49219, 217.9867, 216.47473, 214.98712, 213.25296, 210.32483, 207.75937, 206.41586, 207.52103, 209.51251, 210.57042, 216.20634, 224.16565, 232.26859, 240.40128, 247.10199, 252.58617, 255.18288, 257.9303, 263.41864, 267.52917, 272.1396, 276.66675, 280.92175, 284.42505, 286.95496, 289.00113, 290.2957, 290.15128, 289.2277, 289.0184, 290.03265, 291.2717, 292.5702, 293.89865, 295.23, 296.56677, 297.8983, 299.22983, 300.5767, 301.94052, 303.46246]\n"
     ]
    }
   ],
   "source": [
    "# Use the reference scenario\n",
    "scenario = CarbonI.reference_scenario();\n",
    "\n",
    "# Load CBE specs\n",
    "cbe_specs = CarbonI.build_instrument(\"CBE\");\n",
    "\n",
    "# Load Required specs\n",
    "req_specs = CarbonI.build_instrument(\"Requirement\");"
   ]
  },
  {
   "cell_type": "code",
   "execution_count": null,
   "metadata": {},
   "outputs": [],
   "source": [
    "# Create required Instrument model \n",
    "ins_req = InstrumentOperator.createGratingNoiseModel(req_specs.ET, req_specs.Pitch, \n",
    "\t\treq_specs.FPA_quantum_efficiency, req_specs.bench_efficiency, \n",
    "\t\treq_specs.Fnumber, 2*req_specs.SSI, \n",
    "\t\t(req_specs.readout_noise), req_specs.dark_current); \n",
    "\n",
    "# Create required Instrument model\n",
    "ins_cbe = InstrumentOperator.createGratingNoiseModel(cbe_specs.ET, cbe_specs.Pitch, \n",
    "\t\tcbe_specs.FPA_quantum_efficiency, cbe_specs.bench_efficiency, \n",
    "\t\tcbe_specs.Fnumber, 2*cbe_specs.SSI, \n",
    "\t\t(cbe_specs.readout_noise), cbe_specs.dark_current); \n",
    "\n",
    "soil_req, x_req, solarIrr_req, σ_matrix_req, profile_req, h_req, Sₐ_req = setup_data(scenario, req_specs)\n",
    "soil_cbe, x_cbe, solarIrr_cbe, σ_matrix_cbe, profile_cbe, h_cbe, Sₐ_cbe = setup_data(scenario, cbe_specs);"
   ]
  },
  {
   "cell_type": "code",
   "execution_count": null,
   "metadata": {},
   "outputs": [],
   "source": [
    "# Cumbersome to get to 0.15 here:\n",
    "ll = length(req_specs.modelling_wl);\n",
    "refl_req   = ones(ll) .* scenario.broadband_albedo;\n",
    "refl_cbe   = ones(ll) .* scenario.broadband_albedo;"
   ]
  },
  {
   "cell_type": "code",
   "execution_count": null,
   "metadata": {},
   "outputs": [],
   "source": [
    "error_req, F_req = calc_rel_error(req_specs, x_req, solarIrr_req, refl_req, scenario.sza, σ_matrix_req, profile_req, h_req, ins_req, Sₐ_req, return_F=true) \n",
    "error_cbe, F_cbe = calc_rel_error(cbe_specs, x_cbe, solarIrr_cbe, refl_cbe, scenario.sza, σ_matrix_cbe, profile_cbe, h_cbe, ins_cbe, Sₐ_cbe, return_F=true) "
   ]
  },
  {
   "cell_type": "code",
   "execution_count": null,
   "metadata": {},
   "outputs": [],
   "source": [
    "@printf(\"Expected Single Measurement Precision for CH₄ : %.3g ppb\\n\",  error_cbe[\"ch4\"])\n",
    "@printf(\"Expected Single Measurement Precision for CO₂ : %.3g ppm\\n\",  error_cbe[\"co2\"]/1000)\n",
    "@printf(\"Expected Single Measurement Precision for CO  : %.3g ppb\\n\",  error_cbe[\"co\"])"
   ]
  },
  {
   "cell_type": "code",
   "execution_count": null,
   "metadata": {},
   "outputs": [],
   "source": [
    "# Now vary total efficiency at two different readout noise levels:\n",
    "\n",
    "TotalEfficiencies = 0.2:0.05:1.0\n",
    "gas_errors_100 = zeros(3,length(TotalEfficiencies))\n",
    "gas_errors_120 = zeros(3,length(TotalEfficiencies))\n",
    "for (i,efficiency) in enumerate(TotalEfficiencies)\n",
    "    # Create instrument Specs here:\n",
    "    # (here we need to use 57ms integration time for req. as we count 400m pixels along track dimension)\n",
    "    ins_req_100 = InstrumentOperator.createGratingNoiseModel(57.0u\"ms\", req_specs.Pitch, 1.0, efficiency, req_specs.Fnumber, 2*req_specs.SSI, (100.0), req_specs.dark_current); \n",
    "    ins_req_120 = InstrumentOperator.createGratingNoiseModel(57.0u\"ms\", req_specs.Pitch, 1.0, efficiency, req_specs.Fnumber, 2*req_specs.SSI, (120.0), req_specs.dark_current); \n",
    "    # Create an error for 100 and 120e- for the respective efficiency\n",
    "    error_varied_100 = calc_rel_error(req_specs, x_req, solarIrr_req, refl_req, scenario.sza, σ_matrix_req, profile_req, h_req, ins_req_100, Sₐ_req) \n",
    "    error_varied_120 = calc_rel_error(req_specs, x_req, solarIrr_req, refl_req, scenario.sza, σ_matrix_req, profile_req, h_req, ins_req_120, Sₐ_req) \n",
    "    # Store Data\n",
    "    gas_errors_100[1,i] = error_varied_100[\"ch4\"]\n",
    "    gas_errors_120[1,i] = error_varied_120[\"ch4\"] \n",
    "    gas_errors_100[2,i] = error_varied_100[\"co2\"]\n",
    "    gas_errors_120[2,i] = error_varied_120[\"co2\"] \n",
    "    gas_errors_100[3,i] = error_varied_100[\"co\"]\n",
    "    gas_errors_120[3,i] = error_varied_120[\"co\"] \n",
    "end"
   ]
  },
  {
   "cell_type": "code",
   "execution_count": null,
   "metadata": {},
   "outputs": [],
   "source": [
    "# Create an interpolation function to get the required optical efficiency for a given readout noise and proxy error for N2O\n",
    "# Annoying as it requires ascending order in the x-axis\n",
    "ch4_req_ppb = ustrip(uconvert(u\"ppb\", σ_ch4_req))\n",
    "co2_req_ppb = ustrip(uconvert(u\"ppb\", σ_co2_req))\n",
    "co_req_ppb  = ustrip(uconvert(u\"ppb\", σ_co_req))\n",
    "\n",
    "efficiency_100_ch4 = LinearInterpolation(reverse(gas_errors_100[1,:]./ch4_req_ppb), reverse(TotalEfficiencies), extrapolation_bc=Line());\n",
    "efficiency_120_ch4 = LinearInterpolation(reverse(gas_errors_120[1,:]./ch4_req_ppb), reverse(TotalEfficiencies), extrapolation_bc=Line());\n",
    "\n",
    "efficiency_100_co2 = LinearInterpolation(reverse(gas_errors_100[2,:]./co2_req_ppb), reverse(TotalEfficiencies), extrapolation_bc=Line());\n",
    "efficiency_120_co2 = LinearInterpolation(reverse(gas_errors_120[2,:]./co2_req_ppb), reverse(TotalEfficiencies), extrapolation_bc=Line());\n",
    "\n",
    "efficiency_100_co = LinearInterpolation(reverse(gas_errors_100[3,:]./co_req_ppb), reverse(TotalEfficiencies), extrapolation_bc=Line());\n",
    "efficiency_120_co = LinearInterpolation(reverse(gas_errors_120[3,:]./co_req_ppb), reverse(TotalEfficiencies), extrapolation_bc=Line());"
   ]
  },
  {
   "cell_type": "code",
   "execution_count": null,
   "metadata": {},
   "outputs": [],
   "source": [
    "req_eff_120      = efficiency_120_ch4(1.0);\n",
    "req_error       = 1.0;\n",
    "eff_cbe = cbe_specs.bench_efficiency * cbe_specs.FPA_quantum_efficiency\n",
    "\n",
    "@show req_eff_120\n",
    "f = Figure(resolution=(550,400))\n",
    "ax = Axis(f[1,1], xlabel=\"Total System Efficiency\", ylabel=\"Precision (Expected/Required)\",  title=\"From required precision to total system efficiency (Target Mode)\")\n",
    "# For CH4 (100 and 120e-)\n",
    "lines!(ax, TotalEfficiencies, gas_errors_120[1,:]./ch4_req_ppb, color=CarbonI_colors[7], linewidth=3, label=\"CH₄ (120e⁻)\")\n",
    "lines!(ax, TotalEfficiencies, gas_errors_100[1,:]./ch4_req_ppb, color=CarbonI_colors[7], linewidth=1, label=\"CH₄ (100e⁻)\")\n",
    "# For CO2 (100 and 120e-)\n",
    "lines!(ax, TotalEfficiencies, gas_errors_120[2,:]./co2_req_ppb, color=CarbonI_colors[4], linewidth=3, label=\"CO₂ (120e⁻)\")\n",
    "lines!(ax, TotalEfficiencies, gas_errors_100[2,:]./co2_req_ppb, color=CarbonI_colors[4], linewidth=1, label=\"CO₂ (100e⁻)\")\n",
    "# For CO (100 and 120e-)\n",
    "lines!(ax, TotalEfficiencies, gas_errors_120[3,:]./co_req_ppb, color=CarbonI_colors[6], linewidth=3, label=\"CO (120e⁻)\")\n",
    "lines!(ax, TotalEfficiencies, gas_errors_100[3,:]./co_req_ppb, color=CarbonI_colors[6], linewidth=1, label=\"CO (100e⁻)\")\n",
    "\n",
    "# Lines for Driving Requirement\n",
    "\n",
    "arrows!(ax, [req_eff_120,],[req_error,],[0,],[-req_error+0.42,],arrowsize = 15, linewidth=3,color = CarbonI_colors[5])\n",
    "text!(ax, \"Req: > $(round(Int, 100req_eff_120))%\", position = (req_eff_120, 0.57),\n",
    "    align = (:center, :bottom), color = :black, rotation=π/2)\n",
    "\n",
    "# Indicate Margins\n",
    "arrows!(ax, [req_eff_120+0.002,],[req_error,],[eff_cbe-req_eff_120-0.01,],[0,],arrowsize = 15, linewidth=3, color = :black)\n",
    "text!(ax, \"Margin\", position = (0.5, req_error),  align = (:center, :bottom), color = :black)\n",
    "scatter!(ax, [req_eff_120], [req_error], color=:red, markersize=15, label=\"Driving Req.\")\n",
    "arrows!(ax, [0.0,],[1,],[req_eff_120-0.01,],[0,],arrowsize = 15, linewidth=3, color = CarbonI_colors[5])\n",
    "# Show CBE Total Efficiency\n",
    "lines!(ax, [eff_cbe,eff_cbe], [0,1.35], color=:black, linestyle=:dash, linewidth=2, label=\"CBE\")\n",
    "\n",
    "xlims!(ax,0.2,0.8)\n",
    "ylims!(ax,0.4,1.35)\n",
    "axislegend(ax,position = :rt)\n",
    "save(\"../../plots/final/Level1-2-EfficiencyDerivation_perGas.pdf\",f)\n",
    "f"
   ]
  },
  {
   "cell_type": "code",
   "execution_count": null,
   "metadata": {},
   "outputs": [],
   "source": [
    "# Going back full circle from CBE to expected L1 values\n",
    "# For CH4\n",
    "ch4_error_ppb = (error_cbe[\"ch4\"]/sqrt(cbe_specs.coadd_rate))u\"ppb\"\n",
    "flux_ch4_cbe_limit = uconvert(u\"kg/hr\", ch4_error_ppb * C.p /(C.g*m.air) * cbe_pix * m.ch4 * wind_speed * q )\n",
    "\n",
    "# For CO2:\n",
    "co2_error_ppb = (error_cbe[\"co2\"]/sqrt(cbe_specs.coadd_rate))u\"ppb\"\n",
    "flux_co2_cbe_limit = uconvert(u\"kg/hr\", co2_error_ppb * C.p /(C.g*m.air) * cbe_pix * m.co2 * wind_speed * q )\n",
    "\n",
    "# For CO:\n",
    "co_error_ppb = (error_cbe[\"co\"]/sqrt(cbe_specs.coadd_rate))u\"ppb\"\n",
    "flux_co_cbe_limit = uconvert(u\"kg/hr\", co_error_ppb * C.p /(C.g*m.air) * cbe_pix * m.co * wind_speed * q)\n",
    "\n",
    "#@show uconvert(u\"kg/hr\", flux_ch4_cbe_limit)\n",
    "# Computing CBE for L1-5:#\n",
    "#proxy_error = error_cbe[\"n2o\"]/background_vmr_n2o/sqrt(req_specs.coadd_rate)\n",
    "#sigma_rel_cbe_agg = proxy_error / sqrt(N_eff_global_cbe)\n",
    "\n",
    "@printf(\"CBE Flux Detection for CH₄ : %.3g kg/hr \\n\", ustrip(flux_ch4_cbe_limit)) \n",
    "@printf(\"CBE Flux Detection for CO₂ : %.3g kg/hr \\n\", ustrip(flux_co2_cbe_limit))\n",
    "@printf(\"CBE Flux Detection for CO  : %.3g kg/hr\",   ustrip(flux_co_cbe_limit))"
   ]
  }
 ],
 "metadata": {
  "kernelspec": {
   "display_name": "Julia 1.11.4",
   "language": "julia",
   "name": "julia-1.11"
  },
  "language_info": {
   "file_extension": ".jl",
   "mimetype": "application/julia",
   "name": "julia",
   "version": "1.11.4"
  }
 },
 "nbformat": 4,
 "nbformat_minor": 2
}
