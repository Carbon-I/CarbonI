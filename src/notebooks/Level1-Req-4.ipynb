{
 "cells": [
  {
   "cell_type": "markdown",
   "metadata": {},
   "source": [
    "## Level 1 Requirement Flowdown\n",
    "\n",
    "### L1-4 Regional Fluxes (Target Mode)\n",
    "\n",
    "> For representative regions² (90 km × 90 km) Carbon-I shall obtain column averaged mixing ratios with a standard error ≤8 ppm CH4, ≤1.6 ppm CO2, and ≤10 ppb CO once averaged to a 1 km × 1 km grid for our reference scenario4 with a revisit capability ≤7 days. \n",
    "\n",
    "\n",
    "²: Representative regions are those that best exemplify major emission sectors—wetlands, agriculture, and waste—where emission uncertainty is high and process-based understanding remains limited.\n",
    "\n",
    "---"
   ]
  },
  {
   "cell_type": "markdown",
   "metadata": {},
   "source": [
    "Let's codify these numbers"
   ]
  },
  {
   "cell_type": "code",
   "execution_count": null,
   "metadata": {},
   "outputs": [
    {
     "name": "stderr",
     "output_type": "stream",
     "text": [
      "\u001b[32m\u001b[1m  Activating\u001b[22m\u001b[39m project at `~/code/gitHub/CarbonI`\n"
     ]
    }
   ],
   "source": [
    "using Pkg\n",
    "# Activate the environment for the project\n",
    "# This is necessary to ensure that the correct versions of packages are used\n",
    "Pkg.activate(\"../..\"); # Actives the environment at the root of the project\n",
    "# Using our Carbon-I and vSmartMOM packages (developed by our team)\n",
    "using CarbonI, vSmartMOM, Printf\n",
    "using CairoMakie, DelimitedFiles, Statistics, Interpolations, NCDatasets, InstrumentOperator, LinearAlgebra\n",
    "using Unitful, UnitfulEquivalences\n",
    "include(joinpath(\"../../src/Plots\", \"CI_colorsNew.jl\"));\n",
    "include(joinpath(dirname(pathof(CarbonI)), \"readSun.jl\"))\n",
    "include(joinpath(dirname(pathof(CarbonI)), \"Requirements\", \"common.jl\"))\n",
    "\n",
    "set_theme!(theme_ggplot2())\n"
   ]
  },
  {
   "cell_type": "code",
   "execution_count": null,
   "metadata": {},
   "outputs": [],
   "source": [
    "# Define numbers from L1 Requirements\n",
    "regional_mode_ch4_error = 12.0            # in ppb\n",
    "regional_mode_co2_error =  2.0            # in ppm\n",
    "regional_mode_co_error  = 10.0            # in ppb\n",
    "\n",
    "# Regional Mode (L1-5)\n",
    "regional_mode_grid_resolution = [1000, 1000] # in m\n",
    "regional_mode_revisit_days = 7  # in days\n",
    "regional_mode_region_size = [100, 100]  # in km\n",
    "# Account for median pixel size enhancements for GSD requirements at off-nadir angles\n",
    "\n",
    "offNadir_factor = 2 # Account for GSD increase at 30/30 degree off nadir along and across track\n",
    "regional_mode_gsd_req = [50.0*offNadir_factor, 50.0 ]\n",
    "regional_mode_gsd_cbe = [34.5*offNadir_factor, 30.3 ]\n",
    "\n",
    "# Reference Background VMRs\n",
    "background_vmr_ch4 = 1900.0   # in ppb\n",
    "background_vmr_co2 =  420.0   # in ppm\n",
    "background_vmr_n2o =  330.0   # in ppb"
   ]
  },
  {
   "cell_type": "markdown",
   "metadata": {},
   "source": [
    "Now we can compute the potential number of footprints in the regional grid, i.e.\n",
    "$$\n",
    "N_{max} = \\frac{GSD_x \\times GSD_y}{Grid_x \\times Grid_y}\n",
    "$$:"
   ]
  },
  {
   "cell_type": "code",
   "execution_count": null,
   "metadata": {},
   "outputs": [],
   "source": [
    "# Maximum number of global ground pixels in the 12km box\n",
    "# Req.\n",
    "N_max_req = prod(regional_mode_grid_resolution)/prod(regional_mode_gsd_req);\n",
    "# At CBE\n",
    "N_max_cbe = prod(regional_mode_grid_resolution)/prod(regional_mode_gsd_cbe);"
   ]
  },
  {
   "cell_type": "markdown",
   "metadata": {},
   "source": [
    "For regional mode, we select targets based on optimal visibility, defining a stricter criterion for cloud-free scenes. This demonstrates achievable performance under clear conditions outside the humid tropics, where surface albedo is typically higher. For tropical regions, achieving similar precision would require using a coarser inversion grid—an approach we can also illustrate."
   ]
  },
  {
   "cell_type": "code",
   "execution_count": null,
   "metadata": {},
   "outputs": [],
   "source": [
    "# Number of cloud-free  ground pixels in the 1km box (here)\n",
    "# Req.\n",
    "f_cloud = 1.0\n",
    "N_eff_req = N_max_req * f_cloud;\n",
    "# At CBE\n",
    "N_eff_cbe = N_max_cbe * f_cloud;\n",
    "@printf(\"Number of cloud-free Pixel in Required GSD: %.3g\\n\", N_eff_req)\n",
    "@printf(\"Number of cloud-free Pixel in CBE GSD: %.3g\\n\", N_eff_cbe)"
   ]
  },
  {
   "cell_type": "markdown",
   "metadata": {},
   "source": [
    "We can now derive the requirement for $\\sigma_{s}^{rel}$, as:\n",
    "$$\n",
    "\\sigma_s^{rel} < \\underbrace{\\sigma_{agg}^{rel}}_{Required} \\times \\sqrt{N_{eff}}  \n",
    "$$"
   ]
  },
  {
   "cell_type": "code",
   "execution_count": null,
   "metadata": {},
   "outputs": [],
   "source": [
    "sigma_rel_agg_req      =  min(regional_mode_ch4_error/background_vmr_ch4 ,  regional_mode_co2_error/background_vmr_co2)  # This should effectively be the same relative error for CO2 and CH4\n",
    "sigma_rel_SingleSounding_req  =  sigma_rel_agg_req * sqrt(N_eff_req)  \n",
    "sigma_rel_SingleSounding_cbe  =  sigma_rel_agg_req * sqrt(N_eff_cbe)\n",
    "@printf(\"Required Single Measurement Precision for N₂O in percent for req. GSD : %.3g\\n\", 100*sigma_rel_SingleSounding_req)\n",
    "@printf(\"Required Single Measurement Precision for N₂O in percent for CBE specs: %.3g\\n\", 100*sigma_rel_SingleSounding_cbe)"
   ]
  },
  {
   "cell_type": "code",
   "execution_count": null,
   "metadata": {},
   "outputs": [],
   "source": [
    "@show 100*sigma_rel_agg_req"
   ]
  },
  {
   "cell_type": "markdown",
   "metadata": {},
   "source": [
    "Just to show that the CH4 or CO2 precisions hardly matter for the relative errors:\n",
    "$$\n",
    "\\sigma_{\\mathrm{rel}}(R)\n",
    "\\;=\\;\\sqrt{\\;\\sigma_{\\mathrm{rel}}^2\\!\\bigl(\\Omega_{\\mathrm{CH_4,CO_2}}\\bigr)\n",
    "+\\;\\sigma_{\\mathrm{rel}}^2\\!\\bigl(\\Omega_{\\mathrm{N_2O}}\\bigr)\\,},\n",
    "$$"
   ]
  },
  {
   "cell_type": "code",
   "execution_count": null,
   "metadata": {},
   "outputs": [],
   "source": [
    "σ_n2o = 3.5 # Error in %\n",
    "σ_ghg = 0.5 # Error in % (CO2 and CH4, even smaller than that)\n",
    "σ_rel = sqrt(σ_n2o^2 + σ_ghg^2)\n",
    "@printf(\"Error Enhancement factor if also considering GHG noise: %.3g\\n\", σ_rel / σ_n2o)\n",
    "ampl = σ_rel / σ_n2o"
   ]
  },
  {
   "cell_type": "markdown",
   "metadata": {},
   "source": [
    "Now we have to show what instrument specs we require to get to that precision. \n",
    "--> We could bypass SNR and just use our tropical reference scene (with spectrally varying albedo) and compute sigma as function of total system efficiency (i.e. optical throughput and Qe)"
   ]
  },
  {
   "cell_type": "code",
   "execution_count": null,
   "metadata": {},
   "outputs": [],
   "source": [
    "# Load Reference scenario (Typical scene)\n",
    "scenario = CarbonI.reference_scenario()\n",
    "\n",
    "req_specs = CarbonI.build_instrument(\"Requirement\") \n",
    "cbe_specs = CarbonI.build_instrument(\"CBE\") \n",
    "\n",
    "# Create required Instrument model \n",
    "ins_req = InstrumentOperator.createGratingNoiseModel(req_specs.ET, req_specs.Pitch, \n",
    "\t\treq_specs.FPA_quantum_efficiency, req_specs.bench_efficiency, \n",
    "\t\treq_specs.Fnumber, 2*req_specs.SSI, \n",
    "\t\t(req_specs.readout_noise), req_specs.dark_current); \n",
    "\n",
    "# Create required Instrument model\n",
    "ins_cbe = InstrumentOperator.createGratingNoiseModel(cbe_specs.ET, cbe_specs.Pitch, \n",
    "\t\tcbe_specs.FPA_quantum_efficiency, cbe_specs.bench_efficiency, \n",
    "\t\tcbe_specs.Fnumber, 2*cbe_specs.SSI, \n",
    "\t\t(cbe_specs.readout_noise), cbe_specs.dark_current); \n",
    "\n",
    "soil_req, x_req, solarIrr_req, σ_matrix_req, profile_req, h_req, Sₐ_req = setup_data(scenario, req_specs)\n",
    "soil_cbe, x_cbe, solarIrr_cbe, σ_matrix_cbe, profile_cbe, h_cbe, Sₐ_cbe = setup_data(scenario, cbe_specs);"
   ]
  },
  {
   "cell_type": "code",
   "execution_count": null,
   "metadata": {},
   "outputs": [],
   "source": [
    "refl_req   = scenario.surface_albedo(req_specs.modelling_wl);"
   ]
  },
  {
   "cell_type": "code",
   "execution_count": null,
   "metadata": {},
   "outputs": [],
   "source": [
    "error_req, F_req = calc_rel_error(req_specs, x_req, solarIrr_req, refl_req, scenario.sza, σ_matrix_req, profile_req, h_req, ins_req, Sₐ_req, return_F=true) \n",
    "error_cbe, F_cbe = calc_rel_error(cbe_specs, x_cbe, solarIrr_cbe, refl_req, scenario.sza, σ_matrix_cbe, profile_cbe, h_cbe, ins_cbe, Sₐ_cbe, return_F=true) "
   ]
  },
  {
   "cell_type": "code",
   "execution_count": null,
   "metadata": {},
   "outputs": [],
   "source": [
    "@show error_cbe[\"co\"]"
   ]
  },
  {
   "cell_type": "code",
   "execution_count": null,
   "metadata": {},
   "outputs": [],
   "source": [
    "# Recompute for CBE but at 50m, i.e. 57ms\n",
    "ins = InstrumentOperator.createGratingNoiseModel(57.0u\"ms\", cbe_specs.Pitch, cbe_specs.FPA_quantum_efficiency, cbe_specs.bench_efficiency, \n",
    "cbe_specs.Fnumber, 2*cbe_specs.SSI, (cbe_specs.readout_noise), cbe_specs.dark_current); \n",
    "error_cbe_50, F_cbe = calc_rel_error(cbe_specs, x_cbe, solarIrr_cbe, refl_req, scenario.sza, σ_matrix_cbe, profile_cbe, h_cbe, ins, Sₐ_cbe, return_F=true) \n",
    "@show error_cbe_50[\"n2o\"]/background_vmr_n2o"
   ]
  },
  {
   "cell_type": "code",
   "execution_count": null,
   "metadata": {},
   "outputs": [],
   "source": [
    "refRadiance = 1.0e16 # in photons/s/m²/nm\n",
    "from_w_to_photons = 5.03e12\n",
    "f = Figure(resolution=(550,400))\n",
    "ax = Axis(f[1,1], xlabel=\"Wavelength (nm)\", ylabel=\"Reflected Radiance (10¹⁶ photons/s/m²/nm)\",  title=\"Reference Scenario \")\n",
    "lines!(ax, cbe_specs.instrument_wl,F_cbe * from_w_to_photons .* cbe_specs.instrument_wl/1e16, color=CarbonI_colors[1], linewidth=2, label=\"CBE\")\n",
    "lines!(ax, req_specs.instrument_wl,F_req * from_w_to_photons .* req_specs.instrument_wl/1e16, color=CarbonI_colors[3], linewidth=1, label=\"Requirement\")\n",
    "lines!(ax, [2035,2375], [refRadiance/1e16,refRadiance/1e16], color=:black, linestyle=:dash, linewidth=1, label=\"Reference Radiance\")\n",
    "xlims!(ax, 2033, 2378)\n",
    "axislegend(ax,position = :lb)\n",
    "save(\"../../plots/final/Level1-4-BaselineScenario.pdf\",f)\n",
    "f"
   ]
  },
  {
   "cell_type": "code",
   "execution_count": null,
   "metadata": {},
   "outputs": [],
   "source": [
    "# Compute Electrons at FPA\n",
    "e_cbe = InstrumentOperator.photons_at_fpa(ins_cbe, (cbe_specs.instrument_wl)u\"nm\", (F_cbe)u\"mW/m^2/nm/sr\");\n",
    "e_req = InstrumentOperator.photons_at_fpa(ins_req, (req_specs.instrument_wl)u\"nm\", (F_req)u\"mW/m^2/nm/sr\");\n",
    "from_w_to_photons = 5.03e12\n",
    "refRadiance = 1.0e16 # in photons/s/m²/nm\n",
    "\n",
    "f = Figure(resolution=(550,400))\n",
    "ax = Axis(f[1,1], xlabel=\"Wavelength (nm)\", ylabel=\"Electrons measured at FPA\",  title=\"Baseline Scenario (Flat Albedo=15%) \")\n",
    "Label(f[1, 1, Top()], halign = :left, \"x1000\")\n",
    "lines!(ax, cbe_specs.instrument_wl,e_cbe/1000, color=CarbonI_colors[1], linewidth=1.5, label=\"CBE\")\n",
    "lines!(ax, req_specs.instrument_wl,e_req/1000, color=CarbonI_colors[3], linewidth=1.5, label=\"Requirement\")\n",
    "#lines!(ax, [2035,2375], [refRadiance/ 1e16,refRadiance/ 1e16], color=:black, linestyle=:dash, linewidth=1, label=\"Reference Tropical Radiance\")\n",
    "xlims!(ax, 2033, 2378)\n",
    "axislegend(ax,position = :lb)\n",
    "ylims!(ax, 0, 60)\n",
    "save(\"../../plots/final/Level1-4-BaselineScenario_FPA.pdf\",f)\n",
    "f"
   ]
  },
  {
   "cell_type": "code",
   "execution_count": null,
   "metadata": {},
   "outputs": [],
   "source": [
    "# Save Data for plotting\n",
    "allData_fpa_cbe = [cbe_specs.instrument_wl e_cbe];\n",
    "allData_fpa_req = [req_specs.instrument_wl e_req];\n",
    "writedlm(\"../../data/L1s/Level1-4-BaselineScenario_FPA_CBE.csv\", allData_fpa_cbe);\n",
    "writedlm(\"../../data/L1s/Level1-4-BaselineScenario_FPA_Req.csv\", allData_fpa_req);"
   ]
  },
  {
   "cell_type": "code",
   "execution_count": null,
   "metadata": {},
   "outputs": [],
   "source": [
    "# Now vary total efficiency at two different readout noise levels:\n",
    "\n",
    "TotalEfficiencies = 0.3:0.05:1.0\n",
    "n2o_errors_100 = zeros(length(TotalEfficiencies))\n",
    "n2o_errors_120 = zeros(length(TotalEfficiencies))\n",
    "for (i,efficiency) in enumerate(TotalEfficiencies)\n",
    "    # Create instrument Specs here:\n",
    "    # (here we need to use 57ms integration time for req. as we count 50m pixels along track dimension)\n",
    "    ins_req_100 = InstrumentOperator.createGratingNoiseModel(57.0u\"ms\", req_specs.Pitch, 1.0, efficiency, req_specs.Fnumber, 2*req_specs.SSI, (100.0), req_specs.dark_current); \n",
    "    ins_req_120 = InstrumentOperator.createGratingNoiseModel(57.0u\"ms\", req_specs.Pitch, 1.0, efficiency, req_specs.Fnumber, 2*req_specs.SSI, (120.0), req_specs.dark_current); \n",
    "    \n",
    "    # Create an error for 100 and 120e- for the respective efficiency\n",
    "    error_varied_100 = calc_rel_error(req_specs, x_req, solarIrr_req, refl_req, scenario.sza, σ_matrix_req, profile_req, h_req, ins_req_100, Sₐ_req) \n",
    "    error_varied_120 = calc_rel_error(req_specs, x_req, solarIrr_req, refl_req, scenario.sza, σ_matrix_req, profile_req, h_req, ins_req_120, Sₐ_req) \n",
    "    \n",
    "    # Store Data (no co-adding applied here)\n",
    "    n2o_errors_100[i] = error_varied_100[\"n2o\"]/background_vmr_n2o\n",
    "    n2o_errors_120[i] = error_varied_120[\"n2o\"]/background_vmr_n2o\n",
    "end"
   ]
  },
  {
   "cell_type": "code",
   "execution_count": null,
   "metadata": {},
   "outputs": [],
   "source": [
    "# Create an interpolation function to get the required optical efficiency for a given readout noise and proxy error for N2O\n",
    "# Annoying as it requires ascending order in the x-axis\n",
    "efficiency_100 = LinearInterpolation(reverse(100(n2o_errors_100)), reverse(TotalEfficiencies), extrapolation_bc=Line());\n",
    "efficiency_120 = LinearInterpolation(reverse(100(n2o_errors_120)), reverse(TotalEfficiencies), extrapolation_bc=Line());"
   ]
  },
  {
   "cell_type": "code",
   "execution_count": null,
   "metadata": {},
   "outputs": [],
   "source": [
    "f = Figure(resolution=(550,400), backgroundcolor=:transparent)\n",
    "lowerLim = 4.0\n",
    "ax = Axis(f[1,1], xlabel=\"Total System Efficiency\", ylabel=\"Precision Error in Proxy (%)\",  title=\"From required proxy precision to total system efficiency\")\n",
    "lines!(ax, TotalEfficiencies, n2o_errors_100*100, color=CarbonI_colors[1], linewidth=2, label=\"Readout Noise = 100e⁻\")\n",
    "lines!(ax, TotalEfficiencies, n2o_errors_120*100, color=CarbonI_colors[3], linewidth=2, label=\"Readout Noise = 120e⁻\")\n",
    "\n",
    "req_error        = 100*sigma_rel_SingleSounding_req /ampl\n",
    "req_error_cbeGSD = 100*sigma_rel_SingleSounding_cbe /ampl\n",
    "req_eff = efficiency_100(req_error)\n",
    "req_eff_120 = efficiency_120(req_error)\n",
    "eff_cbe = cbe_specs.bench_efficiency * cbe_specs.FPA_quantum_efficiency\n",
    "\n",
    "arrows!(ax, [0.0,],[req_error,],[req_eff-0.01,],[0,],arrowsize = 15, linewidth=3,color = CarbonI_colors[5])\n",
    "arrows!(ax, [0.0,],[req_error,],[req_eff_120-0.01,],[0,],arrowsize = 15, linewidth=3, color = CarbonI_colors[5])\n",
    "arrows!(ax, [req_eff_120,],[req_error,],[eff_cbe-req_eff_120-0.005,],[0,],arrowsize = 15, linewidth=3, color = :black)\n",
    "text!(ax, \"Margin\", position = (0.5, req_error),  align = (:center, :bottom), color = :black)\n",
    "#arrows!(ax, [req_eff,],[req_error,],[0,],[-req_error+lowerLim + 0.05,],arrowsize = 10, linewidth=2,color = CarbonI_colors[5])\n",
    "##text!(ax, \"Req: > $(round(Int, 100req_eff))%\", position = (req_eff, 5.5),\n",
    " #   align = (:center, :bottom), color = :black, rotation=π/2)\n",
    "\n",
    "arrows!(ax, [req_eff_120,],[req_error,],[0,],[-req_error+lowerLim+0.15,],arrowsize = 15, linewidth=3, color = CarbonI_colors[5])\n",
    "text!(ax, \"Req: > $(round(Int, 100req_eff_120))%\", position = (req_eff_120, 5.5),\n",
    "    align = (:center, :bottom), color = :black, rotation=π/2)\n",
    "lines!(ax, [eff_cbe,eff_cbe], [2,10], color=:black, linestyle=:dash, linewidth=3, label=\"CBE Total Efficiency\")\n",
    "scatter!(ax, [req_eff_120], [req_error], color=:red, markersize=15, label=\"Driving Req.\")\n",
    "#arrows!(ax2, [req_percent_ch4,],[req_flux_ch4,],[-req_percent_ch4+1,],[0,],arrowsize = 10, linewidth=2,color = CarbonI_colors[5])\n",
    "#text!(ax2, \"Req. >90%\", position = (req_percent_ch4, 25),\n",
    "#      align = (:center, :bottom), color = :black, rotation=π/2)\n",
    "\n",
    "axislegend(ax,position = :rt)\n",
    "xlims!(ax,0.3,0.8)\n",
    "ylims!(ax,lowerLim,10)\n",
    "save(\"../../plots/final/Level1-4-L1-5-reqs.pdf\",f)\n",
    "f"
   ]
  },
  {
   "cell_type": "code",
   "execution_count": null,
   "metadata": {},
   "outputs": [],
   "source": [
    "# Save lines to merge later with other requirements:\n",
    "AllData = [TotalEfficiencies n2o_errors_100*100 n2o_errors_120*100 ];\n",
    "\n",
    "writedlm(\"../../data/L1s/L1-4_lines.dat\", AllData)\n",
    "writedlm(\"../../data/L1s/L1-4_req_error.dat\", req_error)"
   ]
  },
  {
   "cell_type": "code",
   "execution_count": null,
   "metadata": {},
   "outputs": [],
   "source": [
    "ins_req_forSNR = InstrumentOperator.createGratingNoiseModel(44.0u\"ms\", req_specs.Pitch, 1.0, req_eff_120, req_specs.Fnumber, 2*req_specs.SSI, (120.0), req_specs.dark_current);\n",
    "ins_cbe_forSNR = InstrumentOperator.createGratingNoiseModel(44.0u\"ms\", cbe_specs.Pitch, 1.0, eff_cbe, cbe_specs.Fnumber, 2*cbe_specs.SSI, (100.0), cbe_specs.dark_current);\n",
    "# Use reference Wavelength here (just for conversion)\n",
    "ref_wl = 2250;\n",
    "\n",
    "refRadiance = 1.0e16 # in photons/s/m²/nm\n",
    "refRadiance_mw = refRadiance / from_w_to_photons / ref_wl\n",
    "nesr_req_forSNR = InstrumentOperator.noise_equivalent_radiance(ins_req_forSNR, (ref_wl)u\"nm\", (refRadiance_mw)u\"mW/m^2/nm/sr\");\n",
    "nesr_cbe_forSNR = InstrumentOperator.noise_equivalent_radiance(ins_cbe_forSNR, (ref_wl)u\"nm\", (refRadiance_mw)u\"mW/m^2/nm/sr\");\n",
    "\n",
    "# @show refRadiance_mw/(nesr_req_forSNR[1]./1u\"mW/m^2/nm/sr\"), refRadiance_mw/(nesr_cbe_forSNR[1]./1u\"mW/m^2/nm/sr\")\n",
    "@printf(\"Required SNR @1e16 photons/m2/sr/nm/s: %.4g\\n\",  refRadiance_mw/(nesr_req_forSNR[1]./1u\"mW/m^2/nm/sr\"))\n",
    "@printf(\"CBE      SNR @1e16 photons/m2/sr/nm/s: %.4g\",  refRadiance_mw/(nesr_cbe_forSNR[1]./1u\"mW/m^2/nm/sr\"))"
   ]
  },
  {
   "cell_type": "code",
   "execution_count": null,
   "metadata": {},
   "outputs": [],
   "source": [
    "# Computing CBE for L1-5:\n",
    "proxy_error = error_cbe[\"n2o\"]/background_vmr_n2o\n",
    "sigma_rel_cbe_agg = proxy_error / sqrt(N_eff_cbe)\n",
    "@printf(\"CBE Standard Error for CH₄ : %.2g ppb\\n\", sigma_rel_cbe_agg*background_vmr_ch4) \n",
    "@printf(\"CBE Standard Error for CO₂ : %.2g ppm\\n\", sigma_rel_cbe_agg*background_vmr_co2)\n",
    "@printf(\"CBE Standard Error for CO  : %.2g ppb\\n\", error_cbe[\"co\"]/ sqrt(N_eff_cbe))"
   ]
  },
  {
   "cell_type": "markdown",
   "metadata": {},
   "source": [
    "### The End"
   ]
  }
 ],
 "metadata": {
  "kernelspec": {
   "display_name": "Julia 1.11.4",
   "language": "julia",
   "name": "julia-1.11"
  },
  "language_info": {
   "file_extension": ".jl",
   "mimetype": "application/julia",
   "name": "julia",
   "version": "1.11.4"
  }
 },
 "nbformat": 4,
 "nbformat_minor": 2
}
