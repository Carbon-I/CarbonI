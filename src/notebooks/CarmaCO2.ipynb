{
 "cells": [
  {
   "cell_type": "markdown",
   "metadata": {},
   "source": [
    "## Target Obs Stratgey\n",
    "\n"
   ]
  },
  {
   "cell_type": "markdown",
   "metadata": {},
   "source": [
    "> First, we need to import some packages in Julia"
   ]
  },
  {
   "cell_type": "code",
   "execution_count": 1,
   "metadata": {},
   "outputs": [
    {
     "name": "stderr",
     "output_type": "stream",
     "text": [
      "\u001b[32m\u001b[1m  Activating\u001b[22m\u001b[39m project at `~/code/gitHub/CarbonI`\n",
      "┌ Info: CUDA-enabled GPU(s) detected\n",
      "└ @ vSmartMOM /home/cfranken/.julia/packages/vSmartMOM/a7WZC/src/vSmartMOM.jl:57\n",
      "┌ Info: CUDA.CuDevice(0): NVIDIA A100-PCIE-40GB\n",
      "└ @ vSmartMOM /home/cfranken/.julia/packages/vSmartMOM/a7WZC/src/vSmartMOM.jl:59\n",
      "┌ Info: CUDA.CuDevice(1): NVIDIA A100-PCIE-40GB\n",
      "└ @ vSmartMOM /home/cfranken/.julia/packages/vSmartMOM/a7WZC/src/vSmartMOM.jl:59\n"
     ]
    }
   ],
   "source": [
    "using Pkg\n",
    "Pkg.activate(\"../..\"); # Actives the environment at the root of the project\n",
    "# Using our Carbon-I and vSmartMOM packages (developed by our team)\n",
    "using CarbonI\n",
    "using Dates, DelimitedFiles, XLSX, DataFrames"
   ]
  },
  {
   "cell_type": "code",
   "execution_count": 31,
   "metadata": {},
   "outputs": [],
   "source": [
    "using  CairoMakie, Interpolations\n",
    "include(joinpath(\"../../src/Plots\", \"CI_colorsNew.jl\"))\n",
    "# Read the Excel data\n",
    "filename = \"../../data/Plant.csv\"\n",
    "\n",
    "# The Load CARMA data\n",
    "# The readtable function returns a tuple; we convert it to a DataFrame.\n",
    "data = readdlm(filename,',', skipstart=1)\n",
    "emi = data[:,4]\n",
    "emi[emi.==\"\"] .= NaN\n",
    "\n",
    "emissions_annual = convert.(Float64,emi);\n",
    "\n",
    "# Load CH4 from Airborne Campaigns (Cusworth PNAS paper)\n",
    "filename = \"../../data/carbonmapper_ch4_plumelist_2020_2021.xlsx\"\n",
    "sheetname = \"carbonmapper_ch4_plumelist_2020\"\n",
    "# The readtable function returns a tuple; we convert it to a DataFrame.\n",
    "data = DataFrame(XLSX.readtable(filename, sheetname))\n",
    "plumes_ch4 = convert.(Float64,data[!,\"qplume\"]);"
   ]
  },
  {
   "cell_type": "code",
   "execution_count": 32,
   "metadata": {},
   "outputs": [],
   "source": [
    "# Process CARMA data\n",
    "emissions_hourly_co2 = emissions_annual ./ 8760.0\n",
    "# Clean NaNs\n",
    "emissions_hourly_co2_clean = filter(!isnan, emissions_hourly_co2)\n",
    "\n",
    "# 3. Sort the hourly emissions array in ascending order (for a CDF).\n",
    "sorted_emissions = sort(emissions_hourly_co2_clean, rev=true)\n",
    "sorted_emissions_rev = sort(emissions_hourly_co2_clean, rev=false)\n",
    "\n",
    "# 4. Compute the cumulative sum and normalize by the total. This gives an\n",
    "#    empirical cumulative distribution function (CDF) of total emissions.\n",
    "cdf_vals = cumsum(sorted_emissions) ./ sum(sorted_emissions)\n",
    "cdf_vals_rev = cumsum(sorted_emissions_rev) ./ sum(sorted_emissions_rev)\n",
    "\n",
    "inter_cdf = LinearInterpolation( 100cdf_vals, sorted_emissions)\n",
    "inter_cdf_rev = LinearInterpolation(  sorted_emissions_rev[sorted_emissions_rev.>0],100cdf_vals_rev[sorted_emissions_rev.>0]);"
   ]
  },
  {
   "cell_type": "code",
   "execution_count": 33,
   "metadata": {},
   "outputs": [],
   "source": [
    "# Process CH4:\n",
    "\n",
    "# 3. Sort the hourly emissions array in ascending order (for a CDF).\n",
    "sorted_emissions_ch4 = sort(plumes_ch4, rev=true)\n",
    "sorted_emissions_rev_ch4 = sort(plumes_ch4, rev=false)\n",
    "\n",
    "# 4. Compute the cumulative sum and normalize by the total. This gives an\n",
    "#    empirical cumulative distribution function (CDF) of total emissions.\n",
    "cdf_vals_ch4 = cumsum(sorted_emissions_ch4) ./ sum(sorted_emissions_ch4)\n",
    "cdf_vals_rev_ch4 = cumsum(sorted_emissions_rev_ch4) ./ sum(sorted_emissions_rev_ch4)\n",
    "\n",
    "inter_cdf_ch4 = LinearInterpolation( 100cdf_vals_ch4, sorted_emissions_ch4)\n",
    "inter_cdf_rev_ch4 = LinearInterpolation(  sorted_emissions_rev_ch4[sorted_emissions_rev_ch4.>0],100cdf_vals_rev_ch4[sorted_emissions_rev_ch4.>0]);\n"
   ]
  },
  {
   "cell_type": "code",
   "execution_count": 34,
   "metadata": {},
   "outputs": [
    {
     "data": {
      "text/plain": [
       "2526-element Vector{Float64}:\n",
       " 9697.235917\n",
       " 6522.335382\n",
       " 5774.344132\n",
       " 5506.323639\n",
       " 5485.087488\n",
       " 5366.898563\n",
       " 4978.777499\n",
       " 4184.124144\n",
       " 4180.863976\n",
       " 4114.793208\n",
       "    ⋮\n",
       "   19.55850618\n",
       "   18.85841358\n",
       "   18.80043312\n",
       "   15.38239871\n",
       "   12.38318077\n",
       "   11.81340847\n",
       "   11.10234465\n",
       "    8.354539236\n",
       "    8.091911213"
      ]
     },
     "metadata": {},
     "output_type": "display_data"
    }
   ],
   "source": [
    "sorted_emissions_ch4"
   ]
  },
  {
   "cell_type": "code",
   "execution_count": 35,
   "metadata": {},
   "outputs": [
    {
     "data": {
      "text/plain": [
       "85.0"
      ]
     },
     "metadata": {},
     "output_type": "display_data"
    }
   ],
   "source": [
    "# Specify requirements for CO2\n",
    "req_global = 100\n",
    "req_target = 35\n",
    "\n",
    "cbe_global = 57\n",
    "cbe_target = 18\n",
    "\n",
    "# What fraction of plumes we want to detect:\n",
    "req_percent = 85.0"
   ]
  },
  {
   "cell_type": "code",
   "execution_count": 42,
   "metadata": {},
   "outputs": [
    {
     "data": {
      "text/plain": [
       "90.0"
      ]
     },
     "metadata": {},
     "output_type": "display_data"
    }
   ],
   "source": [
    "# Specify requirements for CH4\n",
    "req_global_ch4 = 175\n",
    "req_target_ch4 = 62\n",
    "\n",
    "cbe_global_ch4 = 99\n",
    "cbe_target_ch4 = 31\n",
    "\n",
    "# What fraction of plumes we want to detect:\n",
    "req_percent_ch4 = 90.0"
   ]
  },
  {
   "cell_type": "code",
   "execution_count": null,
   "metadata": {},
   "outputs": [
    {
     "ename": "MethodError",
     "evalue": "MethodError: no method matching initialize_block!(::Axis; minorticks::IntervalsBetween)\nThis error has been manually thrown, explicitly, so the method may exist but be intentionally marked as unimplemented.\n\nClosest candidates are:\n  initialize_block!(::Axis; palette) got unsupported keyword argument \"minorticks\"\n   @ Makie ~/.julia/packages/Makie/RgxaV/src/makielayout/blocks/axis.jl:160\n  initialize_block!(!Matched::SliderGrid, NamedTuple...) got unsupported keyword argument \"minorticks\"\n   @ Makie ~/.julia/packages/Makie/RgxaV/src/makielayout/blocks/slidergrid.jl:47\n  initialize_block!(!Matched::IntervalSlider) got unsupported keyword argument \"minorticks\"\n   @ Makie ~/.julia/packages/Makie/RgxaV/src/makielayout/blocks/intervalslider.jl:1\n  ...\n",
     "output_type": "error",
     "traceback": [
      "MethodError: no method matching initialize_block!(::Axis; minorticks::IntervalsBetween)\n",
      "This error has been manually thrown, explicitly, so the method may exist but be intentionally marked as unimplemented.\n",
      "\n",
      "Closest candidates are:\n",
      "  initialize_block!(::Axis; palette) got unsupported keyword argument \"minorticks\"\n",
      "   @ Makie ~/.julia/packages/Makie/RgxaV/src/makielayout/blocks/axis.jl:160\n",
      "  initialize_block!(!Matched::SliderGrid, NamedTuple...) got unsupported keyword argument \"minorticks\"\n",
      "   @ Makie ~/.julia/packages/Makie/RgxaV/src/makielayout/blocks/slidergrid.jl:47\n",
      "  initialize_block!(!Matched::IntervalSlider) got unsupported keyword argument \"minorticks\"\n",
      "   @ Makie ~/.julia/packages/Makie/RgxaV/src/makielayout/blocks/intervalslider.jl:1\n",
      "  ...\n",
      "\n",
      "\n",
      "Stacktrace:\n",
      " [1] kwerr(::@NamedTuple{minorticks::IntervalsBetween}, ::Function, ::Axis)\n",
      "   @ Base ./error.jl:165\n",
      " [2] _block(::Type{Axis}, ::Figure; bbox::Nothing, kwargs::@Kwargs{ylabel::String, xlabel::String, yscale::typeof(log10), xticks::StepRange{Int64, Int64}, yminorgridvisible::Bool, minorticks::IntervalsBetween, yminorticks::IntervalsBetween})\n",
      "   @ Makie ~/.julia/packages/Makie/RgxaV/src/makielayout/blocks.jl:374\n",
      " [3] _block(::Type{Axis}, ::GridPosition; kwargs::@Kwargs{ylabel::String, xlabel::String, yscale::typeof(log10), xticks::StepRange{Int64, Int64}, yminorgridvisible::Bool, minorticks::IntervalsBetween, yminorticks::IntervalsBetween})\n",
      "   @ Makie ~/.julia/packages/Makie/RgxaV/src/makielayout/blocks.jl:268\n",
      " [4] _block\n",
      "   @ ~/.julia/packages/Makie/RgxaV/src/makielayout/blocks.jl:261 [inlined]\n",
      " [5] #_#1262\n",
      "   @ ~/.julia/packages/Makie/RgxaV/src/makielayout/blocks.jl:253 [inlined]\n",
      " [6] top-level scope\n",
      "   @ ~/code/gitHub/CarbonI/src/notebooks/jl_notebook_cell_df34fa98e69747e1a8f8a730347b8e2f_W6sdnNjb2RlLXJlbW90ZQ==.jl:47"
     ]
    }
   ],
   "source": [
    "\n",
    "set_theme!(theme_ggplot2())\n",
    "# 5. Create a Figure and an Axis for the plot using CairoMakie.\n",
    "fig = Figure(resolution=(700,800))\n",
    "ax = Axis(fig[1,1];\n",
    "    ylabel = \"Detection Limit of CO₂ Emissions (tons/hour)\",\n",
    "    \n",
    "    title = \"From Coverage Requirements to Detection Limits\",\n",
    "    yscale = log10,\n",
    "    xticks = 0:10:100,\n",
    "    yminorgridvisible=true,\n",
    "    #xminorgridvisible=true,\n",
    "    #xminorticks = IntervalsBetween(5),\n",
    "    yminorticks = IntervalsBetween(5)\n",
    "    )\n",
    "\n",
    "req_flux = inter_cdf(req_percent)\n",
    "cbe_percent = 100 .- inter_cdf_rev(cbe_global)\n",
    "@show cbe_percent\n",
    "# 6. Plot the data as a line. Use `lines!` or `steppre!`/`steppost!` for a classic stepwise ECDF.\n",
    "lines!(ax,  100cdf_vals,sorted_emissions,color = CarbonI_colors[4], linewidth=3)\n",
    "#lines!(ax,  [req_percent,req_percent],[10,inter_cdf(req_percent)], color = :red)\n",
    "arrows!(ax, [req_percent,],[10,],[0,],[req_flux-20,],arrowsize = 10, linewidth=2,color = CarbonI_colors[10])\n",
    "arrows!(ax, [req_percent,],[req_flux,],[-req_percent+1,],[0,],arrowsize = 10, linewidth=2,color = CarbonI_colors[10])\n",
    "text!(ax, \" Req. >85%\", position = (req_percent, 25),\n",
    "      align = (:center, :bottom), color = CarbonI_colors[10], rotation=π/2)\n",
    "\n",
    "#@show inter_cdf(req_percent)\n",
    "text!(ax, \"Req. Detection limit <  $(round(Int, req_flux)) tons/hr \", position = (req_percent/2,req_flux),\n",
    "      align = (:right, :bottom), color = CarbonI_colors[10])\n",
    "\n",
    "arrows!(ax, [0,],[cbe_global,],[cbe_percent-1,],[0,],arrowsize = 10, linewidth=2,color = CarbonI_colors[10], linestyle = :dash)\n",
    "arrows!(ax, [cbe_percent,],[cbe_global,],[0,],[-cbe_global+11,],arrowsize = 10, linewidth=2,color = CarbonI_colors[10],linestyle = :dash)\n",
    "text!(ax, \"CBE >$(round(Int, cbe_percent))%\", position = (cbe_percent, 25),\n",
    "    align = (:center, :bottom), color = CarbonI_colors[10], rotation=π/2)\n",
    "      \n",
    "#@show inter_cdf(req_percent)\n",
    "text!(ax, \"CBE Detection limit <  $(round(Int, cbe_global)) tons/hr \", position = (cbe_percent/2,cbe_global),\n",
    "            align = (:right, :bottom), color = CarbonI_colors[10])\n",
    "\n",
    "#text!(ax, \"50th Percentile\", position = (arrow_x, arrow_tip_y + 10),\n",
    "   #   align = (:center, :bottom), color = :red)\n",
    "ylims!(ax, 10, 10000)\n",
    "xlims!(ax, 0, 100)\n",
    "hidexdecorations!(ax, grid=false)\n",
    "\n",
    "ax2 = Axis(fig[2,1];\n",
    "    ylabel = \"Detection Limit of CH₄ Emissions (kg/hour)\",\n",
    "    xlabel = \"Required Fraction of Total Emissions (%)\",\n",
    "    #title = \"Empirical CDF of Hourly CO₂ Emissions\",\n",
    "    yscale = log10,\n",
    "    xticks = 0:10:100,\n",
    "    yminorgridvisible=true,\n",
    "    #xminorgridvisible=true,\n",
    "    #xminorticks = IntervalsBetween(5),\n",
    "    yminorticks = IntervalsBetween(5)\n",
    "    )\n",
    "\n",
    "req_flux_ch4 = inter_cdf_ch4(req_percent_ch4)\n",
    "cbe_percent_ch4 = 100 .- inter_cdf_rev_ch4(cbe_global_ch4)\n",
    "@show cbe_percent\n",
    "# 6. Plot the data as a line. Use `lines!` or `steppre!`/`steppost!` for a classic stepwise ECDF.\n",
    "lines!(ax2,  100cdf_vals_ch4,sorted_emissions_ch4,color = CarbonI_colors[4], linewidth=3)\n",
    "#lines!(ax,  [req_percent,req_percent],[10,inter_cdf(req_percent)], color = :red)\n",
    "arrows!(ax2, [req_percent_ch4,],[10,],[0,],[req_flux_ch4-20,],arrowsize = 10, linewidth=2,color = CarbonI_colors[10])\n",
    "arrows!(ax2, [req_percent_ch4,],[req_flux_ch4,],[-req_percent_ch4+1,],[0,],arrowsize = 10, linewidth=2,color = CarbonI_colors[10])\n",
    "text!(ax2, \"Req. >90%\", position = (req_percent_ch4, 25),\n",
    "      align = (:center, :bottom), color = CarbonI_colors[10], rotation=π/2)\n",
    "\n",
    "#@show inter_cdf(req_percent)\n",
    "text!(ax2, \"Req. Detection limit <  $(round(Int, req_flux_ch4)) kg/hr \", position = (req_percent_ch4/2,req_flux_ch4),\n",
    "      align = (:right, :bottom), color = CarbonI_colors[10])\n",
    "\n",
    "arrows!(ax2, [0,],[cbe_global_ch4,],[cbe_percent_ch4-1,],[0,],arrowsize = 10, linewidth=2,color = CarbonI_colors[10], linestyle = :dash)\n",
    "arrows!(ax2, [cbe_percent_ch4,],[cbe_global_ch4,],[0,],[-cbe_global_ch4+11,],arrowsize = 10, linewidth=2,color = CarbonI_colors[10],linestyle = :dash)\n",
    "text!(ax2, \"CBE  >$(round(Int, cbe_percent_ch4))%\", position = (cbe_percent_ch4, 25),\n",
    "    align = (:center, :bottom), color = CarbonI_colors[10], rotation=π/2)\n",
    "      \n",
    "#@show inter_cdf(req_percent)\n",
    "text!(ax2, \"CBE Detection limit <  $(round(Int, cbe_global_ch4)) kg/hr \", position = (cbe_percent_ch4/2,cbe_global_ch4),\n",
    "            align = (:right, :bottom), color = CarbonI_colors[10])\n",
    "text!(ax2, \"CH₄\", position = (90, 4e3),\n",
    "            align = (:left, :bottom), color = :black, fontsize=25)\n",
    "text!(ax, \"CO₂\", position = (90, 4e3),\n",
    "            align = (:left, :bottom), color = :black, fontsize=25)\n",
    "#text!(ax, \"50th Percentile\", position = (arrow_x, arrow_tip_y + 10),\n",
    "   #   align = (:center, :bottom), color = :red)\n",
    "ylims!(ax2, 10, 10000)\n",
    "xlims!(ax2, 0, 100)\n",
    "\n",
    "fig     "
   ]
  },
  {
   "cell_type": "code",
   "execution_count": 58,
   "metadata": {},
   "outputs": [
    {
     "data": {
      "text/plain": [
       "CairoMakie.Screen{PDF}\n"
      ]
     },
     "metadata": {},
     "output_type": "display_data"
    }
   ],
   "source": [
    "save(\"../../plots/CO2_CH4_Flux_Detection.pdf\", fig)"
   ]
  },
  {
   "cell_type": "code",
   "execution_count": 41,
   "metadata": {},
   "outputs": [
    {
     "data": {
      "text/plain": [
       "242.14253199255876"
      ]
     },
     "metadata": {},
     "output_type": "display_data"
    }
   ],
   "source": [
    "@show req_flux_ch4"
   ]
  }
 ],
 "metadata": {
  "kernelspec": {
   "display_name": "Julia 1.11.2",
   "language": "julia",
   "name": "julia-1.11"
  },
  "language_info": {
   "file_extension": ".jl",
   "mimetype": "application/julia",
   "name": "julia",
   "version": "1.11.2"
  }
 },
 "nbformat": 4,
 "nbformat_minor": 2
}
