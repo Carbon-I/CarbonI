{
 "cells": [
  {
   "cell_type": "markdown",
   "metadata": {},
   "source": [
    "## Target Obs Stratgey\n",
    "\n"
   ]
  },
  {
   "cell_type": "markdown",
   "metadata": {},
   "source": [
    "> First, we need to import some packages in Julia"
   ]
  },
  {
   "cell_type": "code",
   "execution_count": 9,
   "metadata": {},
   "outputs": [],
   "source": [
    "using Pkg\n",
    "Pkg.activate(\"../..\"); # Actives the environment at the root of the project\n",
    "# Using our Carbon-I and vSmartMOM packages (developed by our team)\n",
    "using CarbonI\n",
    "using Dates, DelimitedFiles, XLSX, DataFrames"
   ]
  },
  {
   "cell_type": "code",
   "execution_count": 10,
   "metadata": {},
   "outputs": [],
   "source": [
    "using  CairoMakie, Interpolations\n",
    "include(joinpath(\"../../src/Plots\", \"CI_colorsNew.jl\"))\n",
    "# Read the Excel data\n",
    "filename = \"../../data/Plant.csv\"\n",
    "\n",
    "# The Load CARMA data\n",
    "# The readtable function returns a tuple; we convert it to a DataFrame.\n",
    "data = readdlm(filename,',', skipstart=1)\n",
    "emi = data[:,4]\n",
    "emi[emi.==\"\"] .= NaN\n",
    "\n",
    "emissions_annual = convert.(Float64,emi);\n",
    "\n",
    "# Load CH4 from Airborne Campaigns (Cusworth PNAS paper)\n",
    "filename = \"../../data/carbonmapper_ch4_plumelist_2020_2021.xlsx\"\n",
    "sheetname = \"carbonmapper_ch4_plumelist_2020\"\n",
    "# The readtable function returns a tuple; we convert it to a DataFrame.\n",
    "data = DataFrame(XLSX.readtable(filename, sheetname))\n",
    "plumes_ch4 = convert.(Float64,data[!,\"qplume\"]);"
   ]
  },
  {
   "cell_type": "code",
   "execution_count": 11,
   "metadata": {},
   "outputs": [
    {
     "data": {
      "image/svg+xml": [
       "<?xml version=\"1.0\" encoding=\"UTF-8\"?>\n",
       "<!DOCTYPE svg PUBLIC \"-//W3C//DTD SVG 1.1//EN\"\n",
       " \"http://www.w3.org/Graphics/SVG/1.1/DTD/svg11.dtd\">\n",
       "<svg xmlns=\"http://www.w3.org/2000/svg\" version=\"1.1\"\n",
       "     width=\"180mm\" height=\"25mm\"\n",
       "     viewBox=\"0 0 10 1\" preserveAspectRatio=\"none\"\n",
       "     shape-rendering=\"crispEdges\" stroke=\"none\">\n",
       "<rect width=\".94\" height=\".96\" x=\"0\" y=\"0\" fill=\"#E7AD39\" />\n",
       "<rect width=\".94\" height=\".96\" x=\"1\" y=\"0\" fill=\"#A5B856\" />\n",
       "<rect width=\".94\" height=\".96\" x=\"2\" y=\"0\" fill=\"#298771\" />\n",
       "<rect width=\".94\" height=\".96\" x=\"3\" y=\"0\" fill=\"#2A4DA1\" />\n",
       "<rect width=\".94\" height=\".96\" x=\"4\" y=\"0\" fill=\"#F1692D\" />\n",
       "<rect width=\".94\" height=\".96\" x=\"5\" y=\"0\" fill=\"#ECBE73\" />\n",
       "<rect width=\".94\" height=\".96\" x=\"6\" y=\"0\" fill=\"#BFCC76\" />\n",
       "<rect width=\".94\" height=\".96\" x=\"7\" y=\"0\" fill=\"#66AA97\" />\n",
       "<rect width=\".94\" height=\".96\" x=\"8\" y=\"0\" fill=\"#7AA6D5\" />\n",
       "<rect width=\".94\" height=\".96\" x=\"9\" y=\"0\" fill=\"#ED8E64\" />\n",
       "</svg>"
      ],
      "text/plain": [
       "10-element Array{RGB{N0f8},1} with eltype RGB{FixedPointNumbers.N0f8}:\n",
       " RGB{N0f8}(0.906,0.678,0.224)\n",
       " RGB{N0f8}(0.647,0.722,0.337)\n",
       " RGB{N0f8}(0.161,0.529,0.443)\n",
       " RGB{N0f8}(0.165,0.302,0.631)\n",
       " RGB{N0f8}(0.945,0.412,0.176)\n",
       " RGB{N0f8}(0.925,0.745,0.451)\n",
       " RGB{N0f8}(0.749,0.8,0.463)\n",
       " RGB{N0f8}(0.4,0.667,0.592)\n",
       " RGB{N0f8}(0.478,0.651,0.835)\n",
       " RGB{N0f8}(0.929,0.557,0.392)"
      ]
     },
     "metadata": {},
     "output_type": "display_data"
    }
   ],
   "source": [
    "CarbonI_colors"
   ]
  },
  {
   "cell_type": "code",
   "execution_count": null,
   "metadata": {},
   "outputs": [],
   "source": [
    "# Process CARMA data\n",
    "emissions_hourly_co2 = emissions_annual ./ 8760.0\n",
    "# Clean NaNs\n",
    "emissions_hourly_co2_clean = filter(!isnan, emissions_hourly_co2);\n",
    "# Avoid duplicates later:\n",
    "emissions_hourly_co2_clean .+= (randn(length(emissions_hourly_co2_clean))*eps(1e-10).+1e-10)\n",
    "# 3. Sort the hourly emissions array in ascending order (for a CDF).\n",
    "sorted_emissions = sort(emissions_hourly_co2_clean, rev=true);\n",
    "sorted_emissions_rev = sort(emissions_hourly_co2_clean, rev=false);\n",
    "\n",
    "# 4. Compute the cumulative sum and normalize by the total. This gives an\n",
    "#    empirical cumulative distribution function (CDF) of total emissions.\n",
    "cdf_vals = cumsum(sorted_emissions) ./ sum(sorted_emissions);\n",
    "cdf_vals_rev = cumsum(sorted_emissions_rev) ./ sum(sorted_emissions_rev);\n",
    "\n",
    "inter_cdf = LinearInterpolation( 100cdf_vals, sorted_emissions);\n",
    "inter_cdf_rev = LinearInterpolation(  sorted_emissions_rev[sorted_emissions_rev.>0],100cdf_vals_rev[sorted_emissions_rev.>0]);"
   ]
  },
  {
   "cell_type": "code",
   "execution_count": 13,
   "metadata": {},
   "outputs": [],
   "source": [
    "# Process CH4:\n",
    "\n",
    "# 3. Sort the hourly emissions array in ascending order (for a CDF).\n",
    "sorted_emissions_ch4 = sort(plumes_ch4, rev=true);\n",
    "sorted_emissions_rev_ch4 = sort(plumes_ch4, rev=false);\n",
    "\n",
    "# 4. Compute the cumulative sum and normalize by the total. This gives an\n",
    "#    empirical cumulative distribution function (CDF) of total emissions.\n",
    "cdf_vals_ch4 = cumsum(sorted_emissions_ch4) ./ sum(sorted_emissions_ch4);\n",
    "cdf_vals_rev_ch4 = cumsum(sorted_emissions_rev_ch4) ./ sum(sorted_emissions_rev_ch4);\n",
    "\n",
    "inter_cdf_ch4 = LinearInterpolation( 100cdf_vals_ch4, sorted_emissions_ch4);\n",
    "inter_cdf_rev_ch4 = LinearInterpolation(  sorted_emissions_rev_ch4[sorted_emissions_rev_ch4.>0],100cdf_vals_rev_ch4[sorted_emissions_rev_ch4.>0]);"
   ]
  },
  {
   "cell_type": "code",
   "execution_count": 14,
   "metadata": {},
   "outputs": [
    {
     "data": {
      "text/plain": [
       "85.0"
      ]
     },
     "metadata": {},
     "output_type": "display_data"
    }
   ],
   "source": [
    "# Specify requirements for CO2\n",
    "req_global = 100\n",
    "req_target = 35\n",
    "\n",
    "cbe_global = 50\n",
    "cbe_target = 18\n",
    "\n",
    "# What fraction of plumes we want to detect:\n",
    "req_percent = 85.0"
   ]
  },
  {
   "cell_type": "code",
   "execution_count": 15,
   "metadata": {},
   "outputs": [
    {
     "data": {
      "text/plain": [
       "90.0"
      ]
     },
     "metadata": {},
     "output_type": "display_data"
    }
   ],
   "source": [
    "# Specify requirements for CH4\n",
    "req_global_ch4 = 175\n",
    "req_target_ch4 = 62\n",
    "\n",
    "cbe_global_ch4 = 84.5\n",
    "cbe_target_ch4 = 31\n",
    "\n",
    "# What fraction of plumes we want to detect:\n",
    "req_percent_ch4 = 90.0"
   ]
  },
  {
   "cell_type": "code",
   "execution_count": 16,
   "metadata": {},
   "outputs": [
    {
     "ename": "DomainError",
     "evalue": "DomainError with -2.8090597e-32:\nlog10 was called with a negative real argument but will only return a complex result if called with a complex argument. Try log10(Complex(x)).",
     "output_type": "error",
     "traceback": [
      "DomainError with -2.8090597e-32:\n",
      "log10 was called with a negative real argument but will only return a complex result if called with a complex argument. Try log10(Complex(x)).\n",
      "\n",
      "Stacktrace:\n",
      "  [1] throw_complex_domainerror(f::Symbol, x::Float32)\n",
      "    @ Base.Math ./math.jl:33\n",
      "  [2] _log\n",
      "    @ ./special/log.jl:330 [inlined]\n",
      "  [3] log10(x::Float32)\n",
      "    @ Base.Math ./special/log.jl:259\n",
      "  [4] apply_transform\n",
      "    @ ~/.julia/packages/Makie/RgxaV/src/layouting/transformation.jl:304 [inlined]\n",
      "  [5] apply_transform\n",
      "    @ ~/.julia/packages/Makie/RgxaV/src/layouting/transformation.jl:242 [inlined]\n",
      "  [6] project_position (repeats 2 times)\n",
      "    @ ~/.julia/packages/CairoMakie/VqiwS/src/utils.jl:7 [inlined]\n",
      "  [7] _broadcast_getindex_evalf\n",
      "    @ ./broadcast.jl:678 [inlined]\n",
      "  [8] _broadcast_getindex\n",
      "    @ ./broadcast.jl:651 [inlined]\n",
      "  [9] getindex\n",
      "    @ ./broadcast.jl:610 [inlined]\n",
      " [10] macro expansion\n",
      "    @ ./broadcast.jl:973 [inlined]\n",
      " [11] macro expansion\n",
      "    @ ./simdloop.jl:77 [inlined]\n",
      " [12] copyto!\n",
      "    @ ./broadcast.jl:972 [inlined]\n",
      " [13] copyto!\n",
      "    @ ./broadcast.jl:925 [inlined]\n",
      " [14] copy\n",
      "    @ ./broadcast.jl:897 [inlined]\n",
      " [15] materialize(bc::Base.Broadcast.Broadcasted{Base.Broadcast.DefaultArrayStyle{1}, Nothing, typeof(CairoMakie.project_position), Tuple{Base.RefValue{Scene}, Tuple{Tuple{typeof(identity), typeof(log10)}}, Base.RefValue{Symbol}, Vector{Point{2, Float32}}, Base.RefValue{StaticArraysCore.SMatrix{4, 4, Float32, 16}}}})\n",
      "    @ Base.Broadcast ./broadcast.jl:872\n",
      " [16] draw_atomic(scene::Scene, screen::CairoMakie.Screen{CairoMakie.PDF}, primitive::Union{Lines, LineSegments})\n",
      "    @ CairoMakie ~/.julia/packages/CairoMakie/VqiwS/src/primitives.jl:30\n",
      " [17] draw_plot(scene::Scene, screen::CairoMakie.Screen{CairoMakie.PDF}, primitive::Lines{Tuple{Vector{Point{2, Float32}}}})\n",
      "    @ CairoMakie ~/.julia/packages/CairoMakie/VqiwS/src/infrastructure.jl:131\n",
      " [18] cairo_draw(screen::CairoMakie.Screen{CairoMakie.PDF}, scene::Scene)\n",
      "    @ CairoMakie ~/.julia/packages/CairoMakie/VqiwS/src/infrastructure.jl:51\n",
      " [19] backend_show(screen::CairoMakie.Screen{CairoMakie.PDF}, io::IOStream, ::MIME{Symbol(\"application/pdf\")}, scene::Scene)\n",
      "    @ CairoMakie ~/.julia/packages/CairoMakie/VqiwS/src/display.jl:97\n",
      " [20] (::Makie.var\"#1194#1195\"{Module, Bool, @Kwargs{}, Figure, MIME{Symbol(\"application/pdf\")}, Scene})(io::IOStream)\n",
      "    @ Makie ~/.julia/packages/Makie/RgxaV/src/display.jl:325\n",
      " [21] open(::Makie.var\"#1194#1195\"{Module, Bool, @Kwargs{}, Figure, MIME{Symbol(\"application/pdf\")}, Scene}, ::String, ::Vararg{String}; kwargs::@Kwargs{})\n",
      "    @ Base ./io.jl:410\n",
      " [22] open\n",
      "    @ ./io.jl:407 [inlined]\n",
      " [23] save(file::FileIO.File{FileIO.DataFormat{:PDF}, String}, fig::Figure; resolution::Tuple{Int64, Int64}, backend::Module, update::Bool, screen_config::@Kwargs{})\n",
      "    @ Makie ~/.julia/packages/Makie/RgxaV/src/display.jl:319\n",
      " [24] save(file::FileIO.File{FileIO.DataFormat{:PDF}, String}, fig::Figure)\n",
      "    @ Makie ~/.julia/packages/Makie/RgxaV/src/display.jl:297\n",
      " [25] save(filename::String, fig::Figure; args::@Kwargs{})\n",
      "    @ Makie ~/.julia/packages/Makie/RgxaV/src/display.jl:294\n",
      " [26] save(filename::String, fig::Figure)\n",
      "    @ Makie ~/.julia/packages/Makie/RgxaV/src/display.jl:291\n",
      " [27] top-level scope\n",
      "    @ ~/code/gitHub/CarbonI/src/notebooks/jl_notebook_cell_df34fa98e69747e1a8f8a730347b8e2f_X12sdnNjb2RlLXJlbW90ZQ==.jl:91"
     ]
    }
   ],
   "source": [
    "\n",
    "set_theme!(theme_ggplot2())\n",
    "# 5. Create a Figure and an Axis for the plot using CairoMakie.\n",
    "fig = Figure(resolution=(550,700))\n",
    "ax = Axis(fig[1,1];\n",
    "    ylabel = \"CO₂ Emissions (tons/hour)\",\n",
    "    \n",
    "    title = \"From Coverage Requirements to Detection Limits\",\n",
    "    yscale = log10,\n",
    "    xticks = 0:10:100,\n",
    "    yminorgridvisible=true,\n",
    "    #xminorgridvisible=true,\n",
    "    #xminorticks = IntervalsBetween(5),\n",
    "    yminorticks = IntervalsBetween(5)\n",
    "    )\n",
    "\n",
    "req_flux = inter_cdf(req_percent)\n",
    "cbe_percent = 100 .- inter_cdf_rev(cbe_global)\n",
    "@show cbe_percent\n",
    "# 6. Plot the data as a line. Use `lines!` or `steppre!`/`steppost!` for a classic stepwise ECDF.\n",
    "lines!(ax,  100cdf_vals,sorted_emissions,color = CarbonI_colors[4], linewidth=3)\n",
    "#lines!(ax,  [req_percent,req_percent],[10,inter_cdf(req_percent)], color = :red)\n",
    "arrows!(ax, [req_percent,],[10,],[0,],[req_flux-20,],arrowsize = 10, linewidth=2,color = CarbonI_colors[5])\n",
    "arrows!(ax, [req_percent,],[req_flux,],[-req_percent+1,],[0,],arrowsize = 10, linewidth=2,color = CarbonI_colors[5])\n",
    "\n",
    "\n",
    "#@show inter_cdf(req_percent)\n",
    "text!(ax, \"Req. Detection limit <  $(round(Int, req_flux)) tons/hr \", position = (req_percent/2,req_flux),\n",
    "      align = (:center, :bottom), color = :black)\n",
    "\n",
    "arrows!(ax, [0,],[cbe_global,],[cbe_percent-1,],[0,],arrowsize = 10, linewidth=2,color = CarbonI_colors[5], linestyle = :dash)\n",
    "arrows!(ax, [cbe_percent,],[cbe_global,],[0,],[-cbe_global+11,],arrowsize = 10, linewidth=2,color = CarbonI_colors[5],linestyle = :dash)\n",
    "\n",
    "      \n",
    "#@show inter_cdf(req_percent)\n",
    "text!(ax, \"CBE Detection limit <  $(round(Int, cbe_global)) tons/hr \", position = (cbe_percent/2,cbe_global),\n",
    "            align = (:center, :bottom), color = :black)\n",
    "text!(ax, \" Req. >85%\", position = (req_percent, 27),\n",
    "            align = (:center, :bottom), color = :black, rotation=π/2)\n",
    "text!(ax, \"CBE >$(round(Int, cbe_percent))%\", position = (cbe_percent, 27),\n",
    "    align = (:center, :bottom), color = :black, rotation=π/2)\n",
    "#text!(ax, \"50th Percentile\", position = (arrow_x, arrow_tip_y + 10),\n",
    "   #   align = (:center, :bottom), color = :red)\n",
    "ylims!(ax, 10, 10000)\n",
    "xlims!(ax, 0, 100)\n",
    "hidexdecorations!(ax, grid=false)\n",
    "\n",
    "ax2 = Axis(fig[2,1];\n",
    "    ylabel = \"CH₄ Emissions (kg/hour)\",\n",
    "    xlabel = \"Cumlative Fraction of Total Emissions (%)\",\n",
    "    #title = \"Empirical CDF of Hourly CO₂ Emissions\",\n",
    "    yscale = log10,\n",
    "    xticks = 0:10:100,\n",
    "    yminorgridvisible=true,\n",
    "    #xminorgridvisible=true,\n",
    "    #xminorticks = IntervalsBetween(5),\n",
    "    yminorticks = IntervalsBetween(5)\n",
    "    )\n",
    "\n",
    "req_flux_ch4 = inter_cdf_ch4(req_percent_ch4)\n",
    "cbe_percent_ch4 = 100 .- inter_cdf_rev_ch4(cbe_global_ch4)\n",
    "@show cbe_percent\n",
    "# 6. Plot the data as a line. Use `lines!` or `steppre!`/`steppost!` for a classic stepwise ECDF.\n",
    "lines!(ax2,  100cdf_vals_ch4,sorted_emissions_ch4,color = CarbonI_colors[4], linewidth=3)\n",
    "#lines!(ax,  [req_percent,req_percent],[10,inter_cdf(req_percent)], color = :red)\n",
    "arrows!(ax2, [req_percent_ch4,],[10,],[0,],[req_flux_ch4-20,],arrowsize = 10, linewidth=2,color = CarbonI_colors[5])\n",
    "arrows!(ax2, [req_percent_ch4,],[req_flux_ch4,],[-req_percent_ch4+1,],[0,],arrowsize = 10, linewidth=2,color = CarbonI_colors[5])\n",
    "text!(ax2, \"Req. >90%\", position = (req_percent_ch4, 27),\n",
    "      align = (:center, :bottom), color = :black, rotation=π/2)\n",
    "\n",
    "#@show inter_cdf(req_percent)\n",
    "text!(ax2, \"Req. Detection limit <  $(round(Int, req_flux_ch4)) kg/hr \", position = (req_percent_ch4/2,req_flux_ch4),\n",
    "      align = (:center, :bottom), color = :black)\n",
    "\n",
    "arrows!(ax2, [0,],[cbe_global_ch4,],[cbe_percent_ch4-1,],[0,],arrowsize = 10, linewidth=2,color = CarbonI_colors[5], linestyle = :dash)\n",
    "arrows!(ax2, [cbe_percent_ch4,],[cbe_global_ch4,],[0,],[-cbe_global_ch4+11,],arrowsize = 10, linewidth=2,color = CarbonI_colors[5],linestyle = :dash)\n",
    "text!(ax2, \"CBE  >$(round(Int, cbe_percent_ch4))%\", position = (cbe_percent_ch4, 27),\n",
    "    align = (:center, :bottom), color = :black, rotation=π/2)\n",
    "      \n",
    "#@show inter_cdf(req_percent)\n",
    "text!(ax2, \"CBE Detection limit <  $(round(Int, cbe_global_ch4)) kg/hr \", position = (cbe_percent_ch4/2,cbe_global_ch4),\n",
    "            align = (:center, :bottom), color = :black)\n",
    "text!(ax2, \"CH₄\", position = (90, 4e3),\n",
    "            align = (:left, :bottom), color = :black, fontsize=20)\n",
    "text!(ax, \"CO₂\", position = (90, 4e3),\n",
    "            align = (:left, :bottom), color = :black, fontsize=20)\n",
    "#text!(ax, \"50th Percentile\", position = (arrow_x, arrow_tip_y + 10),\n",
    "   #   align = (:center, :bottom), color = :red)\n",
    "ylims!(ax2, 10, 10000)\n",
    "xlims!(ax2, 0, 100)\n",
    "save(\"../../plots/final/CO2_CH4_Flux_Detection.pdf\", fig)\n",
    "save(\"../../plots/final/SectionD-D9-CO2_CH4_Flux_Detection.eps\", fig)\n",
    "fig     "
   ]
  }
 ],
 "metadata": {
  "kernelspec": {
   "display_name": "Julia 1.11.4",
   "language": "julia",
   "name": "julia-1.11"
  },
  "language_info": {
   "file_extension": ".jl",
   "mimetype": "application/julia",
   "name": "julia",
   "version": "1.11.4"
  }
 },
 "nbformat": 4,
 "nbformat_minor": 2
}
