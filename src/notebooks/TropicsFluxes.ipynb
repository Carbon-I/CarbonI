{
 "cells": [
  {
   "cell_type": "code",
   "execution_count": 27,
   "metadata": {},
   "outputs": [
    {
     "name": "stderr",
     "output_type": "stream",
     "text": [
      "\u001b[32m\u001b[1m  Activating\u001b[22m\u001b[39m project at `~/code/gitHub/CarbonI`\n"
     ]
    },
    {
     "data": {
      "text/plain": [
       "8.1e-9"
      ]
     },
     "metadata": {},
     "output_type": "display_data"
    }
   ],
   "source": [
    "using Pkg \n",
    "# Activate the environment for the project\n",
    "Pkg.activate(\"../..\"); # Actives the environment at the root of the project\n",
    "\n",
    "using Unitful \n",
    "# Domain size\n",
    "domain = [100u\"km\",100u\"km\"] # in km\n",
    "k = 5.0u\"m^2*s/kg\" \n",
    "\n",
    "ch4_error_12km_req = 13.0e-9 # From L1-3\n",
    "ch4_error_12km_cbe = 8.1e-9 # From L1-3\n"
   ]
  },
  {
   "cell_type": "code",
   "execution_count": 28,
   "metadata": {},
   "outputs": [
    {
     "data": {
      "text/plain": [
       "9.72e-10"
      ]
     },
     "metadata": {},
     "output_type": "display_data"
    }
   ],
   "source": [
    "ch4_error_100km_req  = ch4_error_12km_req / sqrt(prod(domain)/ (12u\"km\")^2) # From L1-3\n",
    "ch4_error_100km_cbe  = ch4_error_12km_cbe / sqrt(prod(domain)/ (12u\"km\")^2) # From L1-3\n"
   ]
  },
  {
   "cell_type": "code",
   "execution_count": 32,
   "metadata": {},
   "outputs": [
    {
     "data": {
      "text/plain": [
       "1.944e-10 kg m^-2 s^-1"
      ]
     },
     "metadata": {},
     "output_type": "display_data"
    }
   ],
   "source": [
    "flux_error_req_100km = ch4_error_100km_req / k\n",
    "flux_error_cbe_100km = ch4_error_100km_cbe / k\n",
    "\n"
   ]
  },
  {
   "cell_type": "code",
   "execution_count": 33,
   "metadata": {},
   "outputs": [
    {
     "name": "stdout",
     "output_type": "stream",
     "text": [
      "uconvert(u\"mg/m^2/d\", flux_error_req_100km) = 26.9568 mg d^-1 m^-2\n",
      "uconvert(u\"mg/m^2/d\", flux_error_cbe_100km) = 16.79616 mg d^-1 m^-2\n"
     ]
    },
    {
     "data": {
      "text/plain": [
       "16.79616 mg d^-1 m^-2"
      ]
     },
     "metadata": {},
     "output_type": "display_data"
    }
   ],
   "source": [
    "@show uconvert(u\"mg/m^2/d\", flux_error_req_100km)\n",
    "@show uconvert(u\"mg/m^2/d\", flux_error_cbe_100km)"
   ]
  },
  {
   "cell_type": "code",
   "execution_count": null,
   "metadata": {},
   "outputs": [],
   "source": [
    "@show uconvert(u\"mg/m^2/d\", flux_error_req_100km/sqrt(9))\n",
    "@show uconvert(u\"mg/m^2/d\", flux_error_cbe_100km/sqrt(9))"
   ]
  }
 ],
 "metadata": {
  "kernelspec": {
   "display_name": "Julia 1.11.4",
   "language": "julia",
   "name": "julia-1.11"
  },
  "language_info": {
   "file_extension": ".jl",
   "mimetype": "application/julia",
   "name": "julia",
   "version": "1.11.4"
  }
 },
 "nbformat": 4,
 "nbformat_minor": 2
}
