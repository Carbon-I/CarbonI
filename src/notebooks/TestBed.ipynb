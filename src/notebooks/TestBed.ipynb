{
 "cells": [
  {
   "cell_type": "markdown",
   "metadata": {},
   "source": [
    "## Carbon-I Testbed Prototype\n",
    "\n",
    "A prototype instrument has already been developed at JPL to demonstrate the Carbon-I measurement concept. This **testbed** incorporates a Dyson block, grating, and focal-plane array (FPA) matching Carbon-I’s anticipated optical design and performance specifications. Through laboratory measurements, the testbed can validate key elements such as **spectral resolution**, **imaging fidelity**, **throughput**, and **straylight** characteristics. These  demonstrations can confirm that Carbon-I’s architecture is both **technically feasible** and **robust**, ensuring confidence as we proceed toward a flight-ready instrument. \n",
    "\n",
    "In its current setup, the **testbed spectra** are measured under a **warm environment**, so the system is not fully aligned at flight operating temperatures. Consequently, the **spectral response function (SRF)** in these early demonstrations will appear more **fuzzy** than what we expect under cold, flight-like alignment conditions—a refinement that will be investigated in subsequent testbed campaigns.\n",
    "\n",
    "---\n",
    "\n",
    "Below, we walk through the **testbed-spectra fitting** procedure using measurements from a **light source** paired with a **CH<sub>4</sub> gas cell**. All examples here leverage the **Julia** programming language, chosen for its **high-level syntax** and **near-C speed**, making it ideally suited for the **Carbon-I** data processing pipeline. "
   ]
  },
  {
   "cell_type": "markdown",
   "metadata": {},
   "source": [
    "> First, we need to import some packages in Julia"
   ]
  },
  {
   "cell_type": "code",
   "execution_count": 1,
   "metadata": {},
   "outputs": [
    {
     "name": "stderr",
     "output_type": "stream",
     "text": [
      "\u001b[32m\u001b[1m  Activating\u001b[22m\u001b[39m project at `~/code/gitHub/CarbonI`\n",
      "┌ Info: CUDA-enabled GPU(s) detected\n",
      "└ @ vSmartMOM /home/cfranken/.julia/packages/vSmartMOM/a7WZC/src/vSmartMOM.jl:57\n",
      "┌ Info: CUDA.CuDevice(0): NVIDIA A100-PCIE-40GB\n",
      "└ @ vSmartMOM /home/cfranken/.julia/packages/vSmartMOM/a7WZC/src/vSmartMOM.jl:59\n",
      "┌ Info: CUDA.CuDevice(1): NVIDIA A100-PCIE-40GB\n",
      "└ @ vSmartMOM /home/cfranken/.julia/packages/vSmartMOM/a7WZC/src/vSmartMOM.jl:59\n"
     ]
    }
   ],
   "source": [
    "using Pkg\n",
    "Pkg.activate(\"../..\"); # Actives the environment at the root of the project\n",
    "# Using our Carbon-I and vSmartMOM packages (developed by our team)\n",
    "using CarbonI, vSmartMOM\n",
    "# Using standard Julia packages for Linear albegra, Differentiation, etc.\n",
    "using SpecialPolynomials, FiniteDiff, LinearAlgebra\n",
    "using DelimitedFiles, ImageFiltering, ForwardDiff, DiffResults\n",
    "# Using the Makie package for plotting\n",
    "using CairoMakie"
   ]
  },
  {
   "cell_type": "markdown",
   "metadata": {},
   "source": [
    "> Reading in the testbed spectra, stored as simple CSV file:"
   ]
  },
  {
   "cell_type": "code",
   "execution_count": 2,
   "metadata": {},
   "outputs": [
    {
     "ename": "ArgumentError",
     "evalue": "ArgumentError: Cannot open '../../data/20250131 CITB CH4.csv': not a file",
     "output_type": "error",
     "traceback": [
      "ArgumentError: Cannot open '../../data/20250131 CITB CH4.csv': not a file\n",
      "\n",
      "Stacktrace:\n",
      " [1] readdlm_auto(input::String, dlm::Char, T::Type, eol::Char, auto::Bool; opts::@Kwargs{})\n",
      "   @ DelimitedFiles ~/.julia/packages/DelimitedFiles/aGcsu/src/DelimitedFiles.jl:234\n",
      " [2] readdlm_auto\n",
      "   @ ~/.julia/packages/DelimitedFiles/aGcsu/src/DelimitedFiles.jl:233 [inlined]\n",
      " [3] readdlm\n",
      "   @ ~/.julia/packages/DelimitedFiles/aGcsu/src/DelimitedFiles.jl:170 [inlined]\n",
      " [4] readdlm(input::String, dlm::Char)\n",
      "   @ DelimitedFiles ~/.julia/packages/DelimitedFiles/aGcsu/src/DelimitedFiles.jl:162\n",
      " [5] top-level scope\n",
      "   @ ~/code/gitHub/CarbonI/src/notebooks/jl_notebook_cell_df34fa98e69747e1a8f8a730347b8e2f_W4sdnNjb2RlLXJlbW90ZQ==.jl:1"
     ]
    }
   ],
   "source": [
    "testbed_ch4 = readdlm(\"../../data/20250131 CITB CH4.csv\",',');"
   ]
  },
  {
   "cell_type": "markdown",
   "metadata": {},
   "source": [
    "> Loading Methane Spectroscopy from a pre-computed cross section table (tools included in vSmartMOM) and then computing the cross section of CH<sub>4</sub>  at the temperature and pressure in the laboratory (WAGs)"
   ]
  },
  {
   "cell_type": "code",
   "execution_count": 3,
   "metadata": {},
   "outputs": [],
   "source": [
    "# Load Cross section database\n",
    "ch4 = vSmartMOM.load_interpolation_model(CarbonI.xs_folder*\"/ch4_model.jld2\")\n",
    "# Generate cross section at TestBed condition\n",
    "p = 940.0 # Pressure in hPa\n",
    "T = 290.0 # Temperature in K\n",
    "Δwl = 0.01 # Resolution in nm\n",
    "# Define high resolution wavelength grid (needs to be larger than the Carbon-I wavelength range to account for the SRF impact at the edges)\n",
    "wl_grid_hr = 2030:Δwl:2398\n",
    "xs_ch4  = reverse(vSmartMOM.absorption_cross_section(ch4, wl_grid_hr, p, T; wavelength_flag=true)); # Has to be reversed to match the order of the data (as table is in wavenumber)\n"
   ]
  },
  {
   "cell_type": "markdown",
   "metadata": {},
   "source": [
    "> Define an Instrument function (using tools developed in Carbon-I), modeling the Spectral Response Function as a mix of two boxcar functions (for slit and detector pixel) as well as a Gaussian (for optical effects)"
   ]
  },
  {
   "cell_type": "code",
   "execution_count": 4,
   "metadata": {},
   "outputs": [],
   "source": [
    "# Define an instrument (Convolution of 2 Box kernels with a Gaussian):\n",
    "FWHM  = 2.5  # Full Width at Half Maximum in nm \n",
    "SSI  = 0.7   # Spectral Sampling Interval in nm\n",
    "# Define the kernels:\n",
    "# Spectral response function of the slit (2*SSI)\n",
    "kern1 = CarbonI.box_kernel(2*SSI, Δwl)\n",
    "# Spectral response function of the optics (Gaussian)\n",
    "kern2 = CarbonI.gaussian_kernel(FWHM, Δwl)\n",
    "# Spectral response function of the pixel (1*SSI)\n",
    "kern3 = CarbonI.box_kernel(SSI, Δwl)\n",
    "# Combine the kernels:\n",
    "kernf = imfilter(imfilter(kern1, kern2), kern3)\n",
    "# Generate the instrument (stores convolution kernel and wavelength grid):\n",
    "CarbonI_SRF = CarbonI.KernelInstrument(kernf, collect(2036.7:SSI:2394.4));"
   ]
  },
  {
   "cell_type": "markdown",
   "metadata": {},
   "source": [
    "> Model Transmission with a first guess of the vertical column density in the cell (8e19molec/cm2 here, which is roughly a double-pass through the atmosphere)."
   ]
  },
  {
   "cell_type": "code",
   "execution_count": 5,
   "metadata": {},
   "outputs": [],
   "source": [
    "vcd = 0.8e20 # molec/cm²\n",
    "# Transmission of entire cell:\n",
    "T_CH4 = exp.(-xs_ch4*vcd)\n",
    "# Transmission of instrument:\n",
    "T_CH4_conv = CarbonI.conv_spectra(CarbonI_SRF, wl_grid_hr, T_CH4);"
   ]
  },
  {
   "cell_type": "markdown",
   "metadata": {},
   "source": [
    "> Plot the **unfitted** modeled and measured spectra as well as the high resolution transmission computed before convolution to the Carbon-I grid"
   ]
  },
  {
   "cell_type": "code",
   "execution_count": 6,
   "metadata": {},
   "outputs": [
    {
     "ename": "UndefVarError",
     "evalue": "UndefVarError: `testbed_ch4` not defined in `Main`\nSuggestion: check for spelling errors or missing imports.",
     "output_type": "error",
     "traceback": [
      "UndefVarError: `testbed_ch4` not defined in `Main`\n",
      "Suggestion: check for spelling errors or missing imports.\n",
      "\n",
      "Stacktrace:\n",
      " [1] top-level scope\n",
      "   @ ~/code/gitHub/CarbonI/src/notebooks/jl_notebook_cell_df34fa98e69747e1a8f8a730347b8e2f_X15sdnNjb2RlLXJlbW90ZQ==.jl:5"
     ]
    }
   ],
   "source": [
    "f = Figure(resolution = (800, 600))\n",
    "ax = Axis(f[1, 1], xlabel = \"Wavelength (nm)\", ylabel = \"Transmission\")\n",
    "lines!(ax, wl_grid_hr, T_CH4, color = :blue, linewidth = 0.5, alpha=0.25, label = \"CH₄ High Resolution\")\n",
    "lines!(ax, CarbonI_SRF.ν_out, T_CH4_conv, color = :red, linewidth = 2.0, label = \"CH₄ convolved\")\n",
    "lines!(ax, testbed_ch4[:,1], testbed_ch4[:,2]./maximum(testbed_ch4[:,2]), color = :black, linewidth = 2.5, label = \"CH₄ Carbon-I Testbed Spectrum (warm, not aligned)\")\n",
    "axislegend(position = :lb)\n",
    "f"
   ]
  },
  {
   "cell_type": "markdown",
   "metadata": {},
   "source": [
    "### Setting up a spectral fit\n",
    "\n",
    "---\n",
    "\n",
    "Now comes one of the most important parts of our fitting routine: **establishing a simple forward model** for the testbed spectra. Below is an example function in **Julia** that takes in a state vector containing parameters like wavelength offset, vertical column density, and instrument SRF specifications, and returns the modeled transmission curve. This function references **CH₄ cross sections**, applies **kernels** to simulate Carbon-I’s instrument resolution, and multiplies the resulting convolved spectrum by a **baseline polynomial** term to account for broad-band absorption structures that might come from the gas cell windows (similar to how surface albedo variationscan vary the broad-band variations in observed spectra when measured from space).\n",
    "\n",
    "---\n",
    "\n",
    "First, we define a simple forward model F(x) that maps our state vector x to modeled measurements.  x includes spectral calibration, vertical column density of the target gas, FWHM of the SRF, polynomial for broad band features."
   ]
  },
  {
   "cell_type": "code",
   "execution_count": 7,
   "metadata": {},
   "outputs": [
    {
     "data": {
      "text/plain": [
       "getGrid (generic function with 1 method)"
      ]
     },
     "metadata": {},
     "output_type": "display_data"
    }
   ],
   "source": [
    "# Set up a simple forward model to fit the data\n",
    "function forward_model_testbed(x::AbstractArray{FT} ;xs_ch4 = xs_ch4, wl_grid_hr = wl_grid_hr, Δwl=Δwl, ind=ind) where {FT}\n",
    "    ############# Extract the parameters of the state vector: ################  \n",
    "    # Start Wavelength\n",
    "    wl_start = x[1]\n",
    "    # SSI\n",
    "    SSI = x[2]\n",
    "    # SSI change in square\n",
    "    SSI_square  = x[3]\n",
    "    # Fixed grid subset for now:\n",
    "    # ind = 50:500\n",
    "    # Compute Carbon-I grid as 2nd order polynomial of the index\n",
    "    carbonI_wlGrid = wl_start .+ ind * SSI .+  ind.^2 * SSI_square\n",
    "    # Vertical Column density (in molec/cm2):\n",
    "    vcd = x[4]\n",
    "    # FWHM (Full Width at Half Maximum)\n",
    "    FWHM = x[5]\n",
    "    # Poynomial terms\n",
    "    poly = Legendre(x[6:end])\n",
    "\n",
    "    ############# Start of the forward model ################################  \n",
    "    # Compute total optical thickness (cross section * vertical column density)\n",
    "    τ = xs_ch4 * vcd\n",
    "    # Compute Transmission\n",
    "    T = exp.(-τ)\n",
    "    #@show T\n",
    "    # Define the instrument SRF:\n",
    "    #SSI  = 0.7\n",
    "    # Kernel 1 simulates slit width as boxcar:\n",
    "    kern1 = CarbonI.box_kernel(2SSI, Δwl)\n",
    "    # Gaussian kernel simulates the resolution of the instrument:\n",
    "    kern2 = CarbonI.gaussian_kernel(FWHM, Δwl)\n",
    "    # Kernel 3 reresents the pixel itself (1*SSI boxcar)\n",
    "    kern3 = CarbonI.box_kernel(SSI, Δwl)\n",
    "    # Combine the kernels, basically a multiplication of their Fourier Transforms:\n",
    "    kernf = imfilter(imfilter(kern1, kern2), kern3)\n",
    "    # Generate the Carbon-I SRF kernel (which includes resampling to the final grid)\n",
    "    CarbonI_SRF = CarbonI.KernelInstrument(kernf, carbonI_wlGrid);\n",
    "    \n",
    "    # Convolve with instrument function\n",
    "    T_conv = CarbonI.conv_spectra(CarbonI_SRF, wl_grid_hr, T)\n",
    "    x_poly = CarbonI.rescale_x(CarbonI_SRF.ν_out)\n",
    "    # Multiply Convolved transmission with the baseline polynomial\n",
    "    return T_conv .* poly.(x_poly)\n",
    "end\n",
    "\n",
    "# Just a simple function to compute the grid from the state vector outside of the forward model (lazy)\n",
    "function getGrid(x; ind=ind)\n",
    "    wl_start = x[1]\n",
    "    # SSI\n",
    "    SSI = x[2]\n",
    "    # SSI change in square\n",
    "    SSI_square  = x[3]\n",
    "    \n",
    "    carbonI_wlGrid = wl_start .+ ind * SSI .+  ind.^2 * SSI_square\n",
    "    return carbonI_wlGrid\n",
    "end"
   ]
  },
  {
   "cell_type": "markdown",
   "metadata": {},
   "source": [
    "> Now we can define a **prior** state vector and run the forward model. Note that this is **not optimized** but just evaluation the forward model at our first guess"
   ]
  },
  {
   "cell_type": "code",
   "execution_count": 8,
   "metadata": {},
   "outputs": [],
   "source": [
    "x = [2036.7, 0.7, 0, 0.8e20, 2.5,  1.0, 0.0e-10, 0.0e-10, 0.0e-10, 0.0e-10,0.0e-10, 0.0e-10, 0.0e-10,0.0e-10,0.0e-10, 0.0e-10,0.0e-10];\n",
    "ind = 1:510\n",
    "yy = forward_model_testbed(x);\n",
    "wl_grid = getGrid(x);"
   ]
  },
  {
   "cell_type": "markdown",
   "metadata": {},
   "source": [
    "> Now we just plot it overlay the measured spectrum. It looks pretty good but is of course not yet **optimized**, i.e. we aim to minimize the squared residuals of (y-F(x))"
   ]
  },
  {
   "cell_type": "code",
   "execution_count": 9,
   "metadata": {},
   "outputs": [
    {
     "data": {
      "text/plain": [
       "plotFit (generic function with 1 method)"
      ]
     },
     "metadata": {},
     "output_type": "display_data"
    }
   ],
   "source": [
    "\n",
    "function plotFit()\n",
    "    f = Figure(resolution = (800, 600))\n",
    "    ax = Axis(f[1, 1], xlabel = \"Wavelength (nm)\", ylabel = \"Transmission\")\n",
    "    lines!(ax, wl_grid, yy, color = :red, linewidth = 2.0, label = \"modeled CH₄ convolved\")\n",
    "    lines!(ax, testbed_ch4[:,1], testbed_ch4[:,2]./maximum(testbed_ch4[:,2]), color = :gray, linewidth = 2.5, label = \"CH₄ Carbon-I Testbed Spectrum (warm, not aligned)\")\n",
    "    axislegend(position = :lb)\n",
    "    f\n",
    "end"
   ]
  },
  {
   "cell_type": "code",
   "execution_count": 10,
   "metadata": {},
   "outputs": [
    {
     "ename": "UndefVarError",
     "evalue": "UndefVarError: `testbed_ch4` not defined in `Main`\nSuggestion: check for spelling errors or missing imports.",
     "output_type": "error",
     "traceback": [
      "UndefVarError: `testbed_ch4` not defined in `Main`\n",
      "Suggestion: check for spelling errors or missing imports.\n",
      "\n",
      "Stacktrace:\n",
      " [1] plotFit()\n",
      "   @ Main ~/code/gitHub/CarbonI/src/notebooks/jl_notebook_cell_df34fa98e69747e1a8f8a730347b8e2f_X24sdnNjb2RlLXJlbW90ZQ==.jl:6\n",
      " [2] (::Makie.var\"#270#271\"{@Kwargs{}, typeof(plotFit), Attributes})()\n",
      "   @ Makie ~/.julia/packages/Makie/RgxaV/src/theming.jl:191\n",
      " [3] lock(f::Makie.var\"#270#271\"{@Kwargs{}, typeof(plotFit), Attributes}, l::ReentrantLock)\n",
      "   @ Base ./lock.jl:232\n",
      " [4] with_theme(f::typeof(plotFit), theme::Attributes; kwargs::@Kwargs{})\n",
      "   @ Makie ~/.julia/packages/Makie/RgxaV/src/theming.jl:187\n",
      " [5] with_theme(f::Function, theme::Attributes)\n",
      "   @ Makie ~/.julia/packages/Makie/RgxaV/src/theming.jl:186\n",
      " [6] top-level scope\n",
      "   @ ~/code/gitHub/CarbonI/src/notebooks/jl_notebook_cell_df34fa98e69747e1a8f8a730347b8e2f_X25sdnNjb2RlLXJlbW90ZQ==.jl:1"
     ]
    }
   ],
   "source": [
    "with_theme(plotFit, theme_black())"
   ]
  },
  {
   "cell_type": "code",
   "execution_count": 11,
   "metadata": {},
   "outputs": [],
   "source": []
  },
  {
   "cell_type": "markdown",
   "metadata": {},
   "source": [
    "> Now we can set up an actual first defining the prior and error covariance matrices (a bit overkill for this application but is provides flexibility)"
   ]
  },
  {
   "cell_type": "code",
   "execution_count": 12,
   "metadata": {},
   "outputs": [
    {
     "ename": "UndefVarError",
     "evalue": "UndefVarError: `testbed_ch4` not defined in `Main`\nSuggestion: check for spelling errors or missing imports.",
     "output_type": "error",
     "traceback": [
      "UndefVarError: `testbed_ch4` not defined in `Main`\n",
      "Suggestion: check for spelling errors or missing imports.\n",
      "\n",
      "Stacktrace:\n",
      " [1] top-level scope\n",
      "   @ ~/code/gitHub/CarbonI/src/notebooks/jl_notebook_cell_df34fa98e69747e1a8f8a730347b8e2f_X31sdnNjb2RlLXJlbW90ZQ==.jl:7"
     ]
    }
   ],
   "source": [
    "# Define the detector indices to include in the fit:\n",
    "ind = 50:500\n",
    "\n",
    "# Number of iterations:\n",
    "n_iter = 5\n",
    "# Initiate 2D array to store the state vector at each iteration\n",
    "x_all = zeros(length(x),n_iter+1);\n",
    "# Use the testbed spectrum divided by its maximum as input spectrum to be fitted:\n",
    "y = testbed_ch4[:,2]./maximum(testbed_ch4[:,2]);\n",
    "# Subselect only for the given detector indices (offset by 1 as Julia is one-index based)\n",
    "y = y[ind.+1];\n",
    "# Set the prior of the first polynmial term to the maximum of the measured spectrum (this ensures less iterations!)\n",
    "x[6] = maximum(y)\n",
    "# Set first guess as the first column of the state vector array\n",
    "x_all[:,1] .= x;\n",
    "# Set Pior state vector to what we used before (which is far enough from the true solution)\n",
    "xa = x;\n",
    "\n",
    "# Define the measurement error covariance matrix (see CSR Box). This is arbitrarily chose here, in real life and simulations we use an instrument model to estimate this.\n",
    "Se = Diagonal((0.002*y).^2);\n",
    "# Define prior covariance matrix (see CSR Box). \n",
    "Sa = zeros(length(x),length(x));\n",
    "Sa[1,1] = 0.03^2; # For the start wavelength\n",
    "Sa[2,2] = 0.02^2; # For the SSI\n",
    "Sa[3,3] = 0.02^2; # For the SSI square\n",
    "Sa[4,4] = 5e20^2; # For the CH4 VCD\n",
    "Sa[5,5] = 0.5^2;  # For the FWHM (in nm)\n",
    "\n",
    "# For polynomial terms *basically unconstrained)\n",
    "for i=6:length(x)\n",
    "    Sa[i,i] = 1^2;\n",
    "end"
   ]
  },
  {
   "cell_type": "markdown",
   "metadata": {},
   "source": [
    "> Now we can run the iterative fit (arbitray cutoff here) and save all results per iteration"
   ]
  },
  {
   "cell_type": "code",
   "execution_count": 13,
   "metadata": {},
   "outputs": [
    {
     "ename": "ArgumentError",
     "evalue": "ArgumentError: Uniform: the condition a < b is not satisfied.",
     "output_type": "error",
     "traceback": [
      "ArgumentError: Uniform: the condition a < b is not satisfied.\n",
      "\n",
      "Stacktrace:\n",
      "  [1] #449\n",
      "    @ ~/.julia/packages/Distributions/j0ZcJ/src/univariate/continuous/uniform.jl:33 [inlined]\n",
      "  [2] check_args\n",
      "    @ ~/.julia/packages/Distributions/j0ZcJ/src/utils.jl:89 [inlined]\n",
      "  [3] #Uniform#448\n",
      "    @ ~/.julia/packages/Distributions/j0ZcJ/src/univariate/continuous/uniform.jl:33 [inlined]\n",
      "  [4] Uniform\n",
      "    @ ~/.julia/packages/Distributions/j0ZcJ/src/univariate/continuous/uniform.jl:32 [inlined]\n",
      "  [5] box_kernel(FWHM::Float64, res::Float64; fac::Int64)\n",
      "    @ CarbonI ~/code/gitHub/CarbonI/src/tools.jl:241\n",
      "  [6] box_kernel\n",
      "    @ ~/code/gitHub/CarbonI/src/tools.jl:237 [inlined]\n",
      "  [7] forward_model_testbed(x::Vector{Float64}; xs_ch4::Vector{Float64}, wl_grid_hr::StepRangeLen{Float64, Base.TwicePrecision{Float64}, Base.TwicePrecision{Float64}, Int64}, Δwl::Float64, ind::UnitRange{Int64})\n",
      "    @ Main ~/code/gitHub/CarbonI/src/notebooks/jl_notebook_cell_df34fa98e69747e1a8f8a730347b8e2f_X20sdnNjb2RlLXJlbW90ZQ==.jl:30\n",
      "  [8] forward_model_testbed(x::Vector{Float64})\n",
      "    @ Main ~/code/gitHub/CarbonI/src/notebooks/jl_notebook_cell_df34fa98e69747e1a8f8a730347b8e2f_X20sdnNjb2RlLXJlbW90ZQ==.jl:2\n",
      "  [9] finite_difference_jacobian(f::typeof(forward_model_testbed), x::Vector{Float64}, fdtype::Val{:forward}, returntype::Type, f_in::Nothing; relstep::Float64, absstep::Float64, colorvec::UnitRange{Int64}, sparsity::Nothing, jac_prototype::Nothing, dir::Bool)\n",
      "    @ FiniteDiff ~/.julia/packages/FiniteDiff/EBPBu/src/jacobians.jl:171\n",
      " [10] finite_difference_jacobian(f::Function, x::Vector{Float64}, fdtype::Val{:forward}, returntype::Type, f_in::Nothing)\n",
      "    @ FiniteDiff ~/.julia/packages/FiniteDiff/EBPBu/src/jacobians.jl:159\n",
      " [11] top-level scope\n",
      "    @ ~/code/gitHub/CarbonI/src/notebooks/jl_notebook_cell_df34fa98e69747e1a8f8a730347b8e2f_X33sdnNjb2RlLXJlbW90ZQ==.jl:3"
     ]
    }
   ],
   "source": [
    "# run iterations\n",
    "for i=1:n_iter\n",
    "    K = FiniteDiff.finite_difference_jacobian(forward_model_testbed,x_all[:,i]);\n",
    "    # Perfom nonlinear Bayesian update (following Rodgers)\n",
    "    F = forward_model_testbed(x_all[:,i]);\n",
    "    iGain = inv(K'inv(Se)K + inv(Sa))K'inv(Se);\n",
    "    # Compute retrieved state vector at iteration i\n",
    "    x_all[:,i+1] = xa + iGain * (y - F + K *(x_all[:,i]-xa));\n",
    "end"
   ]
  },
  {
   "cell_type": "markdown",
   "metadata": {},
   "source": [
    "> Extract the best fit (last iteration)"
   ]
  },
  {
   "cell_type": "code",
   "execution_count": 14,
   "metadata": {},
   "outputs": [
    {
     "ename": "ArgumentError",
     "evalue": "ArgumentError: Uniform: the condition a < b is not satisfied.",
     "output_type": "error",
     "traceback": [
      "ArgumentError: Uniform: the condition a < b is not satisfied.\n",
      "\n",
      "Stacktrace:\n",
      " [1] #449\n",
      "   @ ~/.julia/packages/Distributions/j0ZcJ/src/univariate/continuous/uniform.jl:33 [inlined]\n",
      " [2] check_args\n",
      "   @ ~/.julia/packages/Distributions/j0ZcJ/src/utils.jl:89 [inlined]\n",
      " [3] #Uniform#448\n",
      "   @ ~/.julia/packages/Distributions/j0ZcJ/src/univariate/continuous/uniform.jl:33 [inlined]\n",
      " [4] Uniform\n",
      "   @ ~/.julia/packages/Distributions/j0ZcJ/src/univariate/continuous/uniform.jl:32 [inlined]\n",
      " [5] box_kernel(FWHM::Float64, res::Float64; fac::Int64)\n",
      "   @ CarbonI ~/code/gitHub/CarbonI/src/tools.jl:241\n",
      " [6] box_kernel\n",
      "   @ ~/code/gitHub/CarbonI/src/tools.jl:237 [inlined]\n",
      " [7] forward_model_testbed(x::Vector{Float64}; xs_ch4::Vector{Float64}, wl_grid_hr::StepRangeLen{Float64, Base.TwicePrecision{Float64}, Base.TwicePrecision{Float64}, Int64}, Δwl::Float64, ind::UnitRange{Int64})\n",
      "   @ Main ~/code/gitHub/CarbonI/src/notebooks/jl_notebook_cell_df34fa98e69747e1a8f8a730347b8e2f_X20sdnNjb2RlLXJlbW90ZQ==.jl:30\n",
      " [8] forward_model_testbed(x::Vector{Float64})\n",
      "   @ Main ~/code/gitHub/CarbonI/src/notebooks/jl_notebook_cell_df34fa98e69747e1a8f8a730347b8e2f_X20sdnNjb2RlLXJlbW90ZQ==.jl:2\n",
      " [9] top-level scope\n",
      "   @ ~/code/gitHub/CarbonI/src/notebooks/jl_notebook_cell_df34fa98e69747e1a8f8a730347b8e2f_X35sdnNjb2RlLXJlbW90ZQ==.jl:1"
     ]
    }
   ],
   "source": [
    "y_fit = forward_model_testbed(x_all[:,end]);"
   ]
  },
  {
   "cell_type": "markdown",
   "metadata": {},
   "source": [
    "> Plot the best fit over the entire wavelength range (note, we didn't model a wavelength dependence of the SRF yet)"
   ]
  },
  {
   "cell_type": "code",
   "execution_count": 15,
   "metadata": {},
   "outputs": [
    {
     "data": {
      "text/plain": [
       "plotFit (generic function with 1 method)"
      ]
     },
     "metadata": {},
     "output_type": "display_data"
    }
   ],
   "source": [
    "function plotFit()\n",
    "    f = Figure(resolution = (800, 600))\n",
    "    ii = ind .+1 \n",
    "    ax = Axis(f[1, 1], xlabel = \"Wavelength (nm)\", ylabel = \"Transmission\")\n",
    "    ax2 = Axis(f[2, 1], xlabel = \"Wavelength (nm)\", ylabel = \"Model-Measured (*100)\")\n",
    "    lines!(ax,  getGrid(x_all[:,end]), y_fit, color = :red, linewidth = 2.0, label = \"modeled CH₄ convolved\")\n",
    "    #lines!(ax, CarbonI_SRF.ν_out, forward_model_testbed(x), color = :green, linewidth = 2.0, label = \"prior CH₄ convolved\")\n",
    "    lines!(ax, testbed_ch4[ii,1], y, color = :orange, linewidth = 2.5, label = \"CH₄ Carbon-I Testbed Spectrum (warm, not aligned)\")\n",
    "    axislegend(ax,position = :lb)\n",
    "    lines!(ax2, getGrid(x_all[:,end]), (y_fit.-y)*100, color = :orange, linewidth = 2.5, label = \"Fit Residual\")\n",
    "    ylims!(ax2, (-2,2))\n",
    "    rowsize!(f.layout, 2, Relative(0.25))\n",
    "    ax.xticklabelsvisible = false\n",
    "    ax.xlabelvisible = false\n",
    "    f\n",
    "end"
   ]
  },
  {
   "cell_type": "code",
   "execution_count": 16,
   "metadata": {},
   "outputs": [
    {
     "ename": "UndefVarError",
     "evalue": "UndefVarError: `y_fit` not defined in `Main`\nSuggestion: check for spelling errors or missing imports.",
     "output_type": "error",
     "traceback": [
      "UndefVarError: `y_fit` not defined in `Main`\n",
      "Suggestion: check for spelling errors or missing imports.\n",
      "\n",
      "Stacktrace:\n",
      " [1] plotFit()\n",
      "   @ Main ~/code/gitHub/CarbonI/src/notebooks/jl_notebook_cell_df34fa98e69747e1a8f8a730347b8e2f_X40sdnNjb2RlLXJlbW90ZQ==.jl:6\n",
      " [2] (::Makie.var\"#270#271\"{@Kwargs{}, typeof(plotFit), Attributes})()\n",
      "   @ Makie ~/.julia/packages/Makie/RgxaV/src/theming.jl:191\n",
      " [3] lock(f::Makie.var\"#270#271\"{@Kwargs{}, typeof(plotFit), Attributes}, l::ReentrantLock)\n",
      "   @ Base ./lock.jl:232\n",
      " [4] with_theme(f::typeof(plotFit), theme::Attributes; kwargs::@Kwargs{})\n",
      "   @ Makie ~/.julia/packages/Makie/RgxaV/src/theming.jl:187\n",
      " [5] with_theme(f::Function, theme::Attributes)\n",
      "   @ Makie ~/.julia/packages/Makie/RgxaV/src/theming.jl:186\n",
      " [6] top-level scope\n",
      "   @ ~/code/gitHub/CarbonI/src/notebooks/jl_notebook_cell_df34fa98e69747e1a8f8a730347b8e2f_X41sdnNjb2RlLXJlbW90ZQ==.jl:1"
     ]
    }
   ],
   "source": [
    "with_theme(plotFit, theme_black())"
   ]
  },
  {
   "cell_type": "markdown",
   "metadata": {},
   "source": [
    "> Plot a subset of the range for all iterations (showing quick convergence)"
   ]
  },
  {
   "cell_type": "code",
   "execution_count": 17,
   "metadata": {},
   "outputs": [
    {
     "ename": "ArgumentError",
     "evalue": "ArgumentError: Uniform: the condition a < b is not satisfied.",
     "output_type": "error",
     "traceback": [
      "ArgumentError: Uniform: the condition a < b is not satisfied.\n",
      "\n",
      "Stacktrace:\n",
      " [1] #449\n",
      "   @ ~/.julia/packages/Distributions/j0ZcJ/src/univariate/continuous/uniform.jl:33 [inlined]\n",
      " [2] check_args\n",
      "   @ ~/.julia/packages/Distributions/j0ZcJ/src/utils.jl:89 [inlined]\n",
      " [3] #Uniform#448\n",
      "   @ ~/.julia/packages/Distributions/j0ZcJ/src/univariate/continuous/uniform.jl:33 [inlined]\n",
      " [4] Uniform\n",
      "   @ ~/.julia/packages/Distributions/j0ZcJ/src/univariate/continuous/uniform.jl:32 [inlined]\n",
      " [5] box_kernel(FWHM::Float64, res::Float64; fac::Int64)\n",
      "   @ CarbonI ~/code/gitHub/CarbonI/src/tools.jl:241\n",
      " [6] box_kernel\n",
      "   @ ~/code/gitHub/CarbonI/src/tools.jl:237 [inlined]\n",
      " [7] forward_model_testbed(x::Vector{Float64}; xs_ch4::Vector{Float64}, wl_grid_hr::StepRangeLen{Float64, Base.TwicePrecision{Float64}, Base.TwicePrecision{Float64}, Int64}, Δwl::Float64, ind::UnitRange{Int64})\n",
      "   @ Main ~/code/gitHub/CarbonI/src/notebooks/jl_notebook_cell_df34fa98e69747e1a8f8a730347b8e2f_X20sdnNjb2RlLXJlbW90ZQ==.jl:30\n",
      " [8] forward_model_testbed(x::Vector{Float64})\n",
      "   @ Main ~/code/gitHub/CarbonI/src/notebooks/jl_notebook_cell_df34fa98e69747e1a8f8a730347b8e2f_X20sdnNjb2RlLXJlbW90ZQ==.jl:2\n",
      " [9] top-level scope\n",
      "   @ ~/code/gitHub/CarbonI/src/notebooks/jl_notebook_cell_df34fa98e69747e1a8f8a730347b8e2f_X43sdnNjb2RlLXJlbW90ZQ==.jl:1"
     ]
    }
   ],
   "source": [
    "\n",
    "y_fit = forward_model_testbed(x_all[:,end]);\n",
    "\n",
    "f = Figure(resolution = (800, 600))\n",
    "ii = ind .+1 \n",
    "ax = Axis(f[1, 1], xlabel = \"Wavelength (nm)\", ylabel = \"Transmission\")\n",
    "for iter = 1:n_iter\n",
    "    lines!(ax,  getGrid(x_all[:,iter], ind), forward_model_testbed(x_all[:,iter]),  linewidth = 1.0, label = \"modeled CH₄ at iteration $iter\")\n",
    "end\n",
    "lines!(ax, testbed_ch4[ii,1], y, color = :black, linewidth = 2.5, label = \"CH₄ Carbon-I Testbed Spectrum (warm, not aligned)\")\n",
    "axislegend(ax,position = :lb)\n",
    "xlims!(ax, (2190, 2310))\n",
    "ylims!(ax, (0.75,1))\n",
    "f"
   ]
  },
  {
   "cell_type": "markdown",
   "metadata": {},
   "source": [
    "---\n",
    "\n",
    "Now we just try to run the fit over a smaller wavelength range, which should provide even better fits as the SRF might vary across the FPA a bit. The residuals are indeed quite a bit better in the strong methane feature at 2.2µm. "
   ]
  },
  {
   "cell_type": "code",
   "execution_count": 18,
   "metadata": {},
   "outputs": [
    {
     "ename": "UndefVarError",
     "evalue": "UndefVarError: `testbed_ch4` not defined in `Main`\nSuggestion: check for spelling errors or missing imports.",
     "output_type": "error",
     "traceback": [
      "UndefVarError: `testbed_ch4` not defined in `Main`\n",
      "Suggestion: check for spelling errors or missing imports.\n",
      "\n",
      "Stacktrace:\n",
      " [1] top-level scope\n",
      "   @ ~/code/gitHub/CarbonI/src/notebooks/jl_notebook_cell_df34fa98e69747e1a8f8a730347b8e2f_X45sdnNjb2RlLXJlbW90ZQ==.jl:5"
     ]
    }
   ],
   "source": [
    "# Run a smaller subset:\n",
    "ind= 150:300\n",
    "n_iter = 3\n",
    "# Use the testbed spectrum divided by its maximum as input spectrum to be fitted:\n",
    "y = testbed_ch4[:,2]./maximum(testbed_ch4[:,2])\n",
    "# Subselect only for the given detector indices (offset by 1 as Julia is one-index based)\n",
    "y = y[ind.+1];\n",
    "# Set the prior of the first polynmial term to the maximum of the measured spectrum (this ensures less iterations!)\n",
    "x[6] = maximum(y)\n",
    "# Define the measurement error covariance matrix (see CSR Box). This is arbitrarily chose here, in real life and simulations we use an instrument model to estimate this.\n",
    "Se = Diagonal((0.002*y).^2);\n",
    "\n",
    "# run iterations\n",
    "for i=1:n_iter\n",
    "    K = FiniteDiff.finite_difference_jacobian(forward_model_testbed,x_all[:,i]);\n",
    "    # Perfom nonlinear Bayesian update (following Rodgers)\n",
    "    F = forward_model_testbed(x_all[:,i]);\n",
    "    iGain = inv(K'inv(Se)K + inv(Sa))K'inv(Se);\n",
    "    # Compute retrieved state vector at iteration i\n",
    "    x_all[:,i+1] = xa + iGain * (y - F + K *(x_all[:,i]-xa));\n",
    "end"
   ]
  },
  {
   "cell_type": "code",
   "execution_count": 19,
   "metadata": {},
   "outputs": [
    {
     "name": "stdout",
     "output_type": "stream",
     "text": [
      "(iter, \"Fitted FWHM\", x_all[5, iter]) = (1, \"Fitted FWHM\", 0.0)\n"
     ]
    },
    {
     "ename": "ArgumentError",
     "evalue": "ArgumentError: Uniform: the condition a < b is not satisfied.",
     "output_type": "error",
     "traceback": [
      "ArgumentError: Uniform: the condition a < b is not satisfied.\n",
      "\n",
      "Stacktrace:\n",
      " [1] #449\n",
      "   @ ~/.julia/packages/Distributions/j0ZcJ/src/univariate/continuous/uniform.jl:33 [inlined]\n",
      " [2] check_args\n",
      "   @ ~/.julia/packages/Distributions/j0ZcJ/src/utils.jl:89 [inlined]\n",
      " [3] #Uniform#448\n",
      "   @ ~/.julia/packages/Distributions/j0ZcJ/src/univariate/continuous/uniform.jl:33 [inlined]\n",
      " [4] Uniform\n",
      "   @ ~/.julia/packages/Distributions/j0ZcJ/src/univariate/continuous/uniform.jl:32 [inlined]\n",
      " [5] box_kernel(FWHM::Float64, res::Float64; fac::Int64)\n",
      "   @ CarbonI ~/code/gitHub/CarbonI/src/tools.jl:241\n",
      " [6] box_kernel\n",
      "   @ ~/code/gitHub/CarbonI/src/tools.jl:237 [inlined]\n",
      " [7] forward_model_testbed(x::Vector{Float64}; xs_ch4::Vector{Float64}, wl_grid_hr::StepRangeLen{Float64, Base.TwicePrecision{Float64}, Base.TwicePrecision{Float64}, Int64}, Δwl::Float64, ind::UnitRange{Int64})\n",
      "   @ Main ~/code/gitHub/CarbonI/src/notebooks/jl_notebook_cell_df34fa98e69747e1a8f8a730347b8e2f_X20sdnNjb2RlLXJlbW90ZQ==.jl:30\n",
      " [8] forward_model_testbed(x::Vector{Float64})\n",
      "   @ Main ~/code/gitHub/CarbonI/src/notebooks/jl_notebook_cell_df34fa98e69747e1a8f8a730347b8e2f_X20sdnNjb2RlLXJlbW90ZQ==.jl:2\n",
      " [9] top-level scope\n",
      "   @ ~/code/gitHub/CarbonI/src/notebooks/jl_notebook_cell_df34fa98e69747e1a8f8a730347b8e2f_X46sdnNjb2RlLXJlbW90ZQ==.jl:9"
     ]
    }
   ],
   "source": [
    "f = Figure(resolution = (800, 600))\n",
    "ii = ind .+1 \n",
    "ax = Axis(f[1, 1], xlabel = \"Wavelength (nm)\", ylabel = \"Transmission\")\n",
    "ax2 = Axis(f[2, 1], xlabel = \"Wavelength (nm)\", ylabel = \"Model-Measured (*100)\")\n",
    "rowsize!(f.layout, 2, Relative(0.25))\n",
    "\n",
    "for iter = 1:n_iter\n",
    "    @show iter, \"Fitted FWHM\", x_all[5,iter]\n",
    "    y_fit = forward_model_testbed(x_all[:,iter])\n",
    "    gridi = getGrid(x_all[:,iter], ind)\n",
    "    lines!(ax,  gridi, y_fit,  linewidth = 1.0, label = \"modeled CH₄ at iteration $iter\")\n",
    "    lines!(ax2, gridi, (y_fit.-y)*100,  linewidth = 1., label = \"Fit Residual at iteration $iter\")\n",
    "end\n",
    "lines!(ax, testbed_ch4[ii,1], y, color = :black, linewidth = 2.5, label = \"CH₄ Carbon-I Testbed Spectrum (warm, not aligned)\")\n",
    "axislegend(ax,position = :lb)\n",
    "ax.xticklabelsvisible = false\n",
    "ax.xlabelvisible = false\n",
    "#xlims!(ax, (2190, 2310))\n",
    "ylims!(ax, (0.75,1))\n",
    "f"
   ]
  }
 ],
 "metadata": {
  "kernelspec": {
   "display_name": "Julia 1.11.2",
   "language": "julia",
   "name": "julia-1.11"
  },
  "language_info": {
   "file_extension": ".jl",
   "mimetype": "application/julia",
   "name": "julia",
   "version": "1.11.2"
  }
 },
 "nbformat": 4,
 "nbformat_minor": 2
}
