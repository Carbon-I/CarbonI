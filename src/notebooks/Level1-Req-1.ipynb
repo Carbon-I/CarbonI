{
 "cells": [
  {
   "cell_type": "markdown",
   "metadata": {},
   "source": [
    "# Level 1 Requirement Flowdown Overview\n",
    "\n",
    "## L1-1 Global Point Sources\n",
    "\n",
    "> Carbon-I shall detect point sources exceeding **175 kg/hr of CH₄**, **100 metric tons/hr of CO₂**, and **1.75 metric tons/hr of CO** for the Nominal Scenario¹\n",
    "\n",
    "Observation Modes: Global and Glint Modes\n",
    "\n",
    "¹: Nominal Scenario defines a typical scene with a spectrally flat 15% albedo (Table E.1-2)."
   ]
  },
  {
   "cell_type": "markdown",
   "metadata": {},
   "source": [
    "Set up the programming environment"
   ]
  },
  {
   "cell_type": "code",
   "execution_count": 1,
   "metadata": {},
   "outputs": [
    {
     "name": "stderr",
     "output_type": "stream",
     "text": [
      "\u001b[32m\u001b[1m  Activating\u001b[22m\u001b[39m project at `~/code/gitHub/CarbonI`\n",
      "┌ Info: CUDA-enabled GPU(s) detected\n",
      "└ @ vSmartMOM /home/cfranken/code/gitHub/vSmartMOM.jl/src/vSmartMOM.jl:57\n",
      "┌ Info: CUDA.CuDevice(0): NVIDIA A100-PCIE-40GB\n",
      "└ @ vSmartMOM /home/cfranken/code/gitHub/vSmartMOM.jl/src/vSmartMOM.jl:59\n",
      "┌ Info: CUDA.CuDevice(1): NVIDIA A100-PCIE-40GB\n",
      "└ @ vSmartMOM /home/cfranken/code/gitHub/vSmartMOM.jl/src/vSmartMOM.jl:59\n"
     ]
    },
    {
     "data": {
      "text/plain": [
       "req_vs_exp_table"
      ]
     },
     "metadata": {},
     "output_type": "display_data"
    }
   ],
   "source": [
    "# This Cell is used to set up the environment for the Carbon-I Open Source project.\n",
    "include(\"setup-level1-packages.jl\")\n",
    "# This includes our Carbon-I and vSmartMOM packages (developed by our team)"
   ]
  },
  {
   "cell_type": "markdown",
   "metadata": {},
   "source": [
    "### Define Requirements with corresponding units:\n",
    "\n",
    "We utilize Julia's Unitful package here, which allows for automated unit conversion and propagation of units for any computation. "
   ]
  },
  {
   "cell_type": "code",
   "execution_count": 2,
   "metadata": {},
   "outputs": [
    {
     "data": {
      "text/plain": [
       "2-element Vector{Quantity{Float64, 𝐋, Unitful.FreeUnits{(m,), 𝐋, nothing}}}:\n",
       " 303.0 m\n",
       " 345.0 m"
      ]
     },
     "metadata": {},
     "output_type": "display_data"
    }
   ],
   "source": [
    "# Define Requirements with corresponding units:# Flux limits:\n",
    "flux_detect_ch4_req = 175.0u\"kg/hr\"    # in kg CH₄/hr\n",
    "flux_detect_co2_req = 100e3u\"kg/hr\"    # in kg CO₂/hr\n",
    "flux_detect_co_req  = 1.75e3u\"kg/hr\"   # in kg CO/hr\n",
    "\n",
    "# Specify Ground Sampling Distance GSD in along x cross track directions, for Required and CBE cases:\n",
    "gsd_req  = [400.0u\"m\", 400.0u\"m\"]      # in m\n",
    "gsd_cbe  = [303.0u\"m\", 345.0u\"m\"]      # in m"
   ]
  },
  {
   "cell_type": "code",
   "execution_count": 3,
   "metadata": {},
   "outputs": [],
   "source": [
    "# Compute effective pixel sizes as the square root of the product of along and cross track GSDs:\n",
    "req_pix = sqrt(prod(gsd_req));\n",
    "cbe_pix = sqrt(prod(gsd_cbe));"
   ]
  },
  {
   "cell_type": "markdown",
   "metadata": {},
   "source": [
    "## Theoretical basis for the requirement\n",
    "\n",
    "### Point-Source Detectability (L1-1/L1-2)\n",
    "\n",
    "Under the Jacob framework, the minimum detectable emission rate is:\n",
    "\n",
    "$$\n",
    "Q_{\\min} \\;=\\; \n",
    "\\underbrace{\\frac{M_{\\mathrm{gas}}}{M_{\\mathrm{DryAir}}}\\,\\frac{\\sigma_s\\,p}{g}}_{\\sigma_s^\\ast\\ \\text{(amount/area)}}\n",
    "\\; \\times \\; q \\, U \\, W. \\tag{D–3}\n",
    "$$\n",
    "\n",
    "where  \n",
    "- $ \\sigma_s $ is the single-pixel column precision,  \n",
    "- $ M_{\\mathrm{gas}} $ and $ M_{\\mathrm{dry}} $ are the molar masses of the target gas and dry air, respectively,  \n",
    "- $ p $ is surface pressure, $ g $ is gravitational acceleration,  \n",
    "- $ q $ is the detection scalar (we take $ q = 2 $),  \n",
    "- $ U $ is the wind speed, and  \n",
    "- $ W $ is the ground sampling distance (GSD).\n",
    "\n",
    "Thus, detection is primarily governed by the product $ \\sigma_s \\times W $ at a given wind $U$ and factor $q$ (2 for detection, 5 for quantification) . Finer ground sampling and lower per-pixel noise jointly reduce \\( Q_{\\min} \\).\n",
    "Starting from the Jacob relation, the minimum detectable emission rate is\n",
    "\n",
    "---\n",
    "\n",
    "### Flowdown to a requirement on $ \\sigma_s $ (or $ \\sigma_s \\times W $)\n",
    "\n",
    "Rearranging (D–3) gives a requirement on the product $ \\sigma_s W $ for fixed $ U $ and $ q $:\n",
    "\n",
    "$$\n",
    "\\sigma_{s}^{\\mathrm{req}} \\, W^{\\mathrm{req}}\n",
    "\\;\\le\\;\n",
    "Q^{\\mathrm{req}}_{\\min}\n",
    "\\;\\frac{1}{M_{\\mathrm{gas}}}\n",
    "\\;\\underbrace{\\frac{M_{\\mathrm{dry}}\\,g}{p}}_{\\displaystyle 2.82 \\times 10^{-6}\\ \\text{m}^2\\!/\\text{mol}}\n",
    "\\;\\frac{1}{q\\,U}.\n",
    "$$\n",
    "\n",
    "Once $ W^{\\mathrm{req}} $ is chosen, the corresponding $ \\sigma_s^{\\mathrm{req}} $ follows directly from this inequality. The numerical factor $ 2.82 \\times 10^{-6}\\ \\text{m}^2/\\text{mol} $ reflects $ M_{\\mathrm{dry}} g / p $ at standard conditions and should be recomputed if a different $ p $ is assumed."
   ]
  },
  {
   "cell_type": "code",
   "execution_count": 4,
   "metadata": {},
   "outputs": [
    {
     "name": "stdout",
     "output_type": "stream",
     "text": [
      "(C.g * m.air) / C.p = 2.841957e-6 m^2 mol^-1\n"
     ]
    },
    {
     "data": {
      "text/plain": [
       "2.841957e-6 m^2 mol^-1"
      ]
     },
     "metadata": {},
     "output_type": "display_data"
    }
   ],
   "source": [
    "# Define constants:\n",
    "m = CarbonI.molar_mass()\n",
    "C = CarbonI.Constants()\n",
    "preFac = C.g * m.air / C.p\n",
    "\n",
    "# q=2 for detection limits\n",
    "q = 2.0\n",
    "# Wind speed for the reference scenario\n",
    "wind_speed = 2.0u\"m/s\"\n",
    "# Value of the prefactor (a constant for a given surface pressure)\n",
    "@show C.g * m.air / C.p"
   ]
  },
  {
   "cell_type": "markdown",
   "metadata": {},
   "source": [
    "### Derive single measurement precision requirements"
   ]
  },
  {
   "cell_type": "code",
   "execution_count": 5,
   "metadata": {},
   "outputs": [
    {
     "data": {
      "text/markdown": [
       "| **Gas** | **Required single-measurement precision** | **Unit** |\n",
       "|:--------|:------------------------------------------|:---------|\n",
       "| CH₄     | 5.38                                      | ppb      |\n",
       "| CO₂     | 1.12                                      | ppm      |\n",
       "| CO      | 30.8                                      | ppb      |\n"
      ]
     },
     "metadata": {},
     "output_type": "display_data"
    }
   ],
   "source": [
    "# Use equation from the Jacob relation to compute the required single measurement precisions:\n",
    "σ_ch4_req = flux_detect_ch4_req * preFac / req_pix / m.ch4 / wind_speed / q\n",
    "σ_co2_req = flux_detect_co2_req * preFac / req_pix / m.co2 / wind_speed / q\n",
    "σ_co_req  = flux_detect_co_req  * preFac / req_pix / m.co  / wind_speed / q\n",
    "\n",
    "# Show computation as Markdown:\n",
    "show_required_precisions(σ_ch4_req, σ_co2_req, σ_co_req; render=:markdown)"
   ]
  },
  {
   "cell_type": "markdown",
   "metadata": {},
   "source": [
    "### Load Scenario and CBE + Required instrument specs"
   ]
  },
  {
   "cell_type": "code",
   "execution_count": 6,
   "metadata": {},
   "outputs": [
    {
     "name": "stdout",
     "output_type": "stream",
     "text": [
      "(ds[\"T\"])[iLon, iLat, :, timeIndex] = Union{Missing, Float32}[187.60953, 195.1012, 201.35501, 208.64655, 216.49673, 222.47076, 227.39767, 230.89746, 235.26309, 242.40393, 250.36801, 259.4926, 268.20334, 272.86224, 273.1006, 270.50668, 266.17313, 261.9602, 257.33777, 253.24066, 249.31465, 244.15125, 240.6859, 238.05463, 235.39015, 231.98767, 228.57484, 226.37009, 223.45546, 222.34386, 220.49219, 217.9867, 216.47473, 214.98712, 213.25296, 210.32483, 207.75937, 206.41586, 207.52103, 209.51251, 210.57042, 216.20634, 224.16565, 232.26859, 240.40128, 247.10199, 252.58617, 255.18288, 257.9303, 263.41864, 267.52917, 272.1396, 276.66675, 280.92175, 284.42505, 286.95496, 289.00113, 290.2957, 290.15128, 289.2277, 289.0184, 290.03265, 291.2717, 292.5702, 293.89865, 295.23, 296.56677, 297.8983, 299.22983, 300.5767, 301.94052, 303.46246]\n"
     ]
    }
   ],
   "source": [
    "# Use the reference scenario\n",
    "scenario = CarbonI.reference_scenario();\n",
    "\n",
    "# Load CBE specs\n",
    "cbe_specs = CarbonI.build_instrument(\"CBE\");\n",
    "\n",
    "# Load Required specs\n",
    "req_specs = CarbonI.build_instrument(\"Requirement\");"
   ]
  },
  {
   "cell_type": "code",
   "execution_count": 7,
   "metadata": {},
   "outputs": [],
   "source": [
    "# Create Required Instrument model \n",
    "ins_req = InstrumentOperator.createGratingNoiseModel(req_specs.ET, req_specs.Pitch, \n",
    "\t\treq_specs.FPA_quantum_efficiency, req_specs.bench_efficiency, \n",
    "\t\treq_specs.Fnumber, 2*req_specs.SSI, \n",
    "\t\t(req_specs.readout_noise), req_specs.dark_current); \n",
    "\n",
    "# Create CBE Instrument model\n",
    "ins_cbe = InstrumentOperator.createGratingNoiseModel(cbe_specs.ET, cbe_specs.Pitch, \n",
    "\t\tcbe_specs.FPA_quantum_efficiency, cbe_specs.bench_efficiency, \n",
    "\t\tcbe_specs.Fnumber, 2*cbe_specs.SSI, \n",
    "\t\t(cbe_specs.readout_noise), cbe_specs.dark_current); \n",
    "\n",
    "# Set up data for Required and CBE cases, all instrument parameters are changed per CBE and Required specifications:\n",
    "soil_req, x_req, solarIrr_req, σ_matrix_req, profile_req, h_req, Sₐ_req = setup_data(scenario, req_specs)\n",
    "soil_cbe, x_cbe, solarIrr_cbe, σ_matrix_cbe, profile_cbe, h_cbe, Sₐ_cbe = setup_data(scenario, cbe_specs);"
   ]
  },
  {
   "cell_type": "code",
   "execution_count": 8,
   "metadata": {},
   "outputs": [],
   "source": [
    "# Obtain wavelength grid and spectrally resolved albedo from the scenarios (albedo identical per case)\n",
    "wll = req_specs.modelling_wl;\n",
    "refl_req   = scenario.surface_albedo(wll);\n",
    "refl_cbe   = scenario.surface_albedo(wll);"
   ]
  },
  {
   "cell_type": "markdown",
   "metadata": {},
   "source": [
    "### Compute single measurement precisions for Required and CBE specifications"
   ]
  },
  {
   "cell_type": "code",
   "execution_count": 9,
   "metadata": {},
   "outputs": [
    {
     "data": {
      "text/plain": [
       "(Dict{Any, Any}(\"ch4\" => 10.169267298478452, \"h2o\" => 25789.69301820579, \"co\" => 42.66610353980517, \"n2o\" => 19.75235224462953, \"hdo\" => 174588.2237841886, \"c2h6\" => 25.612590001902237, \"co2\" => 2197.705247128854, \"co213\" => 15617.578884458344), [2.9347659998209354, 2.9244170677547787, 2.7861478511231725, 2.458574551410483, 2.3708779581014725, 2.101959738259233, 1.5845150034998492, 1.8872018549331286, 2.487426918603361, 2.544563990075057  …  1.5793954880093588, 1.356428405620226, 0.9376469195457674, 0.8197518012739107, 0.7713671562665957, 0.7435625617427714, 0.689547995241922, 0.32934537134544783, 0.2291102579894721, 0.540061696871597])"
      ]
     },
     "metadata": {},
     "output_type": "display_data"
    }
   ],
   "source": [
    "# This is calling a helper function to calculate precision errors and the Forward model run F(x) for the Required and CBE cases:\n",
    "# The function calc_rel_error is defined in the common.jl file.\n",
    "error_req, F_req = calc_rel_error(req_specs, x_req, solarIrr_req, refl_req, scenario.sza, σ_matrix_req, profile_req, h_req, ins_req, Sₐ_req, return_F=true) \n",
    "error_cbe, F_cbe = calc_rel_error(cbe_specs, x_cbe, solarIrr_cbe, refl_cbe, scenario.sza, σ_matrix_cbe, profile_cbe, h_cbe, ins_cbe, Sₐ_cbe, return_F=true) "
   ]
  },
  {
   "cell_type": "code",
   "execution_count": 10,
   "metadata": {},
   "outputs": [
    {
     "data": {
      "text/plain": [
       "3.1622776601683795"
      ]
     },
     "metadata": {},
     "output_type": "display_data"
    }
   ],
   "source": [
    "# Compute the square root of the coadd rate for the Required specifications\n",
    "sqrtN = sqrt(req_specs.coadd_rate)"
   ]
  },
  {
   "cell_type": "code",
   "execution_count": 11,
   "metadata": {},
   "outputs": [
    {
     "data": {
      "text/markdown": [
       "| Gas | Expected single-measurement precision | Unit |\n",
       "|-----|--------------------------------------:|------|\n",
       "| CH₄ | 3.216 | ppb |\n",
       "| CO₂ | 0.695 | ppm |\n",
       "| CO | 13.49 | ppb |\n"
      ]
     },
     "metadata": {},
     "output_type": "display_data"
    }
   ],
   "source": [
    "# write out resulting errors after co-adding (tool in common.jl)\n",
    "md_expected_precisions(error_cbe, sqrtN; sigdigits=4)"
   ]
  },
  {
   "cell_type": "markdown",
   "metadata": {},
   "source": [
    "---\n",
    "\n",
    "### Probe phase space of instrument performance and impact on single measurement precision\n",
    "Here, we iterate over readout noise and total system efficiency to derive the dependency of precision on instrument specs\n",
    "\n",
    "---\n",
    "\n",
    "### Uncertainty Budget for a Single Footprint\n",
    "\n",
    "We linearize the radiative transfer around a reference state \\(x_0\\) and write the measurement model:\n",
    "\n",
    "$$\n",
    "y \\;=\\; F(x_0) \\;+\\; \\mathbf{K}\\,(x - x_0) \\;+\\; \\varepsilon. \\tag{D–4}\n",
    "$$\n",
    "\n",
    "Here, $ \\mathbf{K} \\equiv \\partial F/\\partial x $ is the Jacobian (spectral sensitivities) and $ \\varepsilon \\sim \\mathcal{N}(0,\\mathbf{S}_\\varepsilon) $ is detector noise (shot + readout), which is computed mechanistically using our Instrument Model.\n",
    "\n",
    "The posterior covariance of the retrieved state $ \\hat{x} $ in a Bayesian estimator with prior $ \\mathbf{S}_a $ is:\n",
    "\n",
    "$$\n",
    "\\mathrm{Cov}(\\hat{x}) \\;=\\; \\hat{\\mathbf{S}} \\;=\\; \\big(\\mathbf{K}^\\top \\mathbf{S}_\\varepsilon^{-1}\\mathbf{K} \\;+\\; \\mathbf{S}_a^{-1}\\big)^{-1}. \\tag{D–5}\n",
    "$$\n",
    "\n",
    "For total columns $ \\Omega_{\\text{gas}} = \\mathbf{h}_{\\text{gas}}^\\top \\hat{x} $, the single-measurement precision follows:\n",
    "\n",
    "$$\n",
    "\\sigma_s(\\Omega_{\\text{gas}}) \\;=\\; \\sqrt{\\mathbf{h}_{\\text{gas}}^\\top \\hat{\\mathbf{S}}\\,\\mathbf{h}_{\\text{gas}}}. \\tag{D–6}\n",
    "$$\n",
    "\n",
    "These expressions link instrument design (via $ \\mathbf{K} $, spectral sampling, and SNR in $ \\mathbf{S}_\\varepsilon $) to per-footprint column precision used throughout the L1 derivations.\n",
    "\n",
    "> With this setup, we can iterate through key instrument metrics and evaluate the impact on the retrieval precision "
   ]
  },
  {
   "cell_type": "code",
   "execution_count": 12,
   "metadata": {},
   "outputs": [],
   "source": [
    "# Now vary total efficiency at two different readout noise levels, brute force loops:\n",
    "TotalEfficiencies = 0.2:0.05:1.0\n",
    "gas_errors_100 = zeros(3,length(TotalEfficiencies))\n",
    "gas_errors_120 = zeros(3,length(TotalEfficiencies))\n",
    "for (i,efficiency) in enumerate(TotalEfficiencies)\n",
    "    # Create instrument Specs here:\n",
    "    # (here we need to use 57ms integration time for req. as we count 400m pixels along track dimension)\n",
    "    ins_req_100 = InstrumentOperator.createGratingNoiseModel(57.0u\"ms\", req_specs.Pitch, 1.0, efficiency, req_specs.Fnumber, 2*req_specs.SSI, (100.0), req_specs.dark_current); \n",
    "    ins_req_120 = InstrumentOperator.createGratingNoiseModel(57.0u\"ms\", req_specs.Pitch, 1.0, efficiency, req_specs.Fnumber, 2*req_specs.SSI, (120.0), req_specs.dark_current); \n",
    "    # Create an error for 100 and 120e- for the respective efficiency\n",
    "    error_varied_100 = calc_rel_error(req_specs, x_req, solarIrr_req, refl_req, scenario.sza, σ_matrix_req, profile_req, h_req, ins_req_100, Sₐ_req) \n",
    "    error_varied_120 = calc_rel_error(req_specs, x_req, solarIrr_req, refl_req, scenario.sza, σ_matrix_req, profile_req, h_req, ins_req_120, Sₐ_req) \n",
    "    # Store Data\n",
    "    gas_errors_100[1,i] = error_varied_100[\"ch4\"]/sqrt(req_specs.coadd_rate)\n",
    "    gas_errors_120[1,i] = error_varied_120[\"ch4\"]/sqrt(req_specs.coadd_rate) \n",
    "    gas_errors_100[2,i] = error_varied_100[\"co2\"]/sqrt(req_specs.coadd_rate)\n",
    "    gas_errors_120[2,i] = error_varied_120[\"co2\"]/sqrt(req_specs.coadd_rate) \n",
    "    gas_errors_100[3,i] = error_varied_100[\"co\"]/sqrt(req_specs.coadd_rate)\n",
    "    gas_errors_120[3,i] = error_varied_120[\"co\"]/sqrt(req_specs.coadd_rate) \n",
    "end"
   ]
  },
  {
   "cell_type": "code",
   "execution_count": 13,
   "metadata": {},
   "outputs": [],
   "source": [
    "# Create an interpolation function to get the required optical efficiency for a given readout noise and proxy error for N2O\n",
    "# Annoying as it requires ascending order in the x-axis\n",
    "ch4_req_ppb = ustrip(uconvert(u\"ppb\", σ_ch4_req))\n",
    "co2_req_ppb = ustrip(uconvert(u\"ppb\", σ_co2_req))\n",
    "co_req_ppb  = ustrip(uconvert(u\"ppb\", σ_co_req))\n",
    "\n",
    "efficiency_100_ch4 = LinearInterpolation(reverse(gas_errors_100[1,:]./ch4_req_ppb), reverse(TotalEfficiencies), extrapolation_bc=Line());\n",
    "efficiency_120_ch4 = LinearInterpolation(reverse(gas_errors_120[1,:]./ch4_req_ppb), reverse(TotalEfficiencies), extrapolation_bc=Line());\n",
    "\n",
    "efficiency_100_co2 = LinearInterpolation(reverse(gas_errors_100[2,:]./co2_req_ppb), reverse(TotalEfficiencies), extrapolation_bc=Line());\n",
    "efficiency_120_co2 = LinearInterpolation(reverse(gas_errors_120[2,:]./co2_req_ppb), reverse(TotalEfficiencies), extrapolation_bc=Line());\n",
    "\n",
    "efficiency_100_co = LinearInterpolation(reverse(gas_errors_100[3,:]./co_req_ppb), reverse(TotalEfficiencies), extrapolation_bc=Line());\n",
    "efficiency_120_co = LinearInterpolation(reverse(gas_errors_120[3,:]./co_req_ppb), reverse(TotalEfficiencies), extrapolation_bc=Line());"
   ]
  },
  {
   "cell_type": "markdown",
   "metadata": {},
   "source": [
    "### Find driving requirement\n",
    "by finding the maximum of the required efficiency per gas"
   ]
  },
  {
   "cell_type": "code",
   "execution_count": 14,
   "metadata": {},
   "outputs": [],
   "source": [
    "# Concatenate all model runs:\n",
    "all_curves = [efficiency_100_ch4, efficiency_120_ch4, efficiency_100_co2, efficiency_120_co2, efficiency_100_co, efficiency_120_co];\n",
    "# Find driving requirement across all gases:\n",
    "driving_req = maximum([eff(1.0) for eff in all_curves]);"
   ]
  },
  {
   "cell_type": "code",
   "execution_count": 15,
   "metadata": {},
   "outputs": [
    {
     "data": {
      "text/plain": [
       "0.57816"
      ]
     },
     "metadata": {},
     "output_type": "display_data"
    }
   ],
   "source": [
    "# Define required efficiency for the driving requirement\n",
    "req_eff     = driving_req;\n",
    "# Required relative error ratio:\n",
    "req_error       = 1.0;\n",
    "# CBE efficiency \n",
    "eff_cbe = cbe_specs.bench_efficiency * cbe_specs.FPA_quantum_efficiency"
   ]
  },
  {
   "cell_type": "code",
   "execution_count": 16,
   "metadata": {},
   "outputs": [
    {
     "data": {
      "image/png": "[encoded data removed]"
     },
     "metadata": {},
     "output_type": "display_data"
    }
   ],
   "source": [
    "# Just plotting the data, TLDR\n",
    "f = Figure(resolution=(550,400))\n",
    "ax = Axis(f[1,1], xlabel=\"Total System Efficiency\", ylabel=\"Precision (Expected/Required)\",  title=\"From required precision to total system efficiency (Global Mode)\")\n",
    "# For CH4 (100 and 120e-)\n",
    "lines!(ax, TotalEfficiencies, gas_errors_120[1,:]./ch4_req_ppb, color=CarbonI_colors[7], linewidth=3, label=\"CH₄ (120e⁻)\")\n",
    "lines!(ax, TotalEfficiencies, gas_errors_100[1,:]./ch4_req_ppb, color=CarbonI_colors[7], linewidth=1, label=\"CH₄ (100e⁻)\")\n",
    "# For CO2 (100 and 120e-)\n",
    "lines!(ax, TotalEfficiencies, gas_errors_120[2,:]./co2_req_ppb, color=CarbonI_colors[4], linewidth=3, label=\"CO₂ (120e⁻)\")\n",
    "lines!(ax, TotalEfficiencies, gas_errors_100[2,:]./co2_req_ppb, color=CarbonI_colors[4], linewidth=1, label=\"CO₂ (100e⁻)\")\n",
    "# For CO (100 and 120e-)\n",
    "lines!(ax, TotalEfficiencies, gas_errors_120[3,:]./co_req_ppb, color=CarbonI_colors[6], linewidth=3, label=\"CO (120e⁻)\")\n",
    "lines!(ax, TotalEfficiencies, gas_errors_100[3,:]./co_req_ppb, color=CarbonI_colors[6], linewidth=1, label=\"CO (100e⁻)\")\n",
    "\n",
    "# Lines for Driving Requirement\n",
    "arrows!(ax, [0.0,],[1,],[req_eff-0.01,],[0,],arrowsize = 15, linewidth=3, color = CarbonI_colors[5])\n",
    "arrows!(ax, [req_eff,],[req_error,],[0,],[-req_error+0.42,],arrowsize = 15, linewidth=3,color = CarbonI_colors[5])\n",
    "text!(ax, \"Req: > $(round(Int, 100req_eff))%\", position = (req_eff, 0.57),\n",
    "    align = (:center, :bottom), color = :black, rotation=π/2)\n",
    "\n",
    "# Indicate Margins\n",
    "arrows!(ax, [req_eff+0.002,],[req_error,],[eff_cbe-req_eff-0.01,],[0,],arrowsize = 15, linewidth=3, color = :black)\n",
    "text!(ax, \"Margin\", position = (0.45, req_error),  align = (:center, :bottom), color = :black)\n",
    "scatter!(ax, [req_eff], [req_error], color=:red, markersize=15, label=\"Driving Req.\")\n",
    "# Show CBE Total Efficiency\n",
    "lines!(ax, [eff_cbe,eff_cbe], [0,1.35], color=:black, linestyle=:dash, linewidth=2, label=\"CBE\")\n",
    "\n",
    "xlims!(ax,0.2,0.8)\n",
    "ylims!(ax,0.4,1.35)\n",
    "axislegend(ax,position = :rt)\n",
    "save(\"../../plots/final/Level1-1-EfficiencyDerivation_perGas.pdf\",f)\n",
    "f"
   ]
  },
  {
   "cell_type": "code",
   "execution_count": 17,
   "metadata": {},
   "outputs": [],
   "source": [
    "# Save lines to merge later with other requirements:\n",
    "AllData = [TotalEfficiencies gas_errors_120[1,:]./ch4_req_ppb  gas_errors_100[1,:]./ch4_req_ppb gas_errors_120[2,:]./co2_req_ppb gas_errors_100[2,:]./co2_req_ppb gas_errors_120[3,:]./co_req_ppb   gas_errors_100[3,:]./co_req_ppb];\n",
    "writedlm(\"../../data/L1s/L1-1_lines.dat\", AllData)"
   ]
  },
  {
   "cell_type": "code",
   "execution_count": 18,
   "metadata": {},
   "outputs": [
    {
     "name": "stdout",
     "output_type": "stream",
     "text": [
      "Required SNR @1e16 photons/m²/sr/nm/s: 66.83\n",
      "CBE      SNR @1e16 photons/m²/sr/nm/s: 110.3 "
     ]
    }
   ],
   "source": [
    "from_w_to_photons = 5.03e12 # Conversion factor from mW/m²/nm/sr to photons/m²/sr/nm at a specific wavelength (choice is irrelevant here)\n",
    "refRadiance = 1.0e16 # in photons/s/m²/nm\n",
    "\n",
    "# Compute the instrumenyt models again:\n",
    "ins_req_forSNR = InstrumentOperator.createGratingNoiseModel(44.0u\"ms\", req_specs.Pitch, 1.0, req_eff, req_specs.Fnumber, 2*req_specs.SSI, (120.0), req_specs.dark_current);\n",
    "ins_cbe_forSNR = InstrumentOperator.createGratingNoiseModel(44.0u\"ms\", cbe_specs.Pitch, 1.0, eff_cbe, cbe_specs.Fnumber, 2*cbe_specs.SSI, (100.0), cbe_specs.dark_current);\n",
    "\n",
    "# Use reference Wavelength here (just for conversion)\n",
    "ref_wl = 2250;\n",
    "\n",
    "\n",
    "refRadiance_mw = refRadiance / from_w_to_photons / ref_wl\n",
    "nesr_req_forSNR = InstrumentOperator.noise_equivalent_radiance(ins_req_forSNR, (ref_wl)u\"nm\", (refRadiance_mw)u\"mW/m^2/nm/sr\");\n",
    "nesr_cbe_forSNR = InstrumentOperator.noise_equivalent_radiance(ins_cbe_forSNR, (ref_wl)u\"nm\", (refRadiance_mw)u\"mW/m^2/nm/sr\");\n",
    "\n",
    "@printf(\"Required SNR @1e16 photons/m²/sr/nm/s: %.4g\\n\",  refRadiance_mw/(nesr_req_forSNR[1]./1u\"mW/m^2/nm/sr\"))\n",
    "@printf(\"CBE      SNR @1e16 photons/m²/sr/nm/s: %.4g \",  refRadiance_mw/(nesr_cbe_forSNR[1]./1u\"mW/m^2/nm/sr\"))\n"
   ]
  },
  {
   "cell_type": "markdown",
   "metadata": {},
   "source": [
    "---\n",
    "\n",
    "### Compute performance of the CBE design"
   ]
  },
  {
   "cell_type": "code",
   "execution_count": 19,
   "metadata": {},
   "outputs": [
    {
     "name": "stdout",
     "output_type": "stream",
     "text": [
      "CBE Flux Detection for CH₄ : 84.5 kg/hr \n",
      "CBE Flux Detection for CO₂ : 5.01e+04 kg/hr \n",
      "CBE Flux Detection for CO  : 619 kg/hr"
     ]
    }
   ],
   "source": [
    "# Going back full circle from CBE to expected L1 values\n",
    "\n",
    "# For CH4\n",
    "ch4_error_ppb = (error_cbe[\"ch4\"]/sqrt(cbe_specs.coadd_rate))u\"ppb\"\n",
    "flux_ch4_cbe_limit = uconvert(u\"kg/hr\", ch4_error_ppb * C.p /(C.g*m.air) * cbe_pix * m.ch4 * wind_speed * q )\n",
    "\n",
    "# For CO2:\n",
    "co2_error_ppb = (error_cbe[\"co2\"]/sqrt(cbe_specs.coadd_rate))u\"ppb\"\n",
    "flux_co2_cbe_limit = uconvert(u\"kg/hr\", co2_error_ppb * C.p /(C.g*m.air) * cbe_pix * m.co2 * wind_speed * q )\n",
    "\n",
    "# For CO:\n",
    "co_error_ppb = (error_cbe[\"co\"]/sqrt(cbe_specs.coadd_rate))u\"ppb\"\n",
    "flux_co_cbe_limit = uconvert(u\"kg/hr\", co_error_ppb * C.p /(C.g*m.air) * cbe_pix * m.co * wind_speed * q)\n",
    "\n",
    "# Show the results:\n",
    "@printf(\"CBE Flux Detection for CH₄ : %.3g kg/hr \\n\", ustrip(flux_ch4_cbe_limit)) \n",
    "@printf(\"CBE Flux Detection for CO₂ : %.3g kg/hr \\n\", ustrip(flux_co2_cbe_limit))\n",
    "@printf(\"CBE Flux Detection for CO  : %.3g kg/hr\",   ustrip(flux_co_cbe_limit))"
   ]
  },
  {
   "cell_type": "markdown",
   "metadata": {},
   "source": [
    "---\n",
    "\n",
    "### Summary Stats:"
   ]
  },
  {
   "cell_type": "code",
   "execution_count": 20,
   "metadata": {},
   "outputs": [
    {
     "data": {
      "text/markdown": [
       "| Gas | Required σ | Expected σ | Margin wrt to CBE | Margin wrt to REQ |  Unit |\n",
       "|-----|-----------:|-----------:|-------:|-------:|------|\n",
       "| CH₄ | 5.38 | 3.22 | -67.4% | +40.3% |ppb |\n",
       "| CO₂ | 1.12 | 0.695 | -61.3% | +38.0% |ppm |\n",
       "| CO | 30.8 | 13.5 | -128.5% | +56.2% |ppb |\n"
      ]
     },
     "metadata": {},
     "output_type": "display_data"
    }
   ],
   "source": [
    "# Convert everything to the display units you want first\n",
    "σ_ch4_req_ppb = ustrip(uconvert(u\"ppb\", σ_ch4_req))\n",
    "σ_co2_req_ppm = ustrip(uconvert(u\"ppm\", σ_co2_req))\n",
    "σ_co_req_ppb  = ustrip(uconvert(u\"ppb\", σ_co_req))\n",
    "\n",
    "σ_ch4_exp_ppb = error_cbe[\"ch4\"] / sqrtN\n",
    "σ_co2_exp_ppm = error_cbe[\"co2\"] / 1000 / sqrtN\n",
    "σ_co_exp_ppb  = error_cbe[\"co\"]  / sqrtN\n",
    "\n",
    "rows = [\n",
    "    (gas=\"CH₄\", unit=\"ppb\", req=σ_ch4_req_ppb, exp=σ_ch4_exp_ppb),\n",
    "    (gas=\"CO₂\", unit=\"ppm\", req=σ_co2_req_ppm, exp=σ_co2_exp_ppm),\n",
    "    (gas=\"CO\",  unit=\"ppb\", req=σ_co_req_ppb,  exp=σ_co_exp_ppb),\n",
    "]\n",
    "\n",
    "req_vs_exp_table(rows; sigdigits=3, render=:markdown)"
   ]
  },
  {
   "cell_type": "code",
   "execution_count": 21,
   "metadata": {},
   "outputs": [
    {
     "name": "stdout",
     "output_type": "stream",
     "text": [
      "Required SNR @1e16 photons/m²/sr/nm/s: 66.83\n",
      "CBE      SNR @1e16 photons/m²/sr/nm/s: 110.3 "
     ]
    }
   ],
   "source": [
    "# SNR benchmarking\n",
    "@printf(\"Required SNR @1e16 photons/m²/sr/nm/s: %.4g\\n\",  refRadiance_mw/(nesr_req_forSNR[1]./1u\"mW/m^2/nm/sr\"))\n",
    "@printf(\"CBE      SNR @1e16 photons/m²/sr/nm/s: %.4g \",  refRadiance_mw/(nesr_cbe_forSNR[1]./1u\"mW/m^2/nm/sr\"))"
   ]
  },
  {
   "cell_type": "code",
   "execution_count": 22,
   "metadata": {},
   "outputs": [
    {
     "name": "stdout",
     "output_type": "stream",
     "text": [
      "Required total system efficiency: 32.75%\n"
     ]
    }
   ],
   "source": [
    "@printf(\"Required total system efficiency: %.2f%%\\n\", 100*req_eff);"
   ]
  }
 ],
 "metadata": {
  "kernelspec": {
   "display_name": "Julia 1.11.5",
   "language": "julia",
   "name": "julia-1.11"
  },
  "language_info": {
   "file_extension": ".jl",
   "mimetype": "application/julia",
   "name": "julia",
   "version": "1.11.5"
  }
 },
 "nbformat": 4,
 "nbformat_minor": 2
}
