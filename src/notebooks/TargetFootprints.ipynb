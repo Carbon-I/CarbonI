{
 "cells": [
  {
   "cell_type": "code",
   "execution_count": 1,
   "metadata": {},
   "outputs": [
    {
     "name": "stderr",
     "output_type": "stream",
     "text": [
      "\u001b[32m\u001b[1m  Activating\u001b[22m\u001b[39m project at `~/code/gitHub/CarbonI`\n"
     ]
    },
    {
     "data": {
      "text/plain": [
       "relative_latlon_offset (generic function with 1 method)"
      ]
     },
     "metadata": {},
     "output_type": "display_data"
    }
   ],
   "source": [
    "using Pkg\n",
    "Pkg.activate(\"../..\"); # Actives the environment at the root of the project\n",
    "using LinearAlgebra\n",
    "using StaticArrays\n",
    "\n",
    "################################################################################\n",
    "# Constants\n",
    "################################################################################\n",
    "const R_EARTH = 6378.137  # Spherical Earth radius (km)\n",
    "\n",
    "################################################################################\n",
    "# Basic geometry helpers\n",
    "################################################################################\n",
    "\"\"\" Rotation matrix about the x-axis by angle θ. \"\"\"\n",
    "function rotX(θ)\n",
    "    c = cos(θ)\n",
    "    s = sin(θ)\n",
    "    @SMatrix [\n",
    "        1.0   0.0   0.0\n",
    "        0.0    c    -s\n",
    "        0.0    s     c\n",
    "    ]\n",
    "end\n",
    "\n",
    "\"\"\" Rotation matrix about the y-axis by angle θ. \"\"\"\n",
    "function rotY(θ)\n",
    "    c = cos(θ)\n",
    "    s = sin(θ)\n",
    "    @SMatrix [\n",
    "         c   0.0    s\n",
    "        0.0  1.0   0.0\n",
    "        -s   0.0    c\n",
    "    ]\n",
    "end\n",
    "\n",
    "\"\"\"Convert (lat, lon) in radians + radius to ECEF coordinates (x, y, z).\"\"\"\n",
    "function latlon_to_ecef(lat::Float64, lon::Float64, r::Float64)\n",
    "    x = r * cos(lat) * cos(lon)\n",
    "    y = r * cos(lat) * sin(lon)\n",
    "    z = r * sin(lat)\n",
    "    return @SVector [x, y, z]\n",
    "end\n",
    "\n",
    "\"\"\"Convert ECEF (x, y, z) to spherical lat/lon in radians.\"\"\"\n",
    "function ecef_to_latlon(pos::SVector{3,Float64})\n",
    "    x, y, z = pos\n",
    "    r_xy = sqrt(x^2 + y^2)\n",
    "    lat  = atan(z, r_xy)\n",
    "    lon  = atan(y, x)\n",
    "    return (lat, lon)\n",
    "end\n",
    "\n",
    "\n",
    "################################################################################\n",
    "# Build local East, North, Up (ENU) axes at the sub-satellite point (lat0, lon0).\n",
    "#   lat0, lon0 in radians\n",
    "#   Returns (e, n, u) as normalized 3D vectors in ECEF frame.\n",
    "################################################################################\n",
    "function build_enu(lat0::Float64, lon0::Float64)\n",
    "    # Up vector (local zenith)\n",
    "    u = SVector{3}( cos(lat0)*cos(lon0),\n",
    "                    cos(lat0)*sin(lon0),\n",
    "                    sin(lat0) )\n",
    "\n",
    "    # East vector\n",
    "    e = SVector{3}(-sin(lon0), cos(lon0), 0.0)\n",
    "\n",
    "    # North vector\n",
    "    n = cross(u, e)  # or cross(e, u), depending on sign convention\n",
    "    return (e, n, u)\n",
    "end\n",
    "\n",
    "################################################################################\n",
    "# Main function: given:\n",
    "#   lat0, lon0: sub-satellite lat/lon in radians\n",
    "#   h: satellite altitude above Earth (km)\n",
    "#   pitch, roll: angles in radians\n",
    "#\n",
    "# Returns:\n",
    "#   dLat, dLon - the difference (in degrees) from (lat0, lon0) to the target\n",
    "#                intersection point on Earth’s surface\n",
    "################################################################################\n",
    "function relative_latlon_offset(\n",
    "        lat0::Float64,\n",
    "        lon0::Float64,\n",
    "        h::Float64,\n",
    "        pitch::Float64,\n",
    "        roll::Float64;\n",
    "        R::Float64 = R_EARTH\n",
    "    )\n",
    "\n",
    "    # 1) Satellite position in ECEF:\n",
    "    r_satellite = R + h\n",
    "    sat_ecef = latlon_to_ecef(lat0, lon0, r_satellite)\n",
    "\n",
    "    # 2) Local ENU axes at sub-satellite point:\n",
    "    ê, n̂, û = build_enu(lat0, lon0)\n",
    "\n",
    "    # 3) Define the nadir direction in local coordinates.\n",
    "    #    In our local ENU, the “down” (nadir) direction is -û.\n",
    "    #    We'll store it as a 3×1 vector: v_local = [0, 0, -1] is simpler\n",
    "    #    but we need to align with the actual ENU basis if applying rotation\n",
    "    #    in that local coordinate frame.\n",
    "    # \n",
    "    #    We'll do this:\n",
    "    #      - start with the local-vector [0,0,-1],\n",
    "    #      - apply roll about x, then pitch about y,\n",
    "    #      - then map it into ECEF.\n",
    "    #\n",
    "    #    So the local tangent coordinate system is X = ê, Y = n̂, Z = û.\n",
    "    #    v_local = (0, 0, -1).\n",
    "    #\n",
    "    v_local_nadir = SVector{3}(0.0, 0.0, -1.0)\n",
    "\n",
    "    # 4) Build the total rotation in local coordinates:\n",
    "    #    roll about x => Rx(roll)\n",
    "    #    pitch about y => Ry(pitch)\n",
    "    #    final local vector = Ry(pitch)*Rx(roll)*v_local_nadir\n",
    "    #\n",
    "    #    (You might swap the order of rotations if your pitch/roll definitions\n",
    "    #     differ from the convention used here.)\n",
    "    #\n",
    "    v_local = rotY(pitch) * (rotX(roll) * v_local_nadir)\n",
    "\n",
    "    # 5) Convert this local vector into ECEF by linear combination of (ê, n̂, û):\n",
    "    #    v_ecef = v_local[1]*ê + v_local[2]*n̂ + v_local[3]*û\n",
    "    #\n",
    "    v_ecef = v_local[1]*ê + v_local[2]*n̂ + v_local[3]*û\n",
    "\n",
    "    # 6) Solve for intersection of ray with Earth (sphere of radius R):\n",
    "    #    We have parametric line:\n",
    "    #      X(t) = sat_ecef + t * v_ecef\n",
    "    #    We want norm(X(t)) = R\n",
    "    #\n",
    "    #    => ||sat_ecef + t v_ecef||^2 = R^2\n",
    "    #    => let S = sat_ecef, V = v_ecef:\n",
    "    #       (S + tV)·(S + tV) = R^2\n",
    "    #       S·S + 2t(S·V) + t^2 (V·V) = R^2\n",
    "    #    Solve for t and pick the smaller positive root (the intersection “below” the satellite).\n",
    "    #\n",
    "    S = sat_ecef\n",
    "    V = v_ecef\n",
    "    S_dot_S = dot(S,S)\n",
    "    S_dot_V = dot(S,V)\n",
    "    V_dot_V = dot(V,V)\n",
    "\n",
    "    # Quadratic: a*t^2 + b*t + c = 0\n",
    "    a = V_dot_V\n",
    "    b = 2.0 * S_dot_V\n",
    "    c = S_dot_S - R^2\n",
    "\n",
    "    # Solve:\n",
    "    discriminant = b^2 - 4*a*c\n",
    "    if discriminant < 0\n",
    "        error(\"No real intersection found (discriminant < 0). Check geometry.\")\n",
    "    end\n",
    "\n",
    "    t1 = (-b + sqrt(discriminant)) / (2a)\n",
    "    t2 = (-b - sqrt(discriminant)) / (2a)\n",
    "\n",
    "    # We want the intersection *in front* of the satellite along v_ecef\n",
    "    # Typically t will be negative if the direction is 'down' toward Earth,\n",
    "    # but it depends how you define v_ecef.  Check which root is physically correct.\n",
    "    #\n",
    "    # Generally, one root will be between 0 and 1*(some range),\n",
    "    # or might be negative. Evaluate both and pick whichever is valid and is closer to the satellite.\n",
    "    #\n",
    "    # Because v_local_nadir = (0,0,-1), the direction is indeed “down.”\n",
    "    # But let's just pick the smaller positive solution or the larger negative solution\n",
    "    # depending on sign conventions. In many setups, the correct intersection is\n",
    "    # the *larger* negative t if v is downward. You can test & pick the one that\n",
    "    # yields a smaller ||X - S|| in magnitude. We'll do a simple check here:\n",
    "    #\n",
    "    candidates = [t1, t2]\n",
    "    # pick the one that yields the smaller distance from sat_ecef to the Earth:\n",
    "    function distance_to_sat(t) \n",
    "        return norm(S + t*V - S) \n",
    "    end\n",
    "    t_candidates = filter(t -> !isnan(t), candidates)\n",
    "    if isempty(t_candidates)\n",
    "        error(\"No valid intersection parameter found.\")\n",
    "    end\n",
    "    t_best = t_candidates[argmin(distance_to_sat.(t_candidates))]\n",
    "\n",
    "    # Intersection point on Earth:\n",
    "    X_int = S + t_best * V\n",
    "\n",
    "    # 7) Convert intersection ECEF -> lat/lon (in radians):\n",
    "    (lat_int, lon_int) = ecef_to_latlon(X_int)\n",
    "\n",
    "    # 8) Return the difference (in degrees) from the sub-satellite point\n",
    "    dLat = (lat_int - lat0) * (180/pi)\n",
    "    dLon = (lon_int - lon0) * (180/pi)\n",
    "\n",
    "    return dLat, dLon\n",
    "end\n",
    "\n",
    "\n",
    "################################################################################\n",
    "# Example usage\n",
    "################################################################################\n",
    "\n",
    "# Suppose the sub-satellite point is at latitude=10°, longitude=45°,\n",
    "# altitude = 700 km, with pitch=2°, roll=-1° (all angles in degrees).\n",
    "# Let's compute the relative lat/lon shift (in degrees).\n",
    "#\n",
    "\n"
   ]
  },
  {
   "cell_type": "code",
   "execution_count": 2,
   "metadata": {},
   "outputs": [
    {
     "name": "stdout",
     "output_type": "stream",
     "text": [
      "Relative offset in latitude = 3.3260781424949233 degrees\n",
      "Relative offset in longitude = -3.687660466643002 degrees\n",
      "Footprint across track= 64.69722898906602 m\n",
      "Footprint along track = 54.273577211282735 m\n"
     ]
    }
   ],
   "source": [
    "function example()\n",
    "    lat0_deg  = 10.0\n",
    "    lon0_deg  = 45.0\n",
    "    alt_km    = 668.0\n",
    "    pitch_deg = 30.0\n",
    "    roll_deg  = 25.0\n",
    "\n",
    "    # Convert input angles to radians for internal trigonometry:\n",
    "    deg2rad = π/180\n",
    "    lat0  = lat0_deg * deg2rad\n",
    "    lon0  = lon0_deg * deg2rad\n",
    "    pitch = pitch_deg * deg2rad\n",
    "    roll  = roll_deg * deg2rad\n",
    "\n",
    "    ifov = 51.7/1000000\n",
    "\n",
    "    dLat, dLon = relative_latlon_offset(lat0, lon0, alt_km, pitch, roll)\n",
    "    dLatIFOV, dLonIFOV = relative_latlon_offset(lat0, lon0, alt_km, pitch+ifov, roll+ifov)\n",
    "    println(\"Relative offset in latitude = $dLat degrees\")\n",
    "    println(\"Relative offset in longitude = $dLon degrees\")\n",
    "\n",
    "    ΔLat = abs(dLat - dLatIFOV)*deg2rad*R_EARTH*1000\n",
    "    ΔLon = abs(dLon - dLonIFOV)*deg2rad*R_EARTH*1000\n",
    "    println(\"Footprint across track= $ΔLat m\")\n",
    "    println(\"Footprint along track = $ΔLon m\")\n",
    "end\n",
    "\n",
    "example()"
   ]
  },
  {
   "cell_type": "code",
   "execution_count": 3,
   "metadata": {},
   "outputs": [],
   "source": [
    "pitch_deg = 0:38.0\n",
    "roll_deg  = 0.0\n",
    "lat0_deg  = 10.0\n",
    "lon0_deg  = 45.0\n",
    "alt_km    = 668.0\n",
    "# Convert input angles to radians for internal trigonometry:\n",
    "deg2rad = π/180\n",
    "lat0  = lat0_deg * deg2rad\n",
    "lon0  = lon0_deg * deg2rad\n",
    "pitch = pitch_deg * deg2rad\n",
    "roll  = roll_deg * deg2rad\n",
    "\n",
    "ifov = 51.7/1e6;"
   ]
  },
  {
   "cell_type": "code",
   "execution_count": 4,
   "metadata": {},
   "outputs": [
    {
     "data": {
      "text/plain": [
       "computeAcrossTrackSize (generic function with 1 method)"
      ]
     },
     "metadata": {},
     "output_type": "display_data"
    }
   ],
   "source": [
    "function computeAcrossTrackSize(roll_deg)\n",
    "    roll = roll_deg * deg2rad\n",
    "    dGeo = relative_latlon_offset.(lat0, lon0, alt_km, pitch, roll)\n",
    "    dGeoIFOV = relative_latlon_offset.(lat0, lon0, alt_km, pitch .+ifov, roll .+ifov)\n",
    "\n",
    "    dLats = [a[1] for a in dGeo];\n",
    "    ddLats = [a[1] for a in dGeoIFOV];\n",
    "\n",
    "    dLons = [a[2] for a in dGeo];\n",
    "    ddLons = [a[2] for a in dGeoIFOV];\n",
    "\n",
    "    dAcross = abs.(dLats.-ddLats)*deg2rad*R_EARTH*1000\n",
    "    dAlong  = abs.(dLons.-ddLons)*deg2rad*R_EARTH*1000\n",
    "    return dAcross, dAlong\n",
    "end"
   ]
  },
  {
   "cell_type": "code",
   "execution_count": 5,
   "metadata": {},
   "outputs": [
    {
     "data": {
      "text/plain": [
       "([39.975159765677844, 40.21881544152389, 40.47697370605183, 40.75010924077659, 41.038728807527406, 41.34337377110653, 41.66462283496665, 42.003095018925954, 42.359452913921324, 42.734406244993664  …  55.8932235523033, 56.97508452679329, 58.11901240013857, 59.329836224459946, 60.61293356613309, 61.97431214725672, 63.420706897144754, 64.95969599912317, 66.59984050198139, 68.35085340113287], [35.582377415381416, 35.639137393971495, 35.72209303102786, 35.83148136678593, 35.967624558371845, 36.130932110377195, 36.32190376748111, 36.54113309612854, 36.78931181468477, 37.06723492787311  …  51.44893829469652, 52.84581403814476, 54.34687166380473, 55.9615047855714, 57.70031805401354, 59.57532266590482, 61.6001712897961, 63.79044202931533, 66.16398382135539, 68.74133938383116])"
      ]
     },
     "metadata": {},
     "output_type": "display_data"
    }
   ],
   "source": [
    "computeAcrossTrackSize(20.0)"
   ]
  },
  {
   "cell_type": "code",
   "execution_count": 6,
   "metadata": {},
   "outputs": [],
   "source": [
    "using CairoMakie\n",
    "include(joinpath(\"../../src/Plots\", \"CI_colorsNew.jl\"));\n",
    "set_theme!(theme_ggplot2())"
   ]
  },
  {
   "cell_type": "code",
   "execution_count": 7,
   "metadata": {},
   "outputs": [
    {
     "data": {
      "image/png": "[encoded data removed]"
     },
     "metadata": {},
     "output_type": "display_data"
    }
   ],
   "source": [
    "\n",
    "f = Figure(resolution=(550,400))\n",
    "lowerLim = 4.0\n",
    "\n",
    "ax = Axis(f[1,1], xlabel=\"Pitch\", ylabel=\"Effective Footprint GSD across track\",  title=\"Target GSD across the Scan\")\n",
    "lines!(ax, pitch_deg , computeAcrossTrackSize(0.0)[1], color=CarbonI_colors[1], linewidth=3,  label=\"Across Track, Roll Angle =  0°\")\n",
    "lines!(ax, pitch_deg , computeAcrossTrackSize(0.0)[2], color=CarbonI_colors[1], linewidth=3, linestyle=:dash,  label=\"Along Track, Roll Angle =  0°\")\n",
    "lines!(ax, pitch_deg , computeAcrossTrackSize(12.5)[1], color=CarbonI_colors[2], linewidth=3, label=\"Roll Angle = 12.5°\")\n",
    "lines!(ax, pitch_deg , computeAcrossTrackSize(12.5)[2], color=CarbonI_colors[2], linewidth=3, linestyle=:dash)\n",
    "lines!(ax, pitch_deg , computeAcrossTrackSize(25.0)[1], color=CarbonI_colors[3], linewidth=3,  label=\"Roll Angle = 25°\")\n",
    "lines!(ax, pitch_deg , computeAcrossTrackSize(25.0)[2], color=CarbonI_colors[3], linewidth=3, linestyle=:dash)\n",
    "lines!(ax, pitch_deg , computeAcrossTrackSize(40.0)[1], color=CarbonI_colors[4], linewidth=2, label=\"Roll Angle = 40°\")\n",
    "lines!(ax, pitch_deg , computeAcrossTrackSize(40.0)[2], color=CarbonI_colors[4], linewidth=2,linestyle=:dash)\n",
    "#lines!(ax, pitch_deg , computeAcrossTrackSize(0.0), color=CarbonI_colors[5], linewidth=2, label=\"Roll Angle = 45°\")\n",
    "\n",
    "axislegend(ax,position = :lt;  labelsize=12)\n",
    "ylims!(ax, 0, 140)\n",
    "f\n"
   ]
  },
  {
   "cell_type": "code",
   "execution_count": 10,
   "metadata": {},
   "outputs": [
    {
     "name": "stdout",
     "output_type": "stream",
     "text": [
      "mean_xTrack_GSD / 34.5 = 1.276498222474514\n"
     ]
    },
    {
     "data": {
      "text/plain": [
       "1.276498222474514"
      ]
     },
     "metadata": {},
     "output_type": "display_data"
    }
   ],
   "source": [
    "using Statistics\n",
    "mean_xTrack_GSD = median([computeAcrossTrackSize(0.0)[1]; computeAcrossTrackSize(15)[1] ; computeAcrossTrackSize(30.0)[1]]);\n",
    "@show mean_xTrack_GSD/34.5"
   ]
  }
 ],
 "metadata": {
  "kernelspec": {
   "display_name": "Julia 1.11.4",
   "language": "julia",
   "name": "julia-1.11"
  },
  "language_info": {
   "file_extension": ".jl",
   "mimetype": "application/julia",
   "name": "julia",
   "version": "1.11.4"
  }
 },
 "nbformat": 4,
 "nbformat_minor": 2
}
