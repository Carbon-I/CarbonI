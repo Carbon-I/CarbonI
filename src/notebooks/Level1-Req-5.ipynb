{
 "cells": [
  {
   "cell_type": "markdown",
   "metadata": {},
   "source": [
    "## Level 1 Requirement Flowdown\n",
    "\n",
    "### L1-5 Regional Fluxes (Target Mode)\n",
    "\n",
    "> For representative regions² (90 km × 90 km) Carbon-I shall obtain column averaged mixing ratios with a standard error ≤8 ppm CH4, ≤1.6 ppm CO2, and ≤10 ppb CO once averaged to a 1 km × 1 km grid for our reference scenario4 with a revisit capability ≤7 days. \n",
    "\n",
    "\n",
    "²: Representative regions are those that best exemplify major emission sectors—wetlands, agriculture, and waste—where emission uncertainty is high and process-based understanding remains limited.\n",
    "\n",
    "---"
   ]
  },
  {
   "cell_type": "markdown",
   "metadata": {},
   "source": [
    "Let's codify these numbers"
   ]
  },
  {
   "cell_type": "code",
   "execution_count": 34,
   "metadata": {},
   "outputs": [
    {
     "name": "stderr",
     "output_type": "stream",
     "text": [
      "\u001b[32m\u001b[1m  Activating\u001b[22m\u001b[39m project at `~/code/gitHub/CarbonI`\n"
     ]
    }
   ],
   "source": [
    "using Pkg\n",
    "Pkg.activate(\"../..\"); # Actives the environment at the root of the project\n",
    "# Using our Carbon-I and vSmartMOM packages (developed by our team)\n",
    "using CarbonI, vSmartMOM, Printf\n",
    "using CairoMakie, DelimitedFiles, Statistics, Interpolations, NCDatasets, InstrumentOperator, LinearAlgebra\n",
    "using Unitful, UnitfulEquivalences\n",
    "include(joinpath(\"../../src/Plots\", \"CI_colorsNew.jl\"));\n",
    "include(joinpath(dirname(pathof(CarbonI)), \"readSun.jl\"))\n",
    "include(joinpath(dirname(pathof(CarbonI)), \"Requirements\", \"common.jl\"))\n",
    "set_theme!(theme_ggplot2())\n"
   ]
  },
  {
   "cell_type": "code",
   "execution_count": 35,
   "metadata": {},
   "outputs": [
    {
     "data": {
      "text/plain": [
       "320.0"
      ]
     },
     "metadata": {},
     "output_type": "display_data"
    }
   ],
   "source": [
    "# Define numbers from L1 Requirements\n",
    "regional_mode_ch4_error = 8.0             # in ppb\n",
    "regional_mode_co2_error = 1.6             # in ppm\n",
    "regional_mode_co_error = 10.0             # in ppb\n",
    "\n",
    "# Regional Mode (L1-5)\n",
    "regional_mode_grid_resolution = [1000, 1000] # in m\n",
    "regional_mode_revisit_days = 7  # in days\n",
    "regional_mode_region_size = [100, 100]  # in km\n",
    "# Account for median pixel size enhancements for GSD requirements at off-nadir angles\n",
    "offNadir_factor = 1.275 # Account for GSD increase at 30/30 degree off nadir along and across track\n",
    "regional_mode_gsd_req = [50.0*offNadir_factor, 50.0 ]\n",
    "regional_mode_gsd_cbe = [35.0*offNadir_factor, 31.0 ]\n",
    "\n",
    "# Reference Background VMRs\n",
    "background_vmr_ch4 = 1950.0  # in ppb\n",
    "background_vmr_co2 = 410.0   # in ppm\n",
    "background_vmr_n2o = 320.0   # in ppb"
   ]
  },
  {
   "cell_type": "markdown",
   "metadata": {},
   "source": [
    "Now we can compute the potential number of footprints in the regional grid, i.e.\n",
    "$$\n",
    "N_{max} = \\frac{GSD_x \\times GSD_y}{Grid_x \\times Grid_y}\n",
    "$$:"
   ]
  },
  {
   "cell_type": "code",
   "execution_count": 36,
   "metadata": {},
   "outputs": [],
   "source": [
    "# Maximum number of global ground pixels in the 12km box\n",
    "# Req.\n",
    "N_max_req = prod(regional_mode_grid_resolution)/prod(regional_mode_gsd_req);\n",
    "# At CBE\n",
    "N_max_cbe = prod(regional_mode_grid_resolution)/prod(regional_mode_gsd_cbe);"
   ]
  },
  {
   "cell_type": "markdown",
   "metadata": {},
   "source": [
    "For regional mode, we select targets based on optimal visibility, defining a stricter criterion for cloud-free scenes. This demonstrates achievable performance under clear conditions outside the humid tropics, where surface albedo is typically higher. For tropical regions, achieving similar precision would require using a coarser inversion grid—an approach we can also illustrate."
   ]
  },
  {
   "cell_type": "code",
   "execution_count": 37,
   "metadata": {},
   "outputs": [
    {
     "name": "stdout",
     "output_type": "stream",
     "text": [
      "Number of cloud-free Pixel in Required GSD: 314\n",
      "Number of cloud-free Pixel in CBE GSD: 723\n"
     ]
    }
   ],
   "source": [
    "# Number of cloud-free  ground pixels in the 1km box (here)\n",
    "# Req.\n",
    "f_cloud = 1.0\n",
    "N_eff_req = N_max_req * f_cloud;\n",
    "# At CBE\n",
    "N_eff_cbe = N_max_cbe * f_cloud;\n",
    "@printf(\"Number of cloud-free Pixel in Required GSD: %.3g\\n\", N_eff_req)\n",
    "@printf(\"Number of cloud-free Pixel in CBE GSD: %.3g\\n\", N_eff_cbe)"
   ]
  },
  {
   "cell_type": "markdown",
   "metadata": {},
   "source": [
    "We can now derive the requirement for $\\sigma_{s}^{rel}$, as:\n",
    "$$\n",
    "\\sigma_s^{rel} < \\underbrace{\\sigma_{agg}^{rel}}_{Required} \\times \\sqrt{N_{eff}}  \n",
    "$$"
   ]
  },
  {
   "cell_type": "code",
   "execution_count": 38,
   "metadata": {},
   "outputs": [
    {
     "name": "stdout",
     "output_type": "stream",
     "text": [
      "Required Single Measurement Precision for N₂O in percent for req. GSD : 6.91\n",
      "Required Single Measurement Precision for N₂O in percent for CBE specs: 10.5\n"
     ]
    }
   ],
   "source": [
    "sigma_rel_agg_req      =  min(regional_mode_ch4_error/background_vmr_ch4 ,  regional_mode_co2_error/background_vmr_co2)  # This should effectively be the same relative error for CO2 and CH4\n",
    "sigma_rel_SingleSounding_req  =  sigma_rel_agg_req * sqrt(N_eff_req)  \n",
    "sigma_rel_SingleSounding_cbe  =  sigma_rel_agg_req * sqrt(N_eff_cbe)\n",
    "@printf(\"Required Single Measurement Precision for N₂O in percent for req. GSD : %.3g\\n\", 100*sigma_rel_SingleSounding_req)\n",
    "@printf(\"Required Single Measurement Precision for N₂O in percent for CBE specs: %.3g\\n\", 100*sigma_rel_SingleSounding_cbe)"
   ]
  },
  {
   "cell_type": "code",
   "execution_count": 39,
   "metadata": {},
   "outputs": [
    {
     "name": "stdout",
     "output_type": "stream",
     "text": [
      "100sigma_rel_agg_req = 0.39024390243902446\n"
     ]
    },
    {
     "data": {
      "text/plain": [
       "0.39024390243902446"
      ]
     },
     "metadata": {},
     "output_type": "display_data"
    }
   ],
   "source": [
    "@show 100*sigma_rel_agg_req"
   ]
  },
  {
   "cell_type": "markdown",
   "metadata": {},
   "source": [
    "Just to show that the CH4 or CO2 precisions hardly matter for the relative errors:\n",
    "$$\n",
    "\\sigma_{\\mathrm{rel}}(R)\n",
    "\\;=\\;\\sqrt{\\;\\sigma_{\\mathrm{rel}}^2\\!\\bigl(\\Omega_{\\mathrm{CH_4,CO_2}}\\bigr)\n",
    "+\\;\\sigma_{\\mathrm{rel}}^2\\!\\bigl(\\Omega_{\\mathrm{N_2O}}\\bigr)\\,},\n",
    "$$"
   ]
  },
  {
   "cell_type": "code",
   "execution_count": 40,
   "metadata": {},
   "outputs": [
    {
     "name": "stdout",
     "output_type": "stream",
     "text": [
      "Error Enhancement factor if also considering GHG noise: 1.01\n"
     ]
    },
    {
     "data": {
      "text/plain": [
       "1.0101525445522108"
      ]
     },
     "metadata": {},
     "output_type": "display_data"
    }
   ],
   "source": [
    "σ_n2o = 3.5 # Error in %\n",
    "σ_ghg = 0.5 # Error in % (CO2 and CH4, even smaller than that)\n",
    "σ_rel = sqrt(σ_n2o^2 + σ_ghg^2)\n",
    "@printf(\"Error Enhancement factor if also considering GHG noise: %.3g\\n\", σ_rel / σ_n2o)\n",
    "ampl = σ_rel / σ_n2o"
   ]
  },
  {
   "cell_type": "markdown",
   "metadata": {},
   "source": [
    "Now we have to show what instrument specs we require to get to that precision. \n",
    "--> We could bypass SNR and just use our tropical reference scene (with spectrally varying albedo) and compute sigma as function of total system efficiency (i.e. optical throughput and Qe)"
   ]
  },
  {
   "cell_type": "code",
   "execution_count": 41,
   "metadata": {},
   "outputs": [
    {
     "name": "stdout",
     "output_type": "stream",
     "text": [
      "(ds[\"T\"])[iLon, iLat, :, timeIndex] = Union{Missing, Float32}[187.60953, 195.1012, 201.35501, 208.64655, 216.49673, 222.47076, 227.39767, 230.89746, 235.26309, 242.40393, 250.36801, 259.4926, 268.20334, 272.86224, 273.1006, 270.50668, 266.17313, 261.9602, 257.33777, 253.24066, 249.31465, 244.15125, 240.6859, 238.05463, 235.39015, 231.98767, 228.57484, 226.37009, 223.45546, 222.34386, 220.49219, 217.9867, 216.47473, 214.98712, 213.25296, 210.32483, 207.75937, 206.41586, 207.52103, 209.51251, 210.57042, 216.20634, 224.16565, 232.26859, 240.40128, 247.10199, 252.58617, 255.18288, 257.9303, 263.41864, 267.52917, 272.1396, 276.66675, 280.92175, 284.42505, 286.95496, 289.00113, 290.2957, 290.15128, 289.2277, 289.0184, 290.03265, 291.2717, 292.5702, 293.89865, 295.23, 296.56677, 297.8983, 299.22983, 300.5767, 301.94052, 303.46246]\n"
     ]
    }
   ],
   "source": [
    "# Load Reference scenario (Typical scene)\n",
    "scenario = CarbonI.reference_scenario()\n",
    "\n",
    "req_specs = CarbonI.build_instrument(\"Requirement\") \n",
    "cbe_specs = CarbonI.build_instrument(\"CBE\") \n",
    "\n",
    "# Create required Instrument model \n",
    "ins_req = InstrumentOperator.createGratingNoiseModel(req_specs.ET, req_specs.Pitch, \n",
    "\t\treq_specs.FPA_quantum_efficiency, req_specs.bench_efficiency, \n",
    "\t\treq_specs.Fnumber, 2*req_specs.SSI, \n",
    "\t\t(req_specs.readout_noise), req_specs.dark_current); \n",
    "\n",
    "# Create required Instrument model\n",
    "ins_cbe = InstrumentOperator.createGratingNoiseModel(cbe_specs.ET, cbe_specs.Pitch, \n",
    "\t\tcbe_specs.FPA_quantum_efficiency, cbe_specs.bench_efficiency, \n",
    "\t\tcbe_specs.Fnumber, 2*cbe_specs.SSI, \n",
    "\t\t(cbe_specs.readout_noise), cbe_specs.dark_current); \n",
    "\n",
    "soil_req, x_req, solarIrr_req, σ_matrix_req, profile_req, h_req, Sₐ_req = setup_data(scenario, req_specs)\n",
    "soil_cbe, x_cbe, solarIrr_cbe, σ_matrix_cbe, profile_cbe, h_cbe, Sₐ_cbe = setup_data(scenario, cbe_specs);"
   ]
  },
  {
   "cell_type": "code",
   "execution_count": 42,
   "metadata": {},
   "outputs": [],
   "source": [
    "refl_req   = scenario.broadband_albedo * ones(length(req_specs.modelling_wl));"
   ]
  },
  {
   "cell_type": "code",
   "execution_count": 43,
   "metadata": {},
   "outputs": [
    {
     "data": {
      "text/plain": [
       "(Dict{Any, Any}(\"ch4\" => 10.133360299653724, \"h2o\" => 25708.216256993277, \"co\" => 42.50982697820193, \"n2o\" => 19.695585686590995, \"hdo\" => 173818.85695104508, \"c2h6\" => 25.533314216261, \"co2\" => 2192.9966703142454, \"co213\" => 15567.326399293435), [2.9347659998209354, 2.9244170677547787, 2.7861478511231725, 2.458574551410483, 2.3708779581014725, 2.101959738259233, 1.5845150034998492, 1.8872018549331286, 2.487426918603361, 2.544563990075057  …  1.5793954880093588, 1.356428405620226, 0.9376469195457674, 0.8197518012739107, 0.7713671562665957, 0.7435625617427714, 0.689547995241922, 0.32934537134544783, 0.2291102579894721, 0.540061696871597])"
      ]
     },
     "metadata": {},
     "output_type": "display_data"
    }
   ],
   "source": [
    "error_req, F_req = calc_rel_error(req_specs, x_req, solarIrr_req, refl_req, scenario.sza, σ_matrix_req, profile_req, h_req, ins_req, Sₐ_req, return_F=true) \n",
    "error_cbe, F_cbe = calc_rel_error(cbe_specs, x_cbe, solarIrr_cbe, refl_req, scenario.sza, σ_matrix_cbe, profile_cbe, h_cbe, ins_cbe, Sₐ_cbe, return_F=true) "
   ]
  },
  {
   "cell_type": "code",
   "execution_count": 44,
   "metadata": {},
   "outputs": [
    {
     "name": "stdout",
     "output_type": "stream",
     "text": [
      "error_cbe[\"co\"] = 42.50982697820193\n"
     ]
    },
    {
     "data": {
      "text/plain": [
       "42.50982697820193"
      ]
     },
     "metadata": {},
     "output_type": "display_data"
    }
   ],
   "source": [
    "@show error_cbe[\"co\"]"
   ]
  },
  {
   "cell_type": "code",
   "execution_count": 45,
   "metadata": {},
   "outputs": [
    {
     "name": "stdout",
     "output_type": "stream",
     "text": [
      "error_cbe_50[\"n2o\"] / background_vmr_n2o = 0.05292962784781352\n"
     ]
    },
    {
     "data": {
      "text/plain": [
       "0.05292962784781352"
      ]
     },
     "metadata": {},
     "output_type": "display_data"
    }
   ],
   "source": [
    "# Recompute for CBE but at 50m, i.e. 57ms\n",
    "ins = InstrumentOperator.createGratingNoiseModel(57.0u\"ms\", cbe_specs.Pitch, cbe_specs.FPA_quantum_efficiency, cbe_specs.bench_efficiency, \n",
    "cbe_specs.Fnumber, 2*cbe_specs.SSI, (cbe_specs.readout_noise), cbe_specs.dark_current); \n",
    "error_cbe_50, F_cbe = calc_rel_error(cbe_specs, x_cbe, solarIrr_cbe, refl_req, scenario.sza, σ_matrix_cbe, profile_cbe, h_cbe, ins, Sₐ_cbe, return_F=true) \n",
    "@show error_cbe_50[\"n2o\"]/background_vmr_n2o"
   ]
  },
  {
   "cell_type": "code",
   "execution_count": 46,
   "metadata": {},
   "outputs": [
    {
     "data": {
      "image/png": "[encoded data removed]"
     },
     "metadata": {},
     "output_type": "display_data"
    }
   ],
   "source": [
    "refRadiance = 1.0e16 # in photons/s/m²/nm\n",
    "from_w_to_photons = 5.03e12\n",
    "f = Figure(resolution=(550,400))\n",
    "ax = Axis(f[1,1], xlabel=\"Wavelength (nm)\", ylabel=\"Reflected Radiance (10¹⁶ photons/s/m²/nm)\",  title=\"Reference Scenario \")\n",
    "lines!(ax, cbe_specs.instrument_wl,F_cbe * from_w_to_photons .* cbe_specs.instrument_wl/1e16, color=CarbonI_colors[1], linewidth=2, label=\"CBE\")\n",
    "lines!(ax, req_specs.instrument_wl,F_req * from_w_to_photons .* req_specs.instrument_wl/1e16, color=CarbonI_colors[3], linewidth=1, label=\"Requirement\")\n",
    "lines!(ax, [2035,2375], [refRadiance/1e16,refRadiance/1e16], color=:black, linestyle=:dash, linewidth=1, label=\"Reference Radiance\")\n",
    "xlims!(ax, 2033, 2378)\n",
    "axislegend(ax,position = :lb)\n",
    "save(\"../../plots/final/Level1-4-BaselineScenario.pdf\",f)\n",
    "f"
   ]
  },
  {
   "cell_type": "code",
   "execution_count": null,
   "metadata": {},
   "outputs": [],
   "source": [
    "# Now vary total efficiency at two different readout noise levels:\n",
    "\n",
    "TotalEfficiencies = 0.3:0.05:1.0\n",
    "n2o_errors_100 = zeros(length(TotalEfficiencies))\n",
    "n2o_errors_120 = zeros(length(TotalEfficiencies))\n",
    "for (i,efficiency) in enumerate(TotalEfficiencies)\n",
    "    # Create instrument Specs here:\n",
    "    # (here we need to use 57ms integration time for req. as we count 50m pixels along track dimension)\n",
    "    ins_req_100 = InstrumentOperator.createGratingNoiseModel(57.0u\"ms\", req_specs.Pitch, 1.0, efficiency, req_specs.Fnumber, 2*req_specs.SSI, (100.0), req_specs.dark_current); \n",
    "    ins_req_120 = InstrumentOperator.createGratingNoiseModel(57.0u\"ms\", req_specs.Pitch, 1.0, efficiency, req_specs.Fnumber, 2*req_specs.SSI, (120.0), req_specs.dark_current); \n",
    "    \n",
    "    # Create an error for 100 and 120e- for the respective efficiency\n",
    "    error_varied_100 = calc_rel_error(req_specs, x_req, solarIrr_req, refl_req, scenario.sza, σ_matrix_req, profile_req, h_req, ins_req_100, Sₐ_req) \n",
    "    error_varied_120 = calc_rel_error(req_specs, x_req, solarIrr_req, refl_req, scenario.sza, σ_matrix_req, profile_req, h_req, ins_req_120, Sₐ_req) \n",
    "    \n",
    "    # Store Data (no co-adding applied here)\n",
    "    n2o_errors_100[i] = error_varied_100[\"n2o\"]/background_vmr_n2o\n",
    "    n2o_errors_120[i] = error_varied_120[\"n2o\"]/background_vmr_n2o\n",
    "end"
   ]
  },
  {
   "cell_type": "code",
   "execution_count": null,
   "metadata": {},
   "outputs": [],
   "source": [
    "# Create an interpolation function to get the required optical efficiency for a given readout noise and proxy error for N2O\n",
    "# Annoying as it requires ascending order in the x-axis\n",
    "efficiency_100 = LinearInterpolation(reverse(100(n2o_errors_100)), reverse(TotalEfficiencies), extrapolation_bc=Line());\n",
    "efficiency_120 = LinearInterpolation(reverse(100(n2o_errors_120)), reverse(TotalEfficiencies), extrapolation_bc=Line());"
   ]
  },
  {
   "cell_type": "code",
   "execution_count": null,
   "metadata": {},
   "outputs": [],
   "source": [
    "f = Figure(resolution=(550,400))\n",
    "lowerLim = 4.0\n",
    "ax = Axis(f[1,1], xlabel=\"Total System Efficiency\", ylabel=\"Precision Error in Proxy (%)\",  title=\"Reference Scenario Level 1-4 Requirement\")\n",
    "lines!(ax, TotalEfficiencies, n2o_errors_100*100, color=CarbonI_colors[1], linewidth=2, label=\"Readout Noise = 100e⁻\")\n",
    "lines!(ax, TotalEfficiencies, n2o_errors_120*100, color=CarbonI_colors[3], linewidth=2, label=\"Readout Noise = 120e⁻\")\n",
    "\n",
    "req_error        = 100*sigma_rel_SingleSounding_req /ampl\n",
    "req_error_cbeGSD = 100*sigma_rel_SingleSounding_cbe /ampl\n",
    "req_eff = efficiency_100(req_error)\n",
    "req_eff_120 = efficiency_120(req_error)\n",
    "eff_cbe = cbe_specs.bench_efficiency * cbe_specs.FPA_quantum_efficiency\n",
    "\n",
    "arrows!(ax, [0.0,],[req_error,],[req_eff-0.01,],[0,],arrowsize = 10, linewidth=2,color = CarbonI_colors[5])\n",
    "arrows!(ax, [0.0,],[req_error,],[req_eff_120-0.01,],[0,],arrowsize = 10, linewidth=2,linestyle=:dot, color = CarbonI_colors[5])\n",
    "arrows!(ax, [req_eff_120,],[req_error,],[eff_cbe-req_eff_120-0.005,],[0,],arrowsize = 10, linewidth=2,linestyle=:dot, color = :black)\n",
    "text!(ax, \"Margin\", position = (0.5, req_error),  align = (:center, :bottom), color = :black)\n",
    "arrows!(ax, [req_eff,],[req_error,],[0,],[-req_error+lowerLim + 0.05,],arrowsize = 10, linewidth=2,color = CarbonI_colors[5])\n",
    "text!(ax, \"Req: > $(round(Int, 100req_eff))%\", position = (req_eff, 5.5),\n",
    "    align = (:center, :bottom), color = :black, rotation=π/2)\n",
    "\n",
    "arrows!(ax, [req_eff_120,],[req_error,],[0,],[-req_error+lowerLim+0.05,],arrowsize = 10, linewidth=2,linestyle=:dot, color = CarbonI_colors[5])\n",
    "text!(ax, \"Req: > $(round(Int, 100req_eff_120))%\", position = (req_eff_120, 5.5),\n",
    "    align = (:center, :bottom), color = :black, rotation=π/2)\n",
    "lines!(ax, [eff_cbe,eff_cbe], [2,10], color=:black, linestyle=:dash, linewidth=2, label=\"CBE Total Efficiency\")\n",
    "#arrows!(ax2, [req_percent_ch4,],[req_flux_ch4,],[-req_percent_ch4+1,],[0,],arrowsize = 10, linewidth=2,color = CarbonI_colors[5])\n",
    "#text!(ax2, \"Req. >90%\", position = (req_percent_ch4, 25),\n",
    "#      align = (:center, :bottom), color = :black, rotation=π/2)\n",
    "\n",
    "axislegend(ax,position = :rt)\n",
    "xlims!(ax,0.3,0.8)\n",
    "ylims!(ax,lowerLim,10)\n",
    "save(\"../../plots/final/Level1-4-L1-5-reqs.pdf\",f)\n",
    "f"
   ]
  },
  {
   "cell_type": "code",
   "execution_count": null,
   "metadata": {},
   "outputs": [],
   "source": []
  },
  {
   "cell_type": "code",
   "execution_count": null,
   "metadata": {},
   "outputs": [],
   "source": [
    "ins_req_forSNR = InstrumentOperator.createGratingNoiseModel(44.0u\"ms\", req_specs.Pitch, 1.0, req_eff_120, req_specs.Fnumber, 2*req_specs.SSI, (120.0), req_specs.dark_current);\n",
    "ins_cbe_forSNR = InstrumentOperator.createGratingNoiseModel(44.0u\"ms\", cbe_specs.Pitch, 1.0, eff_cbe, cbe_specs.Fnumber, 2*cbe_specs.SSI, (100.0), cbe_specs.dark_current);\n",
    "# Use reference Wavelength here (just for conversion)\n",
    "ref_wl = 2250;\n",
    "\n",
    "refRadiance = 1.0e16 # in photons/s/m²/nm\n",
    "refRadiance_mw = refRadiance / from_w_to_photons / ref_wl\n",
    "nesr_req_forSNR = InstrumentOperator.noise_equivalent_radiance(ins_req_forSNR, (ref_wl)u\"nm\", (refRadiance_mw)u\"mW/m^2/nm/sr\");\n",
    "nesr_cbe_forSNR = InstrumentOperator.noise_equivalent_radiance(ins_cbe_forSNR, (ref_wl)u\"nm\", (refRadiance_mw)u\"mW/m^2/nm/sr\");\n",
    "\n",
    "# @show refRadiance_mw/(nesr_req_forSNR[1]./1u\"mW/m^2/nm/sr\"), refRadiance_mw/(nesr_cbe_forSNR[1]./1u\"mW/m^2/nm/sr\")\n",
    "@printf(\"Required SNR @1e16 photons/m2/sr/nm/s: %.2g ppb\\n\",  refRadiance_mw/(nesr_req_forSNR[1]./1u\"mW/m^2/nm/sr\"))\n",
    "@printf(\"CBE      SNR @1e16 photons/m2/sr/nm/s: %.2g ppb\",  refRadiance_mw/(nesr_cbe_forSNR[1]./1u\"mW/m^2/nm/sr\"))"
   ]
  },
  {
   "cell_type": "code",
   "execution_count": null,
   "metadata": {},
   "outputs": [],
   "source": [
    "@show profile_req"
   ]
  },
  {
   "cell_type": "code",
   "execution_count": null,
   "metadata": {},
   "outputs": [],
   "source": [
    "# Computing CBE for L1-5:\n",
    "proxy_error = error_cbe[\"n2o\"]/background_vmr_n2o\n",
    "sigma_rel_cbe_agg = proxy_error / sqrt(N_eff_cbe)\n",
    "@printf(\"CBE Standard Error for CH₄ : %.2g ppb\\n\", sigma_rel_cbe_agg*background_vmr_ch4) \n",
    "@printf(\"CBE Standard Error for CO₂ : %.2g ppm\\n\", sigma_rel_cbe_agg*background_vmr_co2)\n",
    "@printf(\"CBE Standard Error for CO  : %.2g ppb\\n\", error_cbe[\"co\"]/ sqrt(N_eff_cbe))"
   ]
  }
 ],
 "metadata": {
  "kernelspec": {
   "display_name": "Julia 1.11.4",
   "language": "julia",
   "name": "julia-1.11"
  },
  "language_info": {
   "file_extension": ".jl",
   "mimetype": "application/julia",
   "name": "julia",
   "version": "1.11.4"
  }
 },
 "nbformat": 4,
 "nbformat_minor": 2
}
