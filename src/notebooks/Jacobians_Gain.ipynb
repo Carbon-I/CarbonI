{
 "cells": [
  {
   "cell_type": "markdown",
   "metadata": {},
   "source": [
    "## Jacobians and Gain matrix at a typical state to assess sensitivities\n",
    "\n"
   ]
  },
  {
   "cell_type": "markdown",
   "metadata": {},
   "source": [
    "> First, we need to import some packages in Julia"
   ]
  },
  {
   "cell_type": "code",
   "execution_count": 16,
   "metadata": {},
   "outputs": [
    {
     "name": "stderr",
     "output_type": "stream",
     "text": [
      "\u001b[32m\u001b[1m  Activating\u001b[22m\u001b[39m project at `~/code/gitHub/CarbonI`\n"
     ]
    },
    {
     "data": {
      "text/plain": [
       "setup_data (generic function with 1 method)"
      ]
     },
     "metadata": {},
     "output_type": "display_data"
    }
   ],
   "source": [
    "using Pkg\n",
    "Pkg.activate(\"../..\"); # Actives the environment at the root of the project\n",
    "# Using our Carbon-I and vSmartMOM packages (developed by our team)\n",
    "using CarbonI\n",
    "using  CairoMakie, Interpolations\n",
    "using InstrumentOperator, Unitful, Interpolations, DiffResults, NCDatasets, LinearAlgebra, ForwardDiff\n",
    "include(joinpath(dirname(pathof(CarbonI)), \"Requirements\", \"common.jl\"))"
   ]
  },
  {
   "cell_type": "code",
   "execution_count": 12,
   "metadata": {},
   "outputs": [
    {
     "name": "stdout",
     "output_type": "stream",
     "text": [
      "(ds[\"T\"])[iLon, iLat, :, timeIndex] = Union{Missing, Float32}[187.60953, 195.1012, 201.35501, 208.64655, 216.49673, 222.47076, 227.39767, 230.89746, 235.26309, 242.40393, 250.36801, 259.4926, 268.20334, 272.86224, 273.1006, 270.50668, 266.17313, 261.9602, 257.33777, 253.24066, 249.31465, 244.15125, 240.6859, 238.05463, 235.39015, 231.98767, 228.57484, 226.37009, 223.45546, 222.34386, 220.49219, 217.9867, 216.47473, 214.98712, 213.25296, 210.32483, 207.75937, 206.41586, 207.52103, 209.51251, 210.57042, 216.20634, 224.16565, 232.26859, 240.40128, 247.10199, 252.58617, 255.18288, 257.9303, 263.41864, 267.52917, 272.1396, 276.66675, 280.92175, 284.42505, 286.95496, 289.00113, 290.2957, 290.15128, 289.2277, 289.0184, 290.03265, 291.2717, 292.5702, 293.89865, 295.23, 296.56677, 297.8983, 299.22983, 300.5767, 301.94052, 303.46246]\n"
     ]
    },
    {
     "data": {
      "text/plain": [
       "40.0"
      ]
     },
     "metadata": {},
     "output_type": "display_data"
    }
   ],
   "source": [
    "scenario = CarbonI.reference_scenario() \n",
    "specs = CarbonI.build_instrument(\"CBE\")\n",
    "#specs = CarbonI.build_instrument(\"Requirement\")\n",
    "\n",
    "# Create an instrument with the specs\n",
    "ins = InstrumentOperator.createGratingNoiseModel(specs.ET, specs.Pitch, \n",
    "\tspecs.FPA_quantum_efficiency, specs.bench_efficiency, \n",
    "\tspecs.Fnumber, 2*specs.SSI, \n",
    "\t(specs.readout_noise), specs.dark_current); \n",
    "\n",
    "soil, x, solarIrr, σ_matrix, profile, h, Sₐ = setup_data(scenario, specs)\n",
    "sza = 40.0 # Solar zenith angle in degrees"
   ]
  },
  {
   "cell_type": "code",
   "execution_count": 17,
   "metadata": {},
   "outputs": [],
   "source": [
    "refl = soil(specs.modelling_wl)\n",
    "# Run Forward model and Jacobian generation together:\n",
    "result = DiffResults.JacobianResult(zeros(length(specs.instrument_wl)),x);\n",
    "\n",
    "ForwardDiff.jacobian!(result, (x) -> \n",
    "forward_model_x_(x, \n",
    "\t\t\t\tsun=solarIrr, \n",
    "\t\t\t\tinstrument=specs.instrument_kernel,\n",
    "\t\t\t\treflectance=refl, \n",
    "\t\t\t\tsza=sza, \n",
    "\t\t\t\tσ_matrix=σ_matrix, \n",
    "\t\t\t\tprofile=profile,\n",
    "\t\t\t\twl=specs.modelling_wl), x);\n",
    "K = DiffResults.jacobian(result);\n",
    "F = DiffResults.value(result);  \n",
    "\n",
    "# Compute noise equivalent radiance:\n",
    "nesr = InstrumentOperator.noise_equivalent_radiance(ins,(specs.instrument_wl)u\"nm\", (F)u\"mW/m^2/nm/sr\");\n",
    "nesr_ = nesr./1u\"mW/m^2/nm/sr\"\n",
    "\n",
    "# Generate S\\_epsilon matrix\n",
    "Se = Diagonal(nesr_.^2);\n",
    "\n",
    "# Compute the Gain Matrix:\n",
    "G = inv(K'inv(Se)K + inv(Sₐ))K'inv(Se);\n",
    "\n",
    "# Posterior covariance matrix (Profile retrievals, 10 layers):\n",
    "Ŝ = inv(K'inv(Se)K + inv(Sₐ));"
   ]
  },
  {
   "cell_type": "code",
   "execution_count": null,
   "metadata": {},
   "outputs": [
    {
     "data": {
      "text/plain": [
       "20"
      ]
     },
     "metadata": {},
     "output_type": "display_data"
    }
   ],
   "source": [
    "iHDO = findall(h[\"hdo\"].>0)[end];\n",
    "iH20 = findall(h[\"h2o\"].>0)[end];"
   ]
  },
  {
   "cell_type": "code",
   "execution_count": 29,
   "metadata": {},
   "outputs": [
    {
     "ename": "UndefVarError",
     "evalue": "UndefVarError: `iH2O` not defined in `Main`\nSuggestion: check for spelling errors or missing imports.",
     "output_type": "error",
     "traceback": [
      "UndefVarError: `iH2O` not defined in `Main`\n",
      "Suggestion: check for spelling errors or missing imports.\n",
      "\n",
      "Stacktrace:\n",
      " [1] top-level scope\n",
      "   @ ~/code/gitHub/CarbonI/src/notebooks/jl_notebook_cell_df34fa98e69747e1a8f8a730347b8e2f_X20sdnNjb2RlLXJlbW90ZQ==.jl:6"
     ]
    }
   ],
   "source": [
    "f = Figure(resolution=(550,400), backgroundcolor=:transparent)\n",
    "ax = Axis(f[1,1], xlabel=\"Wavelength (nm)\", ylabel=\"Jacobian\", title=\"Water Jacobians\")\n",
    "# For CH4 (100 and 120e-)\n",
    "al = 0.8\n",
    "hdo = lines!(ax, specs.instrument_wl, K[:,iHDO], color=:black, linewidth=2, label=\"HDO\", alpha=al)\n",
    "h2o = lines!(ax, specs.instrument_wl, K[:,iH2O], color=:red, linewidth=2, label=\"H₂O\", alpha=al)\n",
    "\n",
    "\n",
    "f"
   ]
  },
  {
   "cell_type": "code",
   "execution_count": null,
   "metadata": {},
   "outputs": [],
   "source": []
  }
 ],
 "metadata": {
  "kernelspec": {
   "display_name": "Julia 1.11.4",
   "language": "julia",
   "name": "julia-1.11"
  },
  "language_info": {
   "file_extension": ".jl",
   "mimetype": "application/julia",
   "name": "julia",
   "version": "1.11.4"
  }
 },
 "nbformat": 4,
 "nbformat_minor": 2
}
